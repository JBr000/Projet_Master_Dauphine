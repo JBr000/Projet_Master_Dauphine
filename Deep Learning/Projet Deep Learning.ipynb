{
 "cells": [
  {
   "cell_type": "code",
   "execution_count": 1,
   "metadata": {
    "ExecuteTime": {
     "end_time": "2019-07-19T01:06:01.441741Z",
     "start_time": "2019-07-19T01:05:59.000545Z"
    }
   },
   "outputs": [
    {
     "name": "stderr",
     "output_type": "stream",
     "text": [
      "Using TensorFlow backend.\n"
     ]
    }
   ],
   "source": [
    "import pandas as pd\n",
    "import numpy as np\n",
    "import matplotlib.pyplot as plt\n",
    "from sklearn.metrics import accuracy_score\n",
    "\n",
    "import keras\n",
    "import random\n",
    "from keras.models import Sequential\n",
    "from keras.layers import Dense, Dropout, Flatten\n",
    "from keras.layers import Conv2D\n",
    "from sklearn.utils import shuffle\n",
    "import time\n",
    "\n",
    "import seaborn as sns\n",
    "import dill     "
   ]
  },
  {
   "cell_type": "code",
   "execution_count": 2,
   "metadata": {},
   "outputs": [],
   "source": [
    "filename = 'globalsave2.pkl'"
   ]
  },
  {
   "cell_type": "code",
   "execution_count": 88,
   "metadata": {},
   "outputs": [
    {
     "ename": "MemoryError",
     "evalue": "",
     "output_type": "error",
     "traceback": [
      "\u001b[1;31m---------------------------------------------------------------------------\u001b[0m",
      "\u001b[1;31mMemoryError\u001b[0m                               Traceback (most recent call last)",
      "\u001b[1;32m<ipython-input-88-e617c52c0621>\u001b[0m in \u001b[0;36m<module>\u001b[1;34m\u001b[0m\n\u001b[0;32m      1\u001b[0m \u001b[0mfilename\u001b[0m \u001b[1;33m=\u001b[0m \u001b[1;34m'globalsave2.pkl'\u001b[0m\u001b[1;33m\u001b[0m\u001b[1;33m\u001b[0m\u001b[0m\n\u001b[1;32m----> 2\u001b[1;33m \u001b[0mdill\u001b[0m\u001b[1;33m.\u001b[0m\u001b[0mdump_session\u001b[0m\u001b[1;33m(\u001b[0m\u001b[0mfilename\u001b[0m\u001b[1;33m)\u001b[0m\u001b[1;33m\u001b[0m\u001b[1;33m\u001b[0m\u001b[0m\n\u001b[0m",
      "\u001b[1;32m~\\Anaconda3\\envs\\tf_gpu\\lib\\site-packages\\dill\\_dill.py\u001b[0m in \u001b[0;36mdump_session\u001b[1;34m(filename, main, byref)\u001b[0m\n\u001b[0;32m    391\u001b[0m         \u001b[0mpickler\u001b[0m\u001b[1;33m.\u001b[0m\u001b[0m_recurse\u001b[0m \u001b[1;33m=\u001b[0m \u001b[1;32mFalse\u001b[0m \u001b[1;31m# disable pickling recursion for globals\u001b[0m\u001b[1;33m\u001b[0m\u001b[1;33m\u001b[0m\u001b[0m\n\u001b[0;32m    392\u001b[0m         \u001b[0mpickler\u001b[0m\u001b[1;33m.\u001b[0m\u001b[0m_session\u001b[0m \u001b[1;33m=\u001b[0m \u001b[1;32mTrue\u001b[0m  \u001b[1;31m# is best indicator of when pickling a session\u001b[0m\u001b[1;33m\u001b[0m\u001b[1;33m\u001b[0m\u001b[0m\n\u001b[1;32m--> 393\u001b[1;33m         \u001b[0mpickler\u001b[0m\u001b[1;33m.\u001b[0m\u001b[0mdump\u001b[0m\u001b[1;33m(\u001b[0m\u001b[0mmain\u001b[0m\u001b[1;33m)\u001b[0m\u001b[1;33m\u001b[0m\u001b[1;33m\u001b[0m\u001b[0m\n\u001b[0m\u001b[0;32m    394\u001b[0m     \u001b[1;32mfinally\u001b[0m\u001b[1;33m:\u001b[0m\u001b[1;33m\u001b[0m\u001b[1;33m\u001b[0m\u001b[0m\n\u001b[0;32m    395\u001b[0m         \u001b[1;32mif\u001b[0m \u001b[0mf\u001b[0m \u001b[1;32mis\u001b[0m \u001b[1;32mnot\u001b[0m \u001b[0mfilename\u001b[0m\u001b[1;33m:\u001b[0m  \u001b[1;31m# If newly opened file\u001b[0m\u001b[1;33m\u001b[0m\u001b[1;33m\u001b[0m\u001b[0m\n",
      "\u001b[1;32m~\\Anaconda3\\envs\\tf_gpu\\lib\\pickle.py\u001b[0m in \u001b[0;36mdump\u001b[1;34m(self, obj)\u001b[0m\n\u001b[0;32m    435\u001b[0m         \u001b[1;32mif\u001b[0m \u001b[0mself\u001b[0m\u001b[1;33m.\u001b[0m\u001b[0mproto\u001b[0m \u001b[1;33m>=\u001b[0m \u001b[1;36m4\u001b[0m\u001b[1;33m:\u001b[0m\u001b[1;33m\u001b[0m\u001b[1;33m\u001b[0m\u001b[0m\n\u001b[0;32m    436\u001b[0m             \u001b[0mself\u001b[0m\u001b[1;33m.\u001b[0m\u001b[0mframer\u001b[0m\u001b[1;33m.\u001b[0m\u001b[0mstart_framing\u001b[0m\u001b[1;33m(\u001b[0m\u001b[1;33m)\u001b[0m\u001b[1;33m\u001b[0m\u001b[1;33m\u001b[0m\u001b[0m\n\u001b[1;32m--> 437\u001b[1;33m         \u001b[0mself\u001b[0m\u001b[1;33m.\u001b[0m\u001b[0msave\u001b[0m\u001b[1;33m(\u001b[0m\u001b[0mobj\u001b[0m\u001b[1;33m)\u001b[0m\u001b[1;33m\u001b[0m\u001b[1;33m\u001b[0m\u001b[0m\n\u001b[0m\u001b[0;32m    438\u001b[0m         \u001b[0mself\u001b[0m\u001b[1;33m.\u001b[0m\u001b[0mwrite\u001b[0m\u001b[1;33m(\u001b[0m\u001b[0mSTOP\u001b[0m\u001b[1;33m)\u001b[0m\u001b[1;33m\u001b[0m\u001b[1;33m\u001b[0m\u001b[0m\n\u001b[0;32m    439\u001b[0m         \u001b[0mself\u001b[0m\u001b[1;33m.\u001b[0m\u001b[0mframer\u001b[0m\u001b[1;33m.\u001b[0m\u001b[0mend_framing\u001b[0m\u001b[1;33m(\u001b[0m\u001b[1;33m)\u001b[0m\u001b[1;33m\u001b[0m\u001b[1;33m\u001b[0m\u001b[0m\n",
      "\u001b[1;32m~\\Anaconda3\\envs\\tf_gpu\\lib\\pickle.py\u001b[0m in \u001b[0;36msave\u001b[1;34m(self, obj, save_persistent_id)\u001b[0m\n\u001b[0;32m    502\u001b[0m         \u001b[0mf\u001b[0m \u001b[1;33m=\u001b[0m \u001b[0mself\u001b[0m\u001b[1;33m.\u001b[0m\u001b[0mdispatch\u001b[0m\u001b[1;33m.\u001b[0m\u001b[0mget\u001b[0m\u001b[1;33m(\u001b[0m\u001b[0mt\u001b[0m\u001b[1;33m)\u001b[0m\u001b[1;33m\u001b[0m\u001b[1;33m\u001b[0m\u001b[0m\n\u001b[0;32m    503\u001b[0m         \u001b[1;32mif\u001b[0m \u001b[0mf\u001b[0m \u001b[1;32mis\u001b[0m \u001b[1;32mnot\u001b[0m \u001b[1;32mNone\u001b[0m\u001b[1;33m:\u001b[0m\u001b[1;33m\u001b[0m\u001b[1;33m\u001b[0m\u001b[0m\n\u001b[1;32m--> 504\u001b[1;33m             \u001b[0mf\u001b[0m\u001b[1;33m(\u001b[0m\u001b[0mself\u001b[0m\u001b[1;33m,\u001b[0m \u001b[0mobj\u001b[0m\u001b[1;33m)\u001b[0m \u001b[1;31m# Call unbound method with explicit self\u001b[0m\u001b[1;33m\u001b[0m\u001b[1;33m\u001b[0m\u001b[0m\n\u001b[0m\u001b[0;32m    505\u001b[0m             \u001b[1;32mreturn\u001b[0m\u001b[1;33m\u001b[0m\u001b[1;33m\u001b[0m\u001b[0m\n\u001b[0;32m    506\u001b[0m \u001b[1;33m\u001b[0m\u001b[0m\n",
      "\u001b[1;32m~\\Anaconda3\\envs\\tf_gpu\\lib\\site-packages\\dill\\_dill.py\u001b[0m in \u001b[0;36msave_module\u001b[1;34m(pickler, obj)\u001b[0m\n\u001b[0;32m   1275\u001b[0m                 + [\"__builtins__\", \"__loader__\"]]\n\u001b[0;32m   1276\u001b[0m             pickler.save_reduce(_import_module, (obj.__name__,), obj=obj,\n\u001b[1;32m-> 1277\u001b[1;33m                                 state=_main_dict)\n\u001b[0m\u001b[0;32m   1278\u001b[0m             \u001b[0mlog\u001b[0m\u001b[1;33m.\u001b[0m\u001b[0minfo\u001b[0m\u001b[1;33m(\u001b[0m\u001b[1;34m\"# M1\"\u001b[0m\u001b[1;33m)\u001b[0m\u001b[1;33m\u001b[0m\u001b[1;33m\u001b[0m\u001b[0m\n\u001b[0;32m   1279\u001b[0m         \u001b[1;32melse\u001b[0m\u001b[1;33m:\u001b[0m\u001b[1;33m\u001b[0m\u001b[1;33m\u001b[0m\u001b[0m\n",
      "\u001b[1;32m~\\Anaconda3\\envs\\tf_gpu\\lib\\pickle.py\u001b[0m in \u001b[0;36msave_reduce\u001b[1;34m(self, func, args, state, listitems, dictitems, obj)\u001b[0m\n\u001b[0;32m    660\u001b[0m \u001b[1;33m\u001b[0m\u001b[0m\n\u001b[0;32m    661\u001b[0m         \u001b[1;32mif\u001b[0m \u001b[0mstate\u001b[0m \u001b[1;32mis\u001b[0m \u001b[1;32mnot\u001b[0m \u001b[1;32mNone\u001b[0m\u001b[1;33m:\u001b[0m\u001b[1;33m\u001b[0m\u001b[1;33m\u001b[0m\u001b[0m\n\u001b[1;32m--> 662\u001b[1;33m             \u001b[0msave\u001b[0m\u001b[1;33m(\u001b[0m\u001b[0mstate\u001b[0m\u001b[1;33m)\u001b[0m\u001b[1;33m\u001b[0m\u001b[1;33m\u001b[0m\u001b[0m\n\u001b[0m\u001b[0;32m    663\u001b[0m             \u001b[0mwrite\u001b[0m\u001b[1;33m(\u001b[0m\u001b[0mBUILD\u001b[0m\u001b[1;33m)\u001b[0m\u001b[1;33m\u001b[0m\u001b[1;33m\u001b[0m\u001b[0m\n\u001b[0;32m    664\u001b[0m \u001b[1;33m\u001b[0m\u001b[0m\n",
      "\u001b[1;32m~\\Anaconda3\\envs\\tf_gpu\\lib\\pickle.py\u001b[0m in \u001b[0;36msave\u001b[1;34m(self, obj, save_persistent_id)\u001b[0m\n\u001b[0;32m    502\u001b[0m         \u001b[0mf\u001b[0m \u001b[1;33m=\u001b[0m \u001b[0mself\u001b[0m\u001b[1;33m.\u001b[0m\u001b[0mdispatch\u001b[0m\u001b[1;33m.\u001b[0m\u001b[0mget\u001b[0m\u001b[1;33m(\u001b[0m\u001b[0mt\u001b[0m\u001b[1;33m)\u001b[0m\u001b[1;33m\u001b[0m\u001b[1;33m\u001b[0m\u001b[0m\n\u001b[0;32m    503\u001b[0m         \u001b[1;32mif\u001b[0m \u001b[0mf\u001b[0m \u001b[1;32mis\u001b[0m \u001b[1;32mnot\u001b[0m \u001b[1;32mNone\u001b[0m\u001b[1;33m:\u001b[0m\u001b[1;33m\u001b[0m\u001b[1;33m\u001b[0m\u001b[0m\n\u001b[1;32m--> 504\u001b[1;33m             \u001b[0mf\u001b[0m\u001b[1;33m(\u001b[0m\u001b[0mself\u001b[0m\u001b[1;33m,\u001b[0m \u001b[0mobj\u001b[0m\u001b[1;33m)\u001b[0m \u001b[1;31m# Call unbound method with explicit self\u001b[0m\u001b[1;33m\u001b[0m\u001b[1;33m\u001b[0m\u001b[0m\n\u001b[0m\u001b[0;32m    505\u001b[0m             \u001b[1;32mreturn\u001b[0m\u001b[1;33m\u001b[0m\u001b[1;33m\u001b[0m\u001b[0m\n\u001b[0;32m    506\u001b[0m \u001b[1;33m\u001b[0m\u001b[0m\n",
      "\u001b[1;32m~\\Anaconda3\\envs\\tf_gpu\\lib\\site-packages\\dill\\_dill.py\u001b[0m in \u001b[0;36msave_module_dict\u001b[1;34m(pickler, obj)\u001b[0m\n\u001b[0;32m    908\u001b[0m             \u001b[1;31m# we only care about session the first pass thru\u001b[0m\u001b[1;33m\u001b[0m\u001b[1;33m\u001b[0m\u001b[1;33m\u001b[0m\u001b[0m\n\u001b[0;32m    909\u001b[0m             \u001b[0mpickler\u001b[0m\u001b[1;33m.\u001b[0m\u001b[0m_session\u001b[0m \u001b[1;33m=\u001b[0m \u001b[1;32mFalse\u001b[0m\u001b[1;33m\u001b[0m\u001b[1;33m\u001b[0m\u001b[0m\n\u001b[1;32m--> 910\u001b[1;33m         \u001b[0mStockPickler\u001b[0m\u001b[1;33m.\u001b[0m\u001b[0msave_dict\u001b[0m\u001b[1;33m(\u001b[0m\u001b[0mpickler\u001b[0m\u001b[1;33m,\u001b[0m \u001b[0mobj\u001b[0m\u001b[1;33m)\u001b[0m\u001b[1;33m\u001b[0m\u001b[1;33m\u001b[0m\u001b[0m\n\u001b[0m\u001b[0;32m    911\u001b[0m         \u001b[0mlog\u001b[0m\u001b[1;33m.\u001b[0m\u001b[0minfo\u001b[0m\u001b[1;33m(\u001b[0m\u001b[1;34m\"# D2\"\u001b[0m\u001b[1;33m)\u001b[0m\u001b[1;33m\u001b[0m\u001b[1;33m\u001b[0m\u001b[0m\n\u001b[0;32m    912\u001b[0m     \u001b[1;32mreturn\u001b[0m\u001b[1;33m\u001b[0m\u001b[1;33m\u001b[0m\u001b[0m\n",
      "\u001b[1;32m~\\Anaconda3\\envs\\tf_gpu\\lib\\pickle.py\u001b[0m in \u001b[0;36msave_dict\u001b[1;34m(self, obj)\u001b[0m\n\u001b[0;32m    854\u001b[0m \u001b[1;33m\u001b[0m\u001b[0m\n\u001b[0;32m    855\u001b[0m         \u001b[0mself\u001b[0m\u001b[1;33m.\u001b[0m\u001b[0mmemoize\u001b[0m\u001b[1;33m(\u001b[0m\u001b[0mobj\u001b[0m\u001b[1;33m)\u001b[0m\u001b[1;33m\u001b[0m\u001b[1;33m\u001b[0m\u001b[0m\n\u001b[1;32m--> 856\u001b[1;33m         \u001b[0mself\u001b[0m\u001b[1;33m.\u001b[0m\u001b[0m_batch_setitems\u001b[0m\u001b[1;33m(\u001b[0m\u001b[0mobj\u001b[0m\u001b[1;33m.\u001b[0m\u001b[0mitems\u001b[0m\u001b[1;33m(\u001b[0m\u001b[1;33m)\u001b[0m\u001b[1;33m)\u001b[0m\u001b[1;33m\u001b[0m\u001b[1;33m\u001b[0m\u001b[0m\n\u001b[0m\u001b[0;32m    857\u001b[0m \u001b[1;33m\u001b[0m\u001b[0m\n\u001b[0;32m    858\u001b[0m     \u001b[0mdispatch\u001b[0m\u001b[1;33m[\u001b[0m\u001b[0mdict\u001b[0m\u001b[1;33m]\u001b[0m \u001b[1;33m=\u001b[0m \u001b[0msave_dict\u001b[0m\u001b[1;33m\u001b[0m\u001b[1;33m\u001b[0m\u001b[0m\n",
      "\u001b[1;32m~\\Anaconda3\\envs\\tf_gpu\\lib\\pickle.py\u001b[0m in \u001b[0;36m_batch_setitems\u001b[1;34m(self, items)\u001b[0m\n\u001b[0;32m    880\u001b[0m                 \u001b[1;32mfor\u001b[0m \u001b[0mk\u001b[0m\u001b[1;33m,\u001b[0m \u001b[0mv\u001b[0m \u001b[1;32min\u001b[0m \u001b[0mtmp\u001b[0m\u001b[1;33m:\u001b[0m\u001b[1;33m\u001b[0m\u001b[1;33m\u001b[0m\u001b[0m\n\u001b[0;32m    881\u001b[0m                     \u001b[0msave\u001b[0m\u001b[1;33m(\u001b[0m\u001b[0mk\u001b[0m\u001b[1;33m)\u001b[0m\u001b[1;33m\u001b[0m\u001b[1;33m\u001b[0m\u001b[0m\n\u001b[1;32m--> 882\u001b[1;33m                     \u001b[0msave\u001b[0m\u001b[1;33m(\u001b[0m\u001b[0mv\u001b[0m\u001b[1;33m)\u001b[0m\u001b[1;33m\u001b[0m\u001b[1;33m\u001b[0m\u001b[0m\n\u001b[0m\u001b[0;32m    883\u001b[0m                 \u001b[0mwrite\u001b[0m\u001b[1;33m(\u001b[0m\u001b[0mSETITEMS\u001b[0m\u001b[1;33m)\u001b[0m\u001b[1;33m\u001b[0m\u001b[1;33m\u001b[0m\u001b[0m\n\u001b[0;32m    884\u001b[0m             \u001b[1;32melif\u001b[0m \u001b[0mn\u001b[0m\u001b[1;33m:\u001b[0m\u001b[1;33m\u001b[0m\u001b[1;33m\u001b[0m\u001b[0m\n",
      "\u001b[1;32m~\\Anaconda3\\envs\\tf_gpu\\lib\\pickle.py\u001b[0m in \u001b[0;36msave\u001b[1;34m(self, obj, save_persistent_id)\u001b[0m\n\u001b[0;32m    502\u001b[0m         \u001b[0mf\u001b[0m \u001b[1;33m=\u001b[0m \u001b[0mself\u001b[0m\u001b[1;33m.\u001b[0m\u001b[0mdispatch\u001b[0m\u001b[1;33m.\u001b[0m\u001b[0mget\u001b[0m\u001b[1;33m(\u001b[0m\u001b[0mt\u001b[0m\u001b[1;33m)\u001b[0m\u001b[1;33m\u001b[0m\u001b[1;33m\u001b[0m\u001b[0m\n\u001b[0;32m    503\u001b[0m         \u001b[1;32mif\u001b[0m \u001b[0mf\u001b[0m \u001b[1;32mis\u001b[0m \u001b[1;32mnot\u001b[0m \u001b[1;32mNone\u001b[0m\u001b[1;33m:\u001b[0m\u001b[1;33m\u001b[0m\u001b[1;33m\u001b[0m\u001b[0m\n\u001b[1;32m--> 504\u001b[1;33m             \u001b[0mf\u001b[0m\u001b[1;33m(\u001b[0m\u001b[0mself\u001b[0m\u001b[1;33m,\u001b[0m \u001b[0mobj\u001b[0m\u001b[1;33m)\u001b[0m \u001b[1;31m# Call unbound method with explicit self\u001b[0m\u001b[1;33m\u001b[0m\u001b[1;33m\u001b[0m\u001b[0m\n\u001b[0m\u001b[0;32m    505\u001b[0m             \u001b[1;32mreturn\u001b[0m\u001b[1;33m\u001b[0m\u001b[1;33m\u001b[0m\u001b[0m\n\u001b[0;32m    506\u001b[0m \u001b[1;33m\u001b[0m\u001b[0m\n",
      "\u001b[1;32m~\\Anaconda3\\envs\\tf_gpu\\lib\\pickle.py\u001b[0m in \u001b[0;36msave_set\u001b[1;34m(self, obj)\u001b[0m\n\u001b[0;32m    896\u001b[0m \u001b[1;33m\u001b[0m\u001b[0m\n\u001b[0;32m    897\u001b[0m         \u001b[1;32mif\u001b[0m \u001b[0mself\u001b[0m\u001b[1;33m.\u001b[0m\u001b[0mproto\u001b[0m \u001b[1;33m<\u001b[0m \u001b[1;36m4\u001b[0m\u001b[1;33m:\u001b[0m\u001b[1;33m\u001b[0m\u001b[1;33m\u001b[0m\u001b[0m\n\u001b[1;32m--> 898\u001b[1;33m             \u001b[0mself\u001b[0m\u001b[1;33m.\u001b[0m\u001b[0msave_reduce\u001b[0m\u001b[1;33m(\u001b[0m\u001b[0mset\u001b[0m\u001b[1;33m,\u001b[0m \u001b[1;33m(\u001b[0m\u001b[0mlist\u001b[0m\u001b[1;33m(\u001b[0m\u001b[0mobj\u001b[0m\u001b[1;33m)\u001b[0m\u001b[1;33m,\u001b[0m\u001b[1;33m)\u001b[0m\u001b[1;33m,\u001b[0m \u001b[0mobj\u001b[0m\u001b[1;33m=\u001b[0m\u001b[0mobj\u001b[0m\u001b[1;33m)\u001b[0m\u001b[1;33m\u001b[0m\u001b[1;33m\u001b[0m\u001b[0m\n\u001b[0m\u001b[0;32m    899\u001b[0m             \u001b[1;32mreturn\u001b[0m\u001b[1;33m\u001b[0m\u001b[1;33m\u001b[0m\u001b[0m\n\u001b[0;32m    900\u001b[0m \u001b[1;33m\u001b[0m\u001b[0m\n",
      "\u001b[1;32m~\\Anaconda3\\envs\\tf_gpu\\lib\\pickle.py\u001b[0m in \u001b[0;36msave_reduce\u001b[1;34m(self, func, args, state, listitems, dictitems, obj)\u001b[0m\n\u001b[0;32m    636\u001b[0m         \u001b[1;32melse\u001b[0m\u001b[1;33m:\u001b[0m\u001b[1;33m\u001b[0m\u001b[1;33m\u001b[0m\u001b[0m\n\u001b[0;32m    637\u001b[0m             \u001b[0msave\u001b[0m\u001b[1;33m(\u001b[0m\u001b[0mfunc\u001b[0m\u001b[1;33m)\u001b[0m\u001b[1;33m\u001b[0m\u001b[1;33m\u001b[0m\u001b[0m\n\u001b[1;32m--> 638\u001b[1;33m             \u001b[0msave\u001b[0m\u001b[1;33m(\u001b[0m\u001b[0margs\u001b[0m\u001b[1;33m)\u001b[0m\u001b[1;33m\u001b[0m\u001b[1;33m\u001b[0m\u001b[0m\n\u001b[0m\u001b[0;32m    639\u001b[0m             \u001b[0mwrite\u001b[0m\u001b[1;33m(\u001b[0m\u001b[0mREDUCE\u001b[0m\u001b[1;33m)\u001b[0m\u001b[1;33m\u001b[0m\u001b[1;33m\u001b[0m\u001b[0m\n\u001b[0;32m    640\u001b[0m \u001b[1;33m\u001b[0m\u001b[0m\n",
      "\u001b[1;32m~\\Anaconda3\\envs\\tf_gpu\\lib\\pickle.py\u001b[0m in \u001b[0;36msave\u001b[1;34m(self, obj, save_persistent_id)\u001b[0m\n\u001b[0;32m    502\u001b[0m         \u001b[0mf\u001b[0m \u001b[1;33m=\u001b[0m \u001b[0mself\u001b[0m\u001b[1;33m.\u001b[0m\u001b[0mdispatch\u001b[0m\u001b[1;33m.\u001b[0m\u001b[0mget\u001b[0m\u001b[1;33m(\u001b[0m\u001b[0mt\u001b[0m\u001b[1;33m)\u001b[0m\u001b[1;33m\u001b[0m\u001b[1;33m\u001b[0m\u001b[0m\n\u001b[0;32m    503\u001b[0m         \u001b[1;32mif\u001b[0m \u001b[0mf\u001b[0m \u001b[1;32mis\u001b[0m \u001b[1;32mnot\u001b[0m \u001b[1;32mNone\u001b[0m\u001b[1;33m:\u001b[0m\u001b[1;33m\u001b[0m\u001b[1;33m\u001b[0m\u001b[0m\n\u001b[1;32m--> 504\u001b[1;33m             \u001b[0mf\u001b[0m\u001b[1;33m(\u001b[0m\u001b[0mself\u001b[0m\u001b[1;33m,\u001b[0m \u001b[0mobj\u001b[0m\u001b[1;33m)\u001b[0m \u001b[1;31m# Call unbound method with explicit self\u001b[0m\u001b[1;33m\u001b[0m\u001b[1;33m\u001b[0m\u001b[0m\n\u001b[0m\u001b[0;32m    505\u001b[0m             \u001b[1;32mreturn\u001b[0m\u001b[1;33m\u001b[0m\u001b[1;33m\u001b[0m\u001b[0m\n\u001b[0;32m    506\u001b[0m \u001b[1;33m\u001b[0m\u001b[0m\n",
      "\u001b[1;32m~\\Anaconda3\\envs\\tf_gpu\\lib\\pickle.py\u001b[0m in \u001b[0;36msave_tuple\u001b[1;34m(self, obj)\u001b[0m\n\u001b[0;32m    769\u001b[0m         \u001b[1;32mif\u001b[0m \u001b[0mn\u001b[0m \u001b[1;33m<=\u001b[0m \u001b[1;36m3\u001b[0m \u001b[1;32mand\u001b[0m \u001b[0mself\u001b[0m\u001b[1;33m.\u001b[0m\u001b[0mproto\u001b[0m \u001b[1;33m>=\u001b[0m \u001b[1;36m2\u001b[0m\u001b[1;33m:\u001b[0m\u001b[1;33m\u001b[0m\u001b[1;33m\u001b[0m\u001b[0m\n\u001b[0;32m    770\u001b[0m             \u001b[1;32mfor\u001b[0m \u001b[0melement\u001b[0m \u001b[1;32min\u001b[0m \u001b[0mobj\u001b[0m\u001b[1;33m:\u001b[0m\u001b[1;33m\u001b[0m\u001b[1;33m\u001b[0m\u001b[0m\n\u001b[1;32m--> 771\u001b[1;33m                 \u001b[0msave\u001b[0m\u001b[1;33m(\u001b[0m\u001b[0melement\u001b[0m\u001b[1;33m)\u001b[0m\u001b[1;33m\u001b[0m\u001b[1;33m\u001b[0m\u001b[0m\n\u001b[0m\u001b[0;32m    772\u001b[0m             \u001b[1;31m# Subtle.  Same as in the big comment below.\u001b[0m\u001b[1;33m\u001b[0m\u001b[1;33m\u001b[0m\u001b[1;33m\u001b[0m\u001b[0m\n\u001b[0;32m    773\u001b[0m             \u001b[1;32mif\u001b[0m \u001b[0mid\u001b[0m\u001b[1;33m(\u001b[0m\u001b[0mobj\u001b[0m\u001b[1;33m)\u001b[0m \u001b[1;32min\u001b[0m \u001b[0mmemo\u001b[0m\u001b[1;33m:\u001b[0m\u001b[1;33m\u001b[0m\u001b[1;33m\u001b[0m\u001b[0m\n",
      "\u001b[1;32m~\\Anaconda3\\envs\\tf_gpu\\lib\\pickle.py\u001b[0m in \u001b[0;36msave\u001b[1;34m(self, obj, save_persistent_id)\u001b[0m\n\u001b[0;32m    502\u001b[0m         \u001b[0mf\u001b[0m \u001b[1;33m=\u001b[0m \u001b[0mself\u001b[0m\u001b[1;33m.\u001b[0m\u001b[0mdispatch\u001b[0m\u001b[1;33m.\u001b[0m\u001b[0mget\u001b[0m\u001b[1;33m(\u001b[0m\u001b[0mt\u001b[0m\u001b[1;33m)\u001b[0m\u001b[1;33m\u001b[0m\u001b[1;33m\u001b[0m\u001b[0m\n\u001b[0;32m    503\u001b[0m         \u001b[1;32mif\u001b[0m \u001b[0mf\u001b[0m \u001b[1;32mis\u001b[0m \u001b[1;32mnot\u001b[0m \u001b[1;32mNone\u001b[0m\u001b[1;33m:\u001b[0m\u001b[1;33m\u001b[0m\u001b[1;33m\u001b[0m\u001b[0m\n\u001b[1;32m--> 504\u001b[1;33m             \u001b[0mf\u001b[0m\u001b[1;33m(\u001b[0m\u001b[0mself\u001b[0m\u001b[1;33m,\u001b[0m \u001b[0mobj\u001b[0m\u001b[1;33m)\u001b[0m \u001b[1;31m# Call unbound method with explicit self\u001b[0m\u001b[1;33m\u001b[0m\u001b[1;33m\u001b[0m\u001b[0m\n\u001b[0m\u001b[0;32m    505\u001b[0m             \u001b[1;32mreturn\u001b[0m\u001b[1;33m\u001b[0m\u001b[1;33m\u001b[0m\u001b[0m\n\u001b[0;32m    506\u001b[0m \u001b[1;33m\u001b[0m\u001b[0m\n",
      "\u001b[1;32m~\\Anaconda3\\envs\\tf_gpu\\lib\\pickle.py\u001b[0m in \u001b[0;36msave_list\u001b[1;34m(self, obj)\u001b[0m\n\u001b[0;32m    814\u001b[0m \u001b[1;33m\u001b[0m\u001b[0m\n\u001b[0;32m    815\u001b[0m         \u001b[0mself\u001b[0m\u001b[1;33m.\u001b[0m\u001b[0mmemoize\u001b[0m\u001b[1;33m(\u001b[0m\u001b[0mobj\u001b[0m\u001b[1;33m)\u001b[0m\u001b[1;33m\u001b[0m\u001b[1;33m\u001b[0m\u001b[0m\n\u001b[1;32m--> 816\u001b[1;33m         \u001b[0mself\u001b[0m\u001b[1;33m.\u001b[0m\u001b[0m_batch_appends\u001b[0m\u001b[1;33m(\u001b[0m\u001b[0mobj\u001b[0m\u001b[1;33m)\u001b[0m\u001b[1;33m\u001b[0m\u001b[1;33m\u001b[0m\u001b[0m\n\u001b[0m\u001b[0;32m    817\u001b[0m \u001b[1;33m\u001b[0m\u001b[0m\n\u001b[0;32m    818\u001b[0m     \u001b[0mdispatch\u001b[0m\u001b[1;33m[\u001b[0m\u001b[0mlist\u001b[0m\u001b[1;33m]\u001b[0m \u001b[1;33m=\u001b[0m \u001b[0msave_list\u001b[0m\u001b[1;33m\u001b[0m\u001b[1;33m\u001b[0m\u001b[0m\n",
      "\u001b[1;32m~\\Anaconda3\\envs\\tf_gpu\\lib\\pickle.py\u001b[0m in \u001b[0;36m_batch_appends\u001b[1;34m(self, items)\u001b[0m\n\u001b[0;32m    838\u001b[0m                 \u001b[0mwrite\u001b[0m\u001b[1;33m(\u001b[0m\u001b[0mMARK\u001b[0m\u001b[1;33m)\u001b[0m\u001b[1;33m\u001b[0m\u001b[1;33m\u001b[0m\u001b[0m\n\u001b[0;32m    839\u001b[0m                 \u001b[1;32mfor\u001b[0m \u001b[0mx\u001b[0m \u001b[1;32min\u001b[0m \u001b[0mtmp\u001b[0m\u001b[1;33m:\u001b[0m\u001b[1;33m\u001b[0m\u001b[1;33m\u001b[0m\u001b[0m\n\u001b[1;32m--> 840\u001b[1;33m                     \u001b[0msave\u001b[0m\u001b[1;33m(\u001b[0m\u001b[0mx\u001b[0m\u001b[1;33m)\u001b[0m\u001b[1;33m\u001b[0m\u001b[1;33m\u001b[0m\u001b[0m\n\u001b[0m\u001b[0;32m    841\u001b[0m                 \u001b[0mwrite\u001b[0m\u001b[1;33m(\u001b[0m\u001b[0mAPPENDS\u001b[0m\u001b[1;33m)\u001b[0m\u001b[1;33m\u001b[0m\u001b[1;33m\u001b[0m\u001b[0m\n\u001b[0;32m    842\u001b[0m             \u001b[1;32melif\u001b[0m \u001b[0mn\u001b[0m\u001b[1;33m:\u001b[0m\u001b[1;33m\u001b[0m\u001b[1;33m\u001b[0m\u001b[0m\n",
      "\u001b[1;32m~\\Anaconda3\\envs\\tf_gpu\\lib\\pickle.py\u001b[0m in \u001b[0;36msave\u001b[1;34m(self, obj, save_persistent_id)\u001b[0m\n\u001b[0;32m    502\u001b[0m         \u001b[0mf\u001b[0m \u001b[1;33m=\u001b[0m \u001b[0mself\u001b[0m\u001b[1;33m.\u001b[0m\u001b[0mdispatch\u001b[0m\u001b[1;33m.\u001b[0m\u001b[0mget\u001b[0m\u001b[1;33m(\u001b[0m\u001b[0mt\u001b[0m\u001b[1;33m)\u001b[0m\u001b[1;33m\u001b[0m\u001b[1;33m\u001b[0m\u001b[0m\n\u001b[0;32m    503\u001b[0m         \u001b[1;32mif\u001b[0m \u001b[0mf\u001b[0m \u001b[1;32mis\u001b[0m \u001b[1;32mnot\u001b[0m \u001b[1;32mNone\u001b[0m\u001b[1;33m:\u001b[0m\u001b[1;33m\u001b[0m\u001b[1;33m\u001b[0m\u001b[0m\n\u001b[1;32m--> 504\u001b[1;33m             \u001b[0mf\u001b[0m\u001b[1;33m(\u001b[0m\u001b[0mself\u001b[0m\u001b[1;33m,\u001b[0m \u001b[0mobj\u001b[0m\u001b[1;33m)\u001b[0m \u001b[1;31m# Call unbound method with explicit self\u001b[0m\u001b[1;33m\u001b[0m\u001b[1;33m\u001b[0m\u001b[0m\n\u001b[0m\u001b[0;32m    505\u001b[0m             \u001b[1;32mreturn\u001b[0m\u001b[1;33m\u001b[0m\u001b[1;33m\u001b[0m\u001b[0m\n\u001b[0;32m    506\u001b[0m \u001b[1;33m\u001b[0m\u001b[0m\n",
      "\u001b[1;32m~\\Anaconda3\\envs\\tf_gpu\\lib\\pickle.py\u001b[0m in \u001b[0;36msave_tuple\u001b[1;34m(self, obj)\u001b[0m\n\u001b[0;32m    784\u001b[0m         \u001b[0mwrite\u001b[0m\u001b[1;33m(\u001b[0m\u001b[0mMARK\u001b[0m\u001b[1;33m)\u001b[0m\u001b[1;33m\u001b[0m\u001b[1;33m\u001b[0m\u001b[0m\n\u001b[0;32m    785\u001b[0m         \u001b[1;32mfor\u001b[0m \u001b[0melement\u001b[0m \u001b[1;32min\u001b[0m \u001b[0mobj\u001b[0m\u001b[1;33m:\u001b[0m\u001b[1;33m\u001b[0m\u001b[1;33m\u001b[0m\u001b[0m\n\u001b[1;32m--> 786\u001b[1;33m             \u001b[0msave\u001b[0m\u001b[1;33m(\u001b[0m\u001b[0melement\u001b[0m\u001b[1;33m)\u001b[0m\u001b[1;33m\u001b[0m\u001b[1;33m\u001b[0m\u001b[0m\n\u001b[0m\u001b[0;32m    787\u001b[0m \u001b[1;33m\u001b[0m\u001b[0m\n\u001b[0;32m    788\u001b[0m         \u001b[1;32mif\u001b[0m \u001b[0mid\u001b[0m\u001b[1;33m(\u001b[0m\u001b[0mobj\u001b[0m\u001b[1;33m)\u001b[0m \u001b[1;32min\u001b[0m \u001b[0mmemo\u001b[0m\u001b[1;33m:\u001b[0m\u001b[1;33m\u001b[0m\u001b[1;33m\u001b[0m\u001b[0m\n",
      "\u001b[1;32m~\\Anaconda3\\envs\\tf_gpu\\lib\\pickle.py\u001b[0m in \u001b[0;36msave\u001b[1;34m(self, obj, save_persistent_id)\u001b[0m\n\u001b[0;32m    547\u001b[0m \u001b[1;33m\u001b[0m\u001b[0m\n\u001b[0;32m    548\u001b[0m         \u001b[1;31m# Save the reduce() output and finally memoize the object\u001b[0m\u001b[1;33m\u001b[0m\u001b[1;33m\u001b[0m\u001b[1;33m\u001b[0m\u001b[0m\n\u001b[1;32m--> 549\u001b[1;33m         \u001b[0mself\u001b[0m\u001b[1;33m.\u001b[0m\u001b[0msave_reduce\u001b[0m\u001b[1;33m(\u001b[0m\u001b[0mobj\u001b[0m\u001b[1;33m=\u001b[0m\u001b[0mobj\u001b[0m\u001b[1;33m,\u001b[0m \u001b[1;33m*\u001b[0m\u001b[0mrv\u001b[0m\u001b[1;33m)\u001b[0m\u001b[1;33m\u001b[0m\u001b[1;33m\u001b[0m\u001b[0m\n\u001b[0m\u001b[0;32m    550\u001b[0m \u001b[1;33m\u001b[0m\u001b[0m\n\u001b[0;32m    551\u001b[0m     \u001b[1;32mdef\u001b[0m \u001b[0mpersistent_id\u001b[0m\u001b[1;33m(\u001b[0m\u001b[0mself\u001b[0m\u001b[1;33m,\u001b[0m \u001b[0mobj\u001b[0m\u001b[1;33m)\u001b[0m\u001b[1;33m:\u001b[0m\u001b[1;33m\u001b[0m\u001b[1;33m\u001b[0m\u001b[0m\n",
      "\u001b[1;32m~\\Anaconda3\\envs\\tf_gpu\\lib\\pickle.py\u001b[0m in \u001b[0;36msave_reduce\u001b[1;34m(self, func, args, state, listitems, dictitems, obj)\u001b[0m\n\u001b[0;32m    636\u001b[0m         \u001b[1;32melse\u001b[0m\u001b[1;33m:\u001b[0m\u001b[1;33m\u001b[0m\u001b[1;33m\u001b[0m\u001b[0m\n\u001b[0;32m    637\u001b[0m             \u001b[0msave\u001b[0m\u001b[1;33m(\u001b[0m\u001b[0mfunc\u001b[0m\u001b[1;33m)\u001b[0m\u001b[1;33m\u001b[0m\u001b[1;33m\u001b[0m\u001b[0m\n\u001b[1;32m--> 638\u001b[1;33m             \u001b[0msave\u001b[0m\u001b[1;33m(\u001b[0m\u001b[0margs\u001b[0m\u001b[1;33m)\u001b[0m\u001b[1;33m\u001b[0m\u001b[1;33m\u001b[0m\u001b[0m\n\u001b[0m\u001b[0;32m    639\u001b[0m             \u001b[0mwrite\u001b[0m\u001b[1;33m(\u001b[0m\u001b[0mREDUCE\u001b[0m\u001b[1;33m)\u001b[0m\u001b[1;33m\u001b[0m\u001b[1;33m\u001b[0m\u001b[0m\n\u001b[0;32m    640\u001b[0m \u001b[1;33m\u001b[0m\u001b[0m\n",
      "\u001b[1;32m~\\Anaconda3\\envs\\tf_gpu\\lib\\pickle.py\u001b[0m in \u001b[0;36msave\u001b[1;34m(self, obj, save_persistent_id)\u001b[0m\n\u001b[0;32m    502\u001b[0m         \u001b[0mf\u001b[0m \u001b[1;33m=\u001b[0m \u001b[0mself\u001b[0m\u001b[1;33m.\u001b[0m\u001b[0mdispatch\u001b[0m\u001b[1;33m.\u001b[0m\u001b[0mget\u001b[0m\u001b[1;33m(\u001b[0m\u001b[0mt\u001b[0m\u001b[1;33m)\u001b[0m\u001b[1;33m\u001b[0m\u001b[1;33m\u001b[0m\u001b[0m\n\u001b[0;32m    503\u001b[0m         \u001b[1;32mif\u001b[0m \u001b[0mf\u001b[0m \u001b[1;32mis\u001b[0m \u001b[1;32mnot\u001b[0m \u001b[1;32mNone\u001b[0m\u001b[1;33m:\u001b[0m\u001b[1;33m\u001b[0m\u001b[1;33m\u001b[0m\u001b[0m\n\u001b[1;32m--> 504\u001b[1;33m             \u001b[0mf\u001b[0m\u001b[1;33m(\u001b[0m\u001b[0mself\u001b[0m\u001b[1;33m,\u001b[0m \u001b[0mobj\u001b[0m\u001b[1;33m)\u001b[0m \u001b[1;31m# Call unbound method with explicit self\u001b[0m\u001b[1;33m\u001b[0m\u001b[1;33m\u001b[0m\u001b[0m\n\u001b[0m\u001b[0;32m    505\u001b[0m             \u001b[1;32mreturn\u001b[0m\u001b[1;33m\u001b[0m\u001b[1;33m\u001b[0m\u001b[0m\n\u001b[0;32m    506\u001b[0m \u001b[1;33m\u001b[0m\u001b[0m\n",
      "\u001b[1;32m~\\Anaconda3\\envs\\tf_gpu\\lib\\pickle.py\u001b[0m in \u001b[0;36msave_tuple\u001b[1;34m(self, obj)\u001b[0m\n\u001b[0;32m    769\u001b[0m         \u001b[1;32mif\u001b[0m \u001b[0mn\u001b[0m \u001b[1;33m<=\u001b[0m \u001b[1;36m3\u001b[0m \u001b[1;32mand\u001b[0m \u001b[0mself\u001b[0m\u001b[1;33m.\u001b[0m\u001b[0mproto\u001b[0m \u001b[1;33m>=\u001b[0m \u001b[1;36m2\u001b[0m\u001b[1;33m:\u001b[0m\u001b[1;33m\u001b[0m\u001b[1;33m\u001b[0m\u001b[0m\n\u001b[0;32m    770\u001b[0m             \u001b[1;32mfor\u001b[0m \u001b[0melement\u001b[0m \u001b[1;32min\u001b[0m \u001b[0mobj\u001b[0m\u001b[1;33m:\u001b[0m\u001b[1;33m\u001b[0m\u001b[1;33m\u001b[0m\u001b[0m\n\u001b[1;32m--> 771\u001b[1;33m                 \u001b[0msave\u001b[0m\u001b[1;33m(\u001b[0m\u001b[0melement\u001b[0m\u001b[1;33m)\u001b[0m\u001b[1;33m\u001b[0m\u001b[1;33m\u001b[0m\u001b[0m\n\u001b[0m\u001b[0;32m    772\u001b[0m             \u001b[1;31m# Subtle.  Same as in the big comment below.\u001b[0m\u001b[1;33m\u001b[0m\u001b[1;33m\u001b[0m\u001b[1;33m\u001b[0m\u001b[0m\n\u001b[0;32m    773\u001b[0m             \u001b[1;32mif\u001b[0m \u001b[0mid\u001b[0m\u001b[1;33m(\u001b[0m\u001b[0mobj\u001b[0m\u001b[1;33m)\u001b[0m \u001b[1;32min\u001b[0m \u001b[0mmemo\u001b[0m\u001b[1;33m:\u001b[0m\u001b[1;33m\u001b[0m\u001b[1;33m\u001b[0m\u001b[0m\n",
      "\u001b[1;32m~\\Anaconda3\\envs\\tf_gpu\\lib\\pickle.py\u001b[0m in \u001b[0;36msave\u001b[1;34m(self, obj, save_persistent_id)\u001b[0m\n\u001b[0;32m    502\u001b[0m         \u001b[0mf\u001b[0m \u001b[1;33m=\u001b[0m \u001b[0mself\u001b[0m\u001b[1;33m.\u001b[0m\u001b[0mdispatch\u001b[0m\u001b[1;33m.\u001b[0m\u001b[0mget\u001b[0m\u001b[1;33m(\u001b[0m\u001b[0mt\u001b[0m\u001b[1;33m)\u001b[0m\u001b[1;33m\u001b[0m\u001b[1;33m\u001b[0m\u001b[0m\n\u001b[0;32m    503\u001b[0m         \u001b[1;32mif\u001b[0m \u001b[0mf\u001b[0m \u001b[1;32mis\u001b[0m \u001b[1;32mnot\u001b[0m \u001b[1;32mNone\u001b[0m\u001b[1;33m:\u001b[0m\u001b[1;33m\u001b[0m\u001b[1;33m\u001b[0m\u001b[0m\n\u001b[1;32m--> 504\u001b[1;33m             \u001b[0mf\u001b[0m\u001b[1;33m(\u001b[0m\u001b[0mself\u001b[0m\u001b[1;33m,\u001b[0m \u001b[0mobj\u001b[0m\u001b[1;33m)\u001b[0m \u001b[1;31m# Call unbound method with explicit self\u001b[0m\u001b[1;33m\u001b[0m\u001b[1;33m\u001b[0m\u001b[0m\n\u001b[0m\u001b[0;32m    505\u001b[0m             \u001b[1;32mreturn\u001b[0m\u001b[1;33m\u001b[0m\u001b[1;33m\u001b[0m\u001b[0m\n\u001b[0;32m    506\u001b[0m \u001b[1;33m\u001b[0m\u001b[0m\n",
      "\u001b[1;32m~\\Anaconda3\\envs\\tf_gpu\\lib\\pickle.py\u001b[0m in \u001b[0;36msave_bytes\u001b[1;34m(self, obj)\u001b[0m\n\u001b[0;32m    733\u001b[0m         \u001b[1;32melse\u001b[0m\u001b[1;33m:\u001b[0m\u001b[1;33m\u001b[0m\u001b[1;33m\u001b[0m\u001b[0m\n\u001b[0;32m    734\u001b[0m             \u001b[0mself\u001b[0m\u001b[1;33m.\u001b[0m\u001b[0mwrite\u001b[0m\u001b[1;33m(\u001b[0m\u001b[0mBINBYTES\u001b[0m \u001b[1;33m+\u001b[0m \u001b[0mpack\u001b[0m\u001b[1;33m(\u001b[0m\u001b[1;34m\"<I\"\u001b[0m\u001b[1;33m,\u001b[0m \u001b[0mn\u001b[0m\u001b[1;33m)\u001b[0m \u001b[1;33m+\u001b[0m \u001b[0mobj\u001b[0m\u001b[1;33m)\u001b[0m\u001b[1;33m\u001b[0m\u001b[1;33m\u001b[0m\u001b[0m\n\u001b[1;32m--> 735\u001b[1;33m         \u001b[0mself\u001b[0m\u001b[1;33m.\u001b[0m\u001b[0mmemoize\u001b[0m\u001b[1;33m(\u001b[0m\u001b[0mobj\u001b[0m\u001b[1;33m)\u001b[0m\u001b[1;33m\u001b[0m\u001b[1;33m\u001b[0m\u001b[0m\n\u001b[0m\u001b[0;32m    736\u001b[0m     \u001b[0mdispatch\u001b[0m\u001b[1;33m[\u001b[0m\u001b[0mbytes\u001b[0m\u001b[1;33m]\u001b[0m \u001b[1;33m=\u001b[0m \u001b[0msave_bytes\u001b[0m\u001b[1;33m\u001b[0m\u001b[1;33m\u001b[0m\u001b[0m\n\u001b[0;32m    737\u001b[0m \u001b[1;33m\u001b[0m\u001b[0m\n",
      "\u001b[1;32m~\\Anaconda3\\envs\\tf_gpu\\lib\\pickle.py\u001b[0m in \u001b[0;36mmemoize\u001b[1;34m(self, obj)\u001b[0m\n\u001b[0;32m    459\u001b[0m         \u001b[0midx\u001b[0m \u001b[1;33m=\u001b[0m \u001b[0mlen\u001b[0m\u001b[1;33m(\u001b[0m\u001b[0mself\u001b[0m\u001b[1;33m.\u001b[0m\u001b[0mmemo\u001b[0m\u001b[1;33m)\u001b[0m\u001b[1;33m\u001b[0m\u001b[1;33m\u001b[0m\u001b[0m\n\u001b[0;32m    460\u001b[0m         \u001b[0mself\u001b[0m\u001b[1;33m.\u001b[0m\u001b[0mwrite\u001b[0m\u001b[1;33m(\u001b[0m\u001b[0mself\u001b[0m\u001b[1;33m.\u001b[0m\u001b[0mput\u001b[0m\u001b[1;33m(\u001b[0m\u001b[0midx\u001b[0m\u001b[1;33m)\u001b[0m\u001b[1;33m)\u001b[0m\u001b[1;33m\u001b[0m\u001b[1;33m\u001b[0m\u001b[0m\n\u001b[1;32m--> 461\u001b[1;33m         \u001b[0mself\u001b[0m\u001b[1;33m.\u001b[0m\u001b[0mmemo\u001b[0m\u001b[1;33m[\u001b[0m\u001b[0mid\u001b[0m\u001b[1;33m(\u001b[0m\u001b[0mobj\u001b[0m\u001b[1;33m)\u001b[0m\u001b[1;33m]\u001b[0m \u001b[1;33m=\u001b[0m \u001b[0midx\u001b[0m\u001b[1;33m,\u001b[0m \u001b[0mobj\u001b[0m\u001b[1;33m\u001b[0m\u001b[1;33m\u001b[0m\u001b[0m\n\u001b[0m\u001b[0;32m    462\u001b[0m \u001b[1;33m\u001b[0m\u001b[0m\n\u001b[0;32m    463\u001b[0m     \u001b[1;31m# Return a PUT (BINPUT, LONG_BINPUT) opcode string, with argument i.\u001b[0m\u001b[1;33m\u001b[0m\u001b[1;33m\u001b[0m\u001b[1;33m\u001b[0m\u001b[0m\n",
      "\u001b[1;31mMemoryError\u001b[0m: "
     ]
    }
   ],
   "source": [
    "filename = 'globalsave2.pkl'\n",
    "dill.dump_session(filename)"
   ]
  },
  {
   "cell_type": "code",
   "execution_count": 3,
   "metadata": {},
   "outputs": [
    {
     "name": "stdout",
     "output_type": "stream",
     "text": [
      "WARNING:tensorflow:From C:\\Users\\Quakou\\Anaconda3\\envs\\tf_gpu\\lib\\site-packages\\tensorflow\\python\\framework\\op_def_library.py:263: colocate_with (from tensorflow.python.framework.ops) is deprecated and will be removed in a future version.\n",
      "Instructions for updating:\n",
      "Colocations handled automatically by placer.\n",
      "WARNING:tensorflow:From C:\\Users\\Quakou\\Anaconda3\\envs\\tf_gpu\\lib\\site-packages\\keras\\backend\\tensorflow_backend.py:3445: calling dropout (from tensorflow.python.ops.nn_ops) with keep_prob is deprecated and will be removed in a future version.\n",
      "Instructions for updating:\n",
      "Please use `rate` instead of `keep_prob`. Rate should be set to `rate = 1 - keep_prob`.\n",
      "WARNING:tensorflow:From C:\\Users\\Quakou\\Anaconda3\\envs\\tf_gpu\\lib\\site-packages\\tensorflow\\python\\ops\\math_ops.py:3066: to_int32 (from tensorflow.python.ops.math_ops) is deprecated and will be removed in a future version.\n",
      "Instructions for updating:\n",
      "Use tf.cast instead.\n"
     ]
    }
   ],
   "source": [
    "dill.load_session(filename)"
   ]
  },
  {
   "cell_type": "code",
   "execution_count": null,
   "metadata": {},
   "outputs": [],
   "source": [
    "https://machinelearningmastery.com/grid-search-hyperparameters-deep-learning-models-python-keras/"
   ]
  },
  {
   "cell_type": "markdown",
   "metadata": {},
   "source": [
    "## Réseau initial"
   ]
  },
  {
   "cell_type": "markdown",
   "metadata": {},
   "source": [
    "Les données sont transformées pour être ensuite présentées au réseau.   \n",
    "Une ligne du dataset est transformée en **matrice** à 3 dimensions (8,8,3)\n",
    "\n",
    "- La première matrice représente le board en deux dimensions (8,8) vu du **joueur vertical**.  Les cases que le joueur peut -jouer sont 0 et les cases déjà jouées sont 1.\n",
    "- La seconde matrice représente le board vu du **joueur horizontal**.  Les cases que le joueur peut jouer sont marquées 1 et les cases déjà jouées sont marquées 0.\n",
    "- La troisième matrice est une matrice de 0 si le tour est pour le joueur vertical et 1 si le tour est pour le joueur horizontal.\n",
    "\n",
    "L'output est une matrice nulle (8,8) sauf pour la position à jouer (la première des deux cases)\n",
    "\n",
    "Nous entrainons un réseau de neurones convolutif 3D\n",
    "- 1 couche d'entrée Conv2D-Relu avec un filtre (3,3) et 64 plans \n",
    "- 5 couches de convolution Conv2D-Relu cachées\n",
    "- 1 dernière couche entièrement connectée (Fully Connected) à la sortie avec activation softmax car nous entrainons le réseau pour une classification multiclasses à un seul label(chacune des classes est une case à jouer sur le board)"
   ]
  },
  {
   "cell_type": "code",
   "execution_count": 2,
   "metadata": {
    "ExecuteTime": {
     "end_time": "2019-07-19T01:06:01.447746Z",
     "start_time": "2019-07-19T01:06:01.443759Z"
    }
   },
   "outputs": [],
   "source": [
    "callbacks_list = [ keras.callbacks.EarlyStopping( monitor='val_acc', patience=3, )]"
   ]
  },
  {
   "cell_type": "code",
   "execution_count": 3,
   "metadata": {
    "ExecuteTime": {
     "end_time": "2019-07-19T01:06:01.464702Z",
     "start_time": "2019-07-19T01:06:01.449740Z"
    }
   },
   "outputs": [],
   "source": [
    "def get_model(board_size):\n",
    "    model = Sequential()\n",
    "    model.add(Conv2D(64, kernel_size=(3, 3), activation='relu', input_shape=(board_size, board_size, 3), padding=\"same\"))\n",
    "    model.add(Conv2D(64, (3, 3), activation='relu', padding=\"same\"))\n",
    "    model.add(Conv2D(64, (3, 3), activation='relu', padding=\"same\"))\n",
    "    model.add(Conv2D(64, (3, 3), activation='relu', padding=\"same\"))\n",
    "    model.add(Conv2D(64, (3, 3), activation='relu', padding=\"same\"))\n",
    "    model.add(Conv2D(64, (3, 3), activation='relu', padding=\"same\"))\n",
    "    model.add(Flatten())\n",
    "    model.add(Dense(board_size**2, activation='softmax'))\n",
    "    model.compile(loss=keras.losses.categorical_crossentropy, optimizer=keras.optimizers.Adadelta(), metrics=['accuracy'])\n",
    "    return model\n",
    "\n",
    "def prepare_data(row, board_size):\n",
    "    board = row[:board_size**2]\n",
    "    flipped_board = row[board_size**2:2*board_size**2]\n",
    "    turn = row[2*board_size**2:3*board_size**2]\n",
    "    output = row[3*board_size**2:]\n",
    "    \n",
    "    board = np.array(board).reshape((board_size, board_size))\n",
    "    flipped_board = np.array(flipped_board).reshape((board_size, board_size))\n",
    "    turn = np.array(turn).reshape((board_size, board_size))\n",
    "    output = np.array(output)\n",
    "\n",
    "    state = np.zeros((board_size, board_size, 3))\n",
    "    state[:,:,0] = board\n",
    "    state[:,:,1] = flipped_board\n",
    "    state[:,:,2] = turn\n",
    "\n",
    "    return state, output\n",
    "\n"
   ]
  },
  {
   "cell_type": "markdown",
   "metadata": {},
   "source": [
    "Les données sont lues du fichier csv et séparées en un ensemble d'entrainement (**70%**) et un ensemble de test (**30%**).\n",
    "\n",
    "Nous prenons les dernières lignes pour le test.\n"
   ]
  },
  {
   "cell_type": "code",
   "execution_count": 4,
   "metadata": {
    "ExecuteTime": {
     "end_time": "2019-07-19T01:06:02.857664Z",
     "start_time": "2019-07-19T01:06:01.467695Z"
    }
   },
   "outputs": [
    {
     "name": "stdout",
     "output_type": "stream",
     "text": [
      "WARNING:tensorflow:From C:\\Users\\Quakou\\Anaconda3\\envs\\tf_gpu\\lib\\site-packages\\tensorflow\\python\\framework\\op_def_library.py:263: colocate_with (from tensorflow.python.framework.ops) is deprecated and will be removed in a future version.\n",
      "Instructions for updating:\n",
      "Colocations handled automatically by placer.\n"
     ]
    }
   ],
   "source": [
    "filename = 'domineering.csv'\n",
    "df = pd.read_csv(filename, sep=',', na_values=[\"\"], header=None)\n",
    "board_size = 8\n",
    "\n",
    "df=shuffle(df)\n",
    "data = df.values.tolist()\n",
    "train = data[:int(0.7*len(data))]\n",
    "test = data[int(0.7*len(data)):]\n",
    "\n",
    "X = []\n",
    "\n",
    "for t in train:\n",
    "    row = prepare_data(t, board_size)\n",
    "    X.append(row)\n",
    "\n",
    "X_train = np.array([k[0] for k in X])\n",
    "Y_train = np.array([k[1] for k in X])\n",
    "\n",
    "XT = []\n",
    "\n",
    "for t in test:\n",
    "    row = prepare_data(t, board_size)\n",
    "    XT.append(row)\n",
    "\n",
    "X_test = np.array([k[0] for k in XT])\n",
    "Y_test = np.array([k[1] for k in XT])\n",
    "\n",
    "model = get_model(board_size)"
   ]
  },
  {
   "cell_type": "markdown",
   "metadata": {},
   "source": [
    "Nous entrainons le réseau sur 20 époques avec un ensemble de valiation de 10% du Train"
   ]
  },
  {
   "cell_type": "code",
   "execution_count": 5,
   "metadata": {
    "ExecuteTime": {
     "end_time": "2019-07-19T01:15:56.130923Z",
     "start_time": "2019-07-19T01:06:02.858626Z"
    }
   },
   "outputs": [
    {
     "name": "stdout",
     "output_type": "stream",
     "text": [
      "WARNING:tensorflow:From C:\\Users\\Quakou\\Anaconda3\\envs\\tf_gpu\\lib\\site-packages\\tensorflow\\python\\ops\\math_ops.py:3066: to_int32 (from tensorflow.python.ops.math_ops) is deprecated and will be removed in a future version.\n",
      "Instructions for updating:\n",
      "Use tf.cast instead.\n",
      "Train on 17737 samples, validate on 1971 samples\n",
      "Epoch 1/20\n",
      "17737/17737 [==============================] - 28s 2ms/step - loss: 3.4559 - acc: 0.1373 - val_loss: 2.3832 - val_acc: 0.3760\n",
      "Epoch 2/20\n",
      "17737/17737 [==============================] - 5s 281us/step - loss: 1.9585 - acc: 0.4640 - val_loss: 1.9249 - val_acc: 0.4749\n",
      "Epoch 3/20\n",
      "17737/17737 [==============================] - 5s 279us/step - loss: 1.6990 - acc: 0.5154 - val_loss: 1.8165 - val_acc: 0.4774\n",
      "Epoch 4/20\n",
      "17737/17737 [==============================] - 5s 277us/step - loss: 1.5762 - acc: 0.5416 - val_loss: 1.7875 - val_acc: 0.4855\n",
      "Epoch 5/20\n",
      "17737/17737 [==============================] - 5s 282us/step - loss: 1.4821 - acc: 0.5664 - val_loss: 1.8147 - val_acc: 0.4779\n",
      "Epoch 6/20\n",
      "17737/17737 [==============================] - 5s 275us/step - loss: 1.3924 - acc: 0.5903 - val_loss: 1.8282 - val_acc: 0.4703\n",
      "Epoch 7/20\n",
      "17737/17737 [==============================] - 5s 276us/step - loss: 1.2898 - acc: 0.6135 - val_loss: 1.9711 - val_acc: 0.4637\n",
      "Epoch 8/20\n",
      "17737/17737 [==============================] - 5s 276us/step - loss: 1.1857 - acc: 0.6476 - val_loss: 2.0012 - val_acc: 0.4551\n",
      "Epoch 9/20\n",
      "17737/17737 [==============================] - 5s 275us/step - loss: 1.0695 - acc: 0.6864 - val_loss: 2.1017 - val_acc: 0.4576\n",
      "Epoch 10/20\n",
      "17737/17737 [==============================] - 5s 279us/step - loss: 0.9555 - acc: 0.7200 - val_loss: 2.5054 - val_acc: 0.4373\n",
      "Epoch 11/20\n",
      "17737/17737 [==============================] - 5s 279us/step - loss: 0.8428 - acc: 0.7534 - val_loss: 2.6406 - val_acc: 0.4460\n",
      "Epoch 12/20\n",
      "17737/17737 [==============================] - 5s 277us/step - loss: 0.7500 - acc: 0.7829 - val_loss: 2.8841 - val_acc: 0.4444\n",
      "Epoch 13/20\n",
      "17737/17737 [==============================] - 5s 277us/step - loss: 0.6623 - acc: 0.8089 - val_loss: 3.1705 - val_acc: 0.4455\n",
      "Epoch 14/20\n",
      "17737/17737 [==============================] - 5s 279us/step - loss: 0.5875 - acc: 0.8299 - val_loss: 3.7370 - val_acc: 0.4404\n",
      "Epoch 15/20\n",
      "17737/17737 [==============================] - 5s 278us/step - loss: 0.5324 - acc: 0.8469 - val_loss: 3.6524 - val_acc: 0.4282\n",
      "Epoch 16/20\n",
      "17737/17737 [==============================] - 5s 280us/step - loss: 0.4835 - acc: 0.8637 - val_loss: 4.1147 - val_acc: 0.4211\n",
      "Epoch 17/20\n",
      "17737/17737 [==============================] - 5s 279us/step - loss: 0.4574 - acc: 0.8700 - val_loss: 4.3649 - val_acc: 0.4206\n",
      "Epoch 18/20\n",
      "17737/17737 [==============================] - 5s 281us/step - loss: 0.4224 - acc: 0.8821 - val_loss: 4.3423 - val_acc: 0.4384\n",
      "Epoch 19/20\n",
      "17737/17737 [==============================] - 5s 279us/step - loss: 0.4035 - acc: 0.8861 - val_loss: 4.4413 - val_acc: 0.4247\n",
      "Epoch 20/20\n",
      "17737/17737 [==============================] - 5s 287us/step - loss: 0.3895 - acc: 0.8903 - val_loss: 4.8801 - val_acc: 0.4297\n"
     ]
    }
   ],
   "source": [
    "history=model.fit(X_train, Y_train, validation_split=0.1, epochs=20,#callbacks=callbacks_list\n",
    "                 )"
   ]
  },
  {
   "cell_type": "code",
   "execution_count": 6,
   "metadata": {
    "ExecuteTime": {
     "end_time": "2019-07-19T01:15:56.579519Z",
     "start_time": "2019-07-19T01:15:56.133916Z"
    }
   },
   "outputs": [
    {
     "data": {
      "image/png": "[encoded data removed]",
      "text/plain": [
       "<Figure size 432x288 with 1 Axes>"
      ]
     },
     "metadata": {
      "needs_background": "light"
     },
     "output_type": "display_data"
    },
    {
     "data": {
      "image/png": "[encoded data removed]",
      "text/plain": [
       "<Figure size 432x288 with 1 Axes>"
      ]
     },
     "metadata": {
      "needs_background": "light"
     },
     "output_type": "display_data"
    }
   ],
   "source": [
    "def plot_history(history):\n",
    "    history_dict = history.history\n",
    "    loss_values = history_dict['loss']\n",
    "    val_loss_values = history_dict['val_loss']\n",
    "    epochs = range(1, len(loss_values) + 1)\n",
    "    plt.plot(epochs, loss_values, 'bo', label='Training loss')\n",
    "    plt.plot(epochs, val_loss_values, 'b', label='Validation loss')\n",
    "    plt.title('Training and validation loss')\n",
    "    plt.xlabel('Epochs')\n",
    "    plt.ylabel('Loss')\n",
    "    plt.legend()\n",
    "    plt.show()\n",
    "    \n",
    "    plt.clf() #Clears the figure\n",
    "    acc = history_dict['acc']\n",
    "    val_acc = history_dict['val_acc']\n",
    "    plt.plot(epochs, acc, 'bo', label='Training acc')\n",
    "    plt.plot(epochs, val_acc, 'b', label='Validation acc')\n",
    "    plt.title('Training and validation accuracy')\n",
    "    plt.xlabel('Epochs')\n",
    "    plt.ylabel('Accuracy')\n",
    "    plt.legend()\n",
    "    plt.show()    \n",
    "\n",
    "plot_history(history)"
   ]
  },
  {
   "cell_type": "markdown",
   "metadata": {},
   "source": [
    "Réentrainons le modèle avec le nombre d'époques qui minimise l'erreur sur l'ensemble de validation"
   ]
  },
  {
   "cell_type": "code",
   "execution_count": 7,
   "metadata": {
    "ExecuteTime": {
     "end_time": "2019-07-19T01:18:26.941620Z",
     "start_time": "2019-07-19T01:15:56.581515Z"
    }
   },
   "outputs": [
    {
     "name": "stdout",
     "output_type": "stream",
     "text": [
      "Train on 17737 samples, validate on 1971 samples\n",
      "Epoch 1/5\n",
      "17737/17737 [==============================] - 6s 327us/step - loss: 3.3938 - acc: 0.1499 - val_loss: 2.3156 - val_acc: 0.3653\n",
      "Epoch 2/5\n",
      "17737/17737 [==============================] - 5s 282us/step - loss: 1.9237 - acc: 0.4710 - val_loss: 1.8727 - val_acc: 0.4800\n",
      "Epoch 3/5\n",
      "17737/17737 [==============================] - 5s 283us/step - loss: 1.6864 - acc: 0.5164 - val_loss: 1.8420 - val_acc: 0.4795\n",
      "Epoch 4/5\n",
      "17737/17737 [==============================] - 5s 282us/step - loss: 1.5679 - acc: 0.5438 - val_loss: 1.8231 - val_acc: 0.4749\n",
      "Epoch 5/5\n",
      "17737/17737 [==============================] - 5s 279us/step - loss: 1.4733 - acc: 0.5652 - val_loss: 1.8442 - val_acc: 0.4866\n"
     ]
    }
   ],
   "source": [
    "model = get_model(board_size)\n",
    "history=model.fit(X_train, Y_train, validation_split=0.1, epochs=5)\n",
    "NN_initial_no_augmentation_17k = model"
   ]
  },
  {
   "cell_type": "code",
   "execution_count": 8,
   "metadata": {
    "ExecuteTime": {
     "end_time": "2019-07-19T01:18:27.397404Z",
     "start_time": "2019-07-19T01:18:26.946609Z"
    }
   },
   "outputs": [
    {
     "data": {
      "image/png": "[encoded data removed]",
      "text/plain": [
       "<Figure size 432x288 with 1 Axes>"
      ]
     },
     "metadata": {
      "needs_background": "light"
     },
     "output_type": "display_data"
    },
    {
     "data": {
      "image/png": "[encoded data removed]",
      "text/plain": [
       "<Figure size 432x288 with 1 Axes>"
      ]
     },
     "metadata": {
      "needs_background": "light"
     },
     "output_type": "display_data"
    }
   ],
   "source": [
    "plot_history(history)"
   ]
  },
  {
   "cell_type": "markdown",
   "metadata": {},
   "source": [
    "Nous pouvons alors faire les prédictions sur l'ensemble de test"
   ]
  },
  {
   "cell_type": "code",
   "execution_count": 9,
   "metadata": {
    "ExecuteTime": {
     "end_time": "2019-07-19T01:18:33.287582Z",
     "start_time": "2019-07-19T01:18:27.399399Z"
    }
   },
   "outputs": [
    {
     "name": "stdout",
     "output_type": "stream",
     "text": [
      "Accuracy : 0.48928613709009117 \n"
     ]
    }
   ],
   "source": [
    "pred_test = model.predict(X_test)\n",
    "acc = accuracy_score(np.argmax(Y_test, axis=1), np.argmax(pred_test, axis=1))\n",
    "print(\"Accuracy : %s \" %acc)"
   ]
  },
  {
   "cell_type": "markdown",
   "metadata": {
    "ExecuteTime": {
     "end_time": "2019-06-30T14:29:45.834635Z",
     "start_time": "2019-06-30T14:29:45.681552Z"
    }
   },
   "source": [
    "Nous obtenons une accuracy sur le test à **0.493** "
   ]
  },
  {
   "cell_type": "markdown",
   "metadata": {},
   "source": [
    "## Data augmentation"
   ]
  },
  {
   "cell_type": "markdown",
   "metadata": {},
   "source": [
    "Nous allons essayer d'améliorer ce score par une Data augmentation.\n",
    "\n",
    "Nous utiliserons trois symétries:\n",
    "- le board vu en **miroir**.  Nous utilsons la fonction prepare_data_lr qui retourne le board dans le sens gauche-droite\n",
    "- le board vu de **bas en haut**.  Nous utilisons la fonction prepare_data_ud qui retourne le board de bas en haut.\n",
    "- le board **tourné à 90**.  Nous utilisons la fonction prepare_data_90 qui fait une rotation à 90 du board.  Le joueur vertical devient horizontal et inversement"
   ]
  },
  {
   "cell_type": "code",
   "execution_count": 10,
   "metadata": {
    "ExecuteTime": {
     "end_time": "2019-07-19T01:18:38.928318Z",
     "start_time": "2019-07-19T01:18:33.290574Z"
    }
   },
   "outputs": [],
   "source": [
    "import pandas as pd\n",
    "import numpy as np\n",
    "from sklearn.metrics import accuracy_score\n",
    "\n",
    "import keras\n",
    "from keras.models import Sequential\n",
    "from keras.layers import Dense, Dropout, Flatten\n",
    "from keras.layers import Conv2D\n",
    "\n",
    "\n",
    "def prepare_data_lr(row, board_size):\n",
    "    data = prepare_data(row, board_size)\n",
    "    state = data[0]\n",
    "    state = np.fliplr(state)\n",
    "    \n",
    "    output = data[1]\n",
    "    output = np.array(output).reshape((board_size, board_size)) #on retourne l'output\n",
    "    output = np.fliplr(output)\n",
    "\n",
    "    player = int(state[:, :, 2][0][0])\n",
    "    if player == 0:  # joueur vertical rien ne change pour l'output\n",
    "        output = output.ravel()\n",
    "        return state, output\n",
    "    if player == 1:  # joueur horizental\n",
    "        permutation = [7, 0, 1, 2, 3, 4, 5, 6] # le 1 se retrouve sur la dernière case à jouer on permute pour avoir la première case\n",
    "        i = np.argsort(permutation)\n",
    "        output_moved = output[:, i]\n",
    "        output_moved = output_moved.ravel()\n",
    "        return state, output_moved\n",
    "\n",
    "def prepare_data_ud(row, board_size):\n",
    "    data = prepare_data(row, board_size)\n",
    "    state = data[0]\n",
    "    state = np.flipud(state)\n",
    "\n",
    "    output = data[1]\n",
    "    output = np.array(output).reshape((board_size, board_size)) #on retourne l'output\n",
    "    output = np.flipud(output)\n",
    "\n",
    "    player = int(state[:, :, 2][0][0])\n",
    "    if player == 1:  # horizental\n",
    "        output = output\n",
    "        output = output.ravel()\n",
    "        return state, output\n",
    "    if player == 0:  # vertical\n",
    "        output_moved = np.roll(output, 7, axis=0) # on décale pour avoir l'output sur la première case à jouer \n",
    "        output_moved = output_moved.ravel()\n",
    "        return state, output_moved\n",
    "\n",
    "def prepare_data_90(row, board_size):\n",
    "    data = prepare_data(row, board_size)\n",
    "    state = data[0]\n",
    "    state = np.rot90(state,-1)\n",
    "    \n",
    "    output = data[1]\n",
    "    output = np.array(output).reshape((board_size, board_size))\n",
    "    output = np.rot90(output,-1)\n",
    "\n",
    "    player = int(state[:, :, 2][0][0])\n",
    "    if player == 1:  # horizontal devient vertical\n",
    "        var=state[:,:,1]\n",
    "        state[:,:,1]=state[:,:,0]\n",
    "        state[:,:,0]=var\n",
    "        state[:,:,2]=0    \n",
    "        output = output\n",
    "        output = output.ravel()\n",
    "        return state, output\n",
    "    if player == 0:  # vertical devient horizontal\n",
    "        var=state[:,:,0]\n",
    "        state[:,:,0]=state[:,:,1]\n",
    "        state[:,:,1]=var\n",
    "        state[:,:,2]=1\n",
    "        permutation = [7, 0, 1, 2, 3, 4, 5, 6] # le 1 se retrouve sur la dernière case à jouer on permute pour avoir la première case\n",
    "        i = np.argsort(permutation)\n",
    "        output_moved = output[:, i]\n",
    "        output_moved = output_moved.ravel()\n",
    "        return state, output_moved\n",
    "\n",
    "\n",
    "filename = 'domineering.csv'\n",
    "df = pd.read_csv(filename, sep=',', na_values=[\"\"], header=None)\n",
    "board_size = 8\n",
    "df=shuffle(df)\n",
    "data = df.values.tolist()\n",
    "train = data[:int(0.7*len(data))]\n",
    "test = data[int(0.7*len(data)):]\n",
    "\n",
    "X = []\n",
    "\n",
    "for t in train:\n",
    "    row = prepare_data(t, board_size)\n",
    "    X.append(row)\n",
    "    row_lr = prepare_data_lr(t, board_size)\n",
    "    X.append(row_lr)\n",
    "    row_ud = prepare_data_ud(t, board_size)\n",
    "    X.append(row_ud)\n",
    "    row_90=prepare_data_90(t,board_size)\n",
    "    X.append(row_90)\n",
    "\n",
    "X_train = np.array([k[0] for k in X])\n",
    "Y_train = np.array([k[1] for k in X])\n",
    "\n",
    "XT = []\n",
    "\n",
    "for t in test:\n",
    "    row = prepare_data(t, board_size)\n",
    "    XT.append(row)\n",
    "    row_lr = prepare_data_lr(t, board_size)\n",
    "    XT.append(row_lr)\n",
    "    row_ud = prepare_data_ud(t, board_size)\n",
    "    XT.append(row_ud)\n",
    "    row_90=prepare_data_90(t,board_size)\n",
    "    XT.append(row_90)\n",
    "\n",
    "\n",
    "X_test = np.array([k[0] for k in XT])\n",
    "Y_test = np.array([k[1] for k in XT])\n",
    "\n",
    "\n",
    "XT=[]\n",
    "for t in test:\n",
    "    row = prepare_data(t, board_size)\n",
    "    XT.append(row)\n",
    "X_test_na = np.array([k[0] for k in XT])\n",
    "Y_test_na = np.array([k[1] for k in XT])\n",
    "\n",
    "model = get_model(board_size)"
   ]
  },
  {
   "cell_type": "code",
   "execution_count": 11,
   "metadata": {
    "ExecuteTime": {
     "end_time": "2019-07-19T01:35:10.039399Z",
     "start_time": "2019-07-19T01:18:38.930315Z"
    }
   },
   "outputs": [
    {
     "name": "stdout",
     "output_type": "stream",
     "text": [
      "Train on 70948 samples, validate on 7884 samples\n",
      "Epoch 1/20\n",
      "70948/70948 [==============================] - 12s 164us/step - loss: 2.6665 - acc: 0.2788 - val_loss: 1.9349 - val_acc: 0.4292\n",
      "Epoch 2/20\n",
      "70948/70948 [==============================] - 11s 149us/step - loss: 1.8272 - acc: 0.4500 - val_loss: 1.7773 - val_acc: 0.4571\n",
      "Epoch 3/20\n",
      "70948/70948 [==============================] - 10s 148us/step - loss: 1.7211 - acc: 0.4769 - val_loss: 1.7561 - val_acc: 0.4712\n",
      "Epoch 4/20\n",
      "70948/70948 [==============================] - 10s 147us/step - loss: 1.6561 - acc: 0.4968 - val_loss: 1.7375 - val_acc: 0.4778\n",
      "Epoch 5/20\n",
      "70948/70948 [==============================] - 10s 148us/step - loss: 1.6014 - acc: 0.5133 - val_loss: 1.7403 - val_acc: 0.4746\n",
      "Epoch 6/20\n",
      "70948/70948 [==============================] - 11s 148us/step - loss: 1.5476 - acc: 0.5306 - val_loss: 1.7792 - val_acc: 0.4683\n",
      "Epoch 7/20\n",
      "70948/70948 [==============================] - 10s 147us/step - loss: 1.4941 - acc: 0.5460 - val_loss: 1.7817 - val_acc: 0.4652\n"
     ]
    }
   ],
   "source": [
    "callbacks_list = [ keras.callbacks.EarlyStopping( monitor='val_acc', patience=3, )]\n",
    "history=model.fit(X_train, Y_train, validation_split=0.1, epochs=20,batch_size=64,callbacks=callbacks_list)\n",
    "NN_initial_with_augmentation_70k = history"
   ]
  },
  {
   "cell_type": "code",
   "execution_count": 12,
   "metadata": {
    "ExecuteTime": {
     "end_time": "2019-07-19T01:35:10.522147Z",
     "start_time": "2019-07-19T01:35:10.042392Z"
    }
   },
   "outputs": [
    {
     "data": {
      "image/png": "[encoded data removed]",
      "text/plain": [
       "<Figure size 432x288 with 1 Axes>"
      ]
     },
     "metadata": {
      "needs_background": "light"
     },
     "output_type": "display_data"
    },
    {
     "data": {
      "image/png": "[encoded data removed]",
      "text/plain": [
       "<Figure size 432x288 with 1 Axes>"
      ]
     },
     "metadata": {
      "needs_background": "light"
     },
     "output_type": "display_data"
    }
   ],
   "source": [
    "plot_history(history)"
   ]
  },
  {
   "cell_type": "code",
   "execution_count": 13,
   "metadata": {
    "ExecuteTime": {
     "end_time": "2019-07-19T01:35:10.529089Z",
     "start_time": "2019-07-19T01:35:10.523106Z"
    }
   },
   "outputs": [],
   "source": [
    "def accuracy_test(model,X_test,Y_test,X_test_na,Y_test_na):\n",
    "    #Accuracy test augmenté\n",
    "    pred_test = model.predict(X_test)\n",
    "    acc = accuracy_score(np.argmax(Y_test, axis=1), np.argmax(pred_test, axis=1))\n",
    "    print(\"Accuracy Test augmenté: %s \" %acc)\n",
    "    \n",
    "    #Accuracy test non augmenté\n",
    "    \n",
    "    pred_test = model.predict(X_test_na)\n",
    "    acc = accuracy_score(np.argmax(Y_test_na, axis=1), np.argmax(pred_test, axis=1))\n",
    "    print(\"Accuracy Test non augmenté: %s \" %acc)    \n"
   ]
  },
  {
   "cell_type": "code",
   "execution_count": 14,
   "metadata": {
    "ExecuteTime": {
     "end_time": "2019-07-19T01:35:40.101077Z",
     "start_time": "2019-07-19T01:35:10.531086Z"
    }
   },
   "outputs": [
    {
     "name": "stdout",
     "output_type": "stream",
     "text": [
      "Accuracy Test augmenté: 0.46217592044512845 \n",
      "Accuracy Test non augmenté: 0.4549544216881733 \n"
     ]
    }
   ],
   "source": [
    "accuracy_test(model,X_test,Y_test,X_test_na,Y_test_na)"
   ]
  },
  {
   "cell_type": "markdown",
   "metadata": {
    "ExecuteTime": {
     "end_time": "2019-07-18T19:14:28.659319Z",
     "start_time": "2019-07-18T19:14:28.654332Z"
    }
   },
   "source": [
    "On va tenter un meilleur score avec une seule symétrie"
   ]
  },
  {
   "cell_type": "markdown",
   "metadata": {},
   "source": [
    "## Data augmentation à 90"
   ]
  },
  {
   "cell_type": "code",
   "execution_count": 15,
   "metadata": {
    "ExecuteTime": {
     "end_time": "2019-07-19T01:35:43.201722Z",
     "start_time": "2019-07-19T01:35:40.104070Z"
    }
   },
   "outputs": [],
   "source": [
    "filename = 'domineering.csv'\n",
    "df = pd.read_csv(filename, sep=',', na_values=[\"\"], header=None)\n",
    "board_size = 8\n",
    "df=shuffle(df)\n",
    "data = df.values.tolist()\n",
    "train = data[:int(0.7*len(data))]\n",
    "test = data[int(0.7*len(data)):]\n",
    "\n",
    "X = []\n",
    "\n",
    "for t in train:\n",
    "    row = prepare_data(t, board_size)\n",
    "    X.append(row)\n",
    "    row_90=prepare_data_90(t,board_size)\n",
    "    X.append(row_90)\n",
    "\n",
    "X_train = np.array([k[0] for k in X])\n",
    "Y_train = np.array([k[1] for k in X])\n",
    "\n",
    "XT = []\n",
    "\n",
    "for t in test:\n",
    "    row = prepare_data(t, board_size)\n",
    "    XT.append(row)\n",
    "    row_90=prepare_data_90(t,board_size)\n",
    "    XT.append(row_90)\n",
    "\n",
    "\n",
    "X_test = np.array([k[0] for k in XT])\n",
    "Y_test = np.array([k[1] for k in XT])\n",
    "\n",
    "model = get_model(board_size)"
   ]
  },
  {
   "cell_type": "code",
   "execution_count": 16,
   "metadata": {
    "ExecuteTime": {
     "end_time": "2019-07-19T01:44:56.268729Z",
     "start_time": "2019-07-19T01:35:43.202085Z"
    }
   },
   "outputs": [
    {
     "name": "stdout",
     "output_type": "stream",
     "text": [
      "Train on 35474 samples, validate on 3942 samples\n",
      "Epoch 1/20\n",
      "35474/35474 [==============================] - 6s 163us/step - loss: 3.3848 - acc: 0.1393 - val_loss: 2.3350 - val_acc: 0.3716\n",
      "Epoch 2/20\n",
      "35474/35474 [==============================] - 5s 144us/step - loss: 1.9440 - acc: 0.4517 - val_loss: 1.9313 - val_acc: 0.4472\n",
      "Epoch 3/20\n",
      "35474/35474 [==============================] - 5s 136us/step - loss: 1.7181 - acc: 0.4999 - val_loss: 1.8634 - val_acc: 0.4673\n",
      "Epoch 4/20\n",
      "35474/35474 [==============================] - 5s 133us/step - loss: 1.6183 - acc: 0.5233 - val_loss: 1.8136 - val_acc: 0.4850\n",
      "Epoch 5/20\n",
      "35474/35474 [==============================] - 5s 134us/step - loss: 1.5380 - acc: 0.5445 - val_loss: 1.8194 - val_acc: 0.4711\n",
      "Epoch 6/20\n",
      "35474/35474 [==============================] - 5s 132us/step - loss: 1.4636 - acc: 0.5635 - val_loss: 1.8717 - val_acc: 0.4627\n",
      "Epoch 7/20\n",
      "35474/35474 [==============================] - 5s 131us/step - loss: 1.3865 - acc: 0.5868 - val_loss: 1.9483 - val_acc: 0.4508\n"
     ]
    }
   ],
   "source": [
    "callbacks_list = [ keras.callbacks.EarlyStopping( monitor='val_acc', patience=3, )]\n",
    "history=model.fit(X_train, Y_train, validation_split=0.1, epochs=20,batch_size=64,callbacks=callbacks_list)\n"
   ]
  },
  {
   "cell_type": "code",
   "execution_count": 17,
   "metadata": {
    "ExecuteTime": {
     "end_time": "2019-07-19T01:44:56.622379Z",
     "start_time": "2019-07-19T01:44:56.271721Z"
    }
   },
   "outputs": [
    {
     "data": {
      "image/png": "[encoded data removed]",
      "text/plain": [
       "<Figure size 432x288 with 1 Axes>"
      ]
     },
     "metadata": {
      "needs_background": "light"
     },
     "output_type": "display_data"
    },
    {
     "data": {
      "image/png": "[encoded data removed]",
      "text/plain": [
       "<Figure size 432x288 with 1 Axes>"
      ]
     },
     "metadata": {
      "needs_background": "light"
     },
     "output_type": "display_data"
    }
   ],
   "source": [
    "plot_history(history)"
   ]
  },
  {
   "cell_type": "code",
   "execution_count": 18,
   "metadata": {
    "ExecuteTime": {
     "end_time": "2019-07-19T01:45:14.445646Z",
     "start_time": "2019-07-19T01:44:56.624331Z"
    }
   },
   "outputs": [
    {
     "name": "stdout",
     "output_type": "stream",
     "text": [
      "Accuracy Test augmenté: 0.48212383094589795 \n",
      "Accuracy Test non augmenté: 0.5673020007103113 \n"
     ]
    }
   ],
   "source": [
    "accuracy_test(model,X_test,Y_test,X_test_na,Y_test_na)"
   ]
  },
  {
   "cell_type": "markdown",
   "metadata": {},
   "source": [
    "## MaxPooling Dropout"
   ]
  },
  {
   "cell_type": "markdown",
   "metadata": {},
   "source": [
    "Essayons d'introduire un subsampling par MaxPooling et une régularisation par Dropout "
   ]
  },
  {
   "cell_type": "code",
   "execution_count": 19,
   "metadata": {
    "ExecuteTime": {
     "end_time": "2019-07-19T01:45:14.470580Z",
     "start_time": "2019-07-19T01:45:14.448639Z"
    }
   },
   "outputs": [],
   "source": [
    "from keras.layers import MaxPooling2D,Dropout\n",
    "from keras import backend as K\n",
    "\n",
    "\n",
    "def get_model2(board_size):\n",
    "    model = Sequential()\n",
    "    model.add(Conv2D(64, kernel_size=(3, 3), activation='relu',input_shape=(board_size, board_size,3), padding=\"same\",data_format='channels_last'))\n",
    "    model.add(Conv2D(64, (3, 3), activation='relu', padding=\"same\"))\n",
    "    model.add(MaxPooling2D(pool_size=(2, 2)))\n",
    "    model.add(Dropout(0.3)) \n",
    "    model.add(Conv2D(64, (3, 3), activation='relu', padding=\"same\"))\n",
    "    model.add(MaxPooling2D(pool_size=(2, 2))) \n",
    "    model.add(Dropout(0.3)) \n",
    "    model.add(Conv2D(64, (3, 3), activation='relu', padding=\"same\"))\n",
    "    model.add(Dropout(0.3)) \n",
    "    model.add(Conv2D(64, (3, 3), activation='relu', padding=\"same\"))\n",
    "    model.add(Dropout(0.3)) \n",
    "    model.add(Conv2D(64, (3, 3), activation='relu', padding=\"same\"))\n",
    "    model.add(Dropout(0.3))\n",
    "    model.add(Flatten())\n",
    "    model.add(Dense(board_size**2, activation='softmax'))    \n",
    "    model.compile(loss=keras.losses.categorical_crossentropy, optimizer=keras.optimizers.Adadelta(), metrics=['accuracy'])\n",
    "    return model"
   ]
  },
  {
   "cell_type": "code",
   "execution_count": 20,
   "metadata": {
    "ExecuteTime": {
     "end_time": "2019-07-19T01:45:17.872750Z",
     "start_time": "2019-07-19T01:45:14.474569Z"
    }
   },
   "outputs": [
    {
     "name": "stdout",
     "output_type": "stream",
     "text": [
      "WARNING:tensorflow:From C:\\Users\\Quakou\\Anaconda3\\envs\\tf_gpu\\lib\\site-packages\\keras\\backend\\tensorflow_backend.py:3445: calling dropout (from tensorflow.python.ops.nn_ops) with keep_prob is deprecated and will be removed in a future version.\n",
      "Instructions for updating:\n",
      "Please use `rate` instead of `keep_prob`. Rate should be set to `rate = 1 - keep_prob`.\n"
     ]
    }
   ],
   "source": [
    "filename = 'domineering.csv'\n",
    "df = pd.read_csv(filename, sep=',', na_values=[\"\"], header=None)\n",
    "board_size = 8\n",
    "\n",
    "data = df.values.tolist()\n",
    "train = data[:int(0.7*len(data))]\n",
    "test = data[int(0.7*len(data)):]\n",
    "\n",
    "X = []\n",
    "\n",
    "for t in train:\n",
    "    row = prepare_data(t, board_size)\n",
    "    X.append(row)\n",
    "    row_90=prepare_data_90(t,board_size)\n",
    "    X.append(row_90)\n",
    "\n",
    "X_train = np.array([k[0] for k in X])\n",
    "Y_train = np.array([k[1] for k in X])\n",
    "\n",
    "XT = []\n",
    "\n",
    "for t in test:\n",
    "    row = prepare_data(t, board_size)\n",
    "    XT.append(row)\n",
    "    row_90=prepare_data_90(t,board_size)\n",
    "    XT.append(row_90)\n",
    "\n",
    "\n",
    "X_test = np.array([k[0] for k in XT])\n",
    "Y_test = np.array([k[1] for k in XT])\n",
    "\n",
    "model2 = get_model2(board_size)"
   ]
  },
  {
   "cell_type": "code",
   "execution_count": 21,
   "metadata": {
    "ExecuteTime": {
     "end_time": "2019-07-19T01:54:02.737875Z",
     "start_time": "2019-07-19T01:45:17.873665Z"
    }
   },
   "outputs": [
    {
     "name": "stdout",
     "output_type": "stream",
     "text": [
      "Train on 35474 samples, validate on 3942 samples\n",
      "Epoch 1/20\n",
      "35474/35474 [==============================] - 7s 191us/step - loss: 3.9079 - acc: 0.0354 - val_loss: 3.7198 - val_acc: 0.0515\n",
      "Epoch 2/20\n",
      "35474/35474 [==============================] - 5s 150us/step - loss: 3.7325 - acc: 0.0546 - val_loss: 3.6791 - val_acc: 0.0654\n",
      "Epoch 3/20\n",
      "35474/35474 [==============================] - 5s 151us/step - loss: 3.6588 - acc: 0.0724 - val_loss: 3.5534 - val_acc: 0.0916\n",
      "Epoch 4/20\n",
      "35474/35474 [==============================] - 5s 149us/step - loss: 3.4841 - acc: 0.1110 - val_loss: 3.2283 - val_acc: 0.1885\n",
      "Epoch 5/20\n",
      "35474/35474 [==============================] - 5s 150us/step - loss: 3.1390 - acc: 0.2085 - val_loss: 2.8009 - val_acc: 0.3052\n",
      "Epoch 6/20\n",
      "35474/35474 [==============================] - 5s 151us/step - loss: 2.8745 - acc: 0.2809 - val_loss: 2.6014 - val_acc: 0.3607\n",
      "Epoch 7/20\n",
      "35474/35474 [==============================] - 5s 149us/step - loss: 2.7275 - acc: 0.3248 - val_loss: 2.5016 - val_acc: 0.3945\n",
      "Epoch 8/20\n",
      "35474/35474 [==============================] - 5s 150us/step - loss: 2.6229 - acc: 0.3544 - val_loss: 2.4008 - val_acc: 0.4196\n",
      "Epoch 9/20\n",
      "35474/35474 [==============================] - 5s 152us/step - loss: 2.5512 - acc: 0.3746 - val_loss: 2.3738 - val_acc: 0.4259\n",
      "Epoch 10/20\n",
      "35474/35474 [==============================] - 5s 149us/step - loss: 2.5004 - acc: 0.3891 - val_loss: 2.3364 - val_acc: 0.4363\n",
      "Epoch 11/20\n",
      "35474/35474 [==============================] - 5s 151us/step - loss: 2.4604 - acc: 0.3988 - val_loss: 2.3046 - val_acc: 0.4470\n",
      "Epoch 12/20\n",
      "35474/35474 [==============================] - 5s 151us/step - loss: 2.4236 - acc: 0.4084 - val_loss: 2.2901 - val_acc: 0.4503\n",
      "Epoch 13/20\n",
      "35474/35474 [==============================] - 5s 150us/step - loss: 2.4011 - acc: 0.4148 - val_loss: 2.2839 - val_acc: 0.4531\n",
      "Epoch 14/20\n",
      "35474/35474 [==============================] - 5s 151us/step - loss: 2.3662 - acc: 0.4213 - val_loss: 2.2707 - val_acc: 0.4571\n",
      "Epoch 15/20\n",
      "35474/35474 [==============================] - 5s 152us/step - loss: 2.3571 - acc: 0.4266 - val_loss: 2.2438 - val_acc: 0.4609\n",
      "Epoch 16/20\n",
      "35474/35474 [==============================] - 5s 150us/step - loss: 2.3294 - acc: 0.4315 - val_loss: 2.2384 - val_acc: 0.4617\n",
      "Epoch 17/20\n",
      "35474/35474 [==============================] - 5s 151us/step - loss: 2.3146 - acc: 0.4347 - val_loss: 2.2302 - val_acc: 0.4642\n",
      "Epoch 18/20\n",
      "35474/35474 [==============================] - 5s 152us/step - loss: 2.2958 - acc: 0.4414 - val_loss: 2.2173 - val_acc: 0.4723\n",
      "Epoch 19/20\n",
      "35474/35474 [==============================] - 5s 152us/step - loss: 2.2807 - acc: 0.4440 - val_loss: 2.2098 - val_acc: 0.4762\n",
      "Epoch 20/20\n",
      "35474/35474 [==============================] - 5s 153us/step - loss: 2.2697 - acc: 0.4466 - val_loss: 2.2027 - val_acc: 0.4698\n"
     ]
    }
   ],
   "source": [
    "history=model2.fit(X_train, Y_train, validation_split=0.1, epochs=20,batch_size=64,callbacks=callbacks_list)"
   ]
  },
  {
   "cell_type": "code",
   "execution_count": 22,
   "metadata": {
    "ExecuteTime": {
     "end_time": "2019-07-19T01:54:03.187669Z",
     "start_time": "2019-07-19T01:54:02.741861Z"
    }
   },
   "outputs": [
    {
     "data": {
      "image/png": "[encoded data removed]",
      "text/plain": [
       "<Figure size 432x288 with 1 Axes>"
      ]
     },
     "metadata": {
      "needs_background": "light"
     },
     "output_type": "display_data"
    },
    {
     "data": {
      "image/png": "[encoded data removed]",
      "text/plain": [
       "<Figure size 432x288 with 1 Axes>"
      ]
     },
     "metadata": {
      "needs_background": "light"
     },
     "output_type": "display_data"
    }
   ],
   "source": [
    "plot_history(history)"
   ]
  },
  {
   "cell_type": "code",
   "execution_count": 23,
   "metadata": {
    "ExecuteTime": {
     "end_time": "2019-07-19T01:54:10.206546Z",
     "start_time": "2019-07-19T01:54:03.192656Z"
    }
   },
   "outputs": [
    {
     "name": "stdout",
     "output_type": "stream",
     "text": [
      "Accuracy Test augmenté: 0.47969693382265893 \n",
      "Accuracy Test non augmenté: 0.5058600686634308 \n"
     ]
    }
   ],
   "source": [
    "accuracy_test(model2,X_test,Y_test,X_test_na,Y_test_na)"
   ]
  },
  {
   "cell_type": "markdown",
   "metadata": {},
   "source": [
    "Supprimons le Max Pooling car on perd peut être l'information de la structure du jeu"
   ]
  },
  {
   "cell_type": "code",
   "execution_count": 24,
   "metadata": {
    "ExecuteTime": {
     "end_time": "2019-07-19T01:54:10.231480Z",
     "start_time": "2019-07-19T01:54:10.210536Z"
    }
   },
   "outputs": [],
   "source": [
    "from keras.layers import MaxPooling2D,Dropout\n",
    "from keras import backend as K\n",
    "\n",
    "\n",
    "def get_model3(board_size):\n",
    "    model = Sequential()\n",
    "    model.add(Conv2D(64, kernel_size=(3, 3), activation='relu',input_shape=(board_size, board_size,3), padding=\"same\",data_format='channels_last'))\n",
    "    model.add(Conv2D(64, (3, 3), activation='relu', padding=\"same\"))\n",
    "    model.add(Dropout(0.3)) \n",
    "    model.add(Conv2D(64, (3, 3), activation='relu', padding=\"same\")) \n",
    "    model.add(Dropout(0.3)) \n",
    "    model.add(Conv2D(64, (3, 3), activation='relu', padding=\"same\"))\n",
    "    model.add(Dropout(0.3)) \n",
    "    model.add(Conv2D(64, (3, 3), activation='relu', padding=\"same\"))\n",
    "    model.add(Dropout(0.3)) \n",
    "    model.add(Conv2D(64, (3, 3), activation='relu', padding=\"same\"))\n",
    "    model.add(Dropout(0.3))\n",
    "    model.add(Flatten())\n",
    "    model.add(Dense(board_size**2, activation='softmax'))    \n",
    "    model.compile(loss=keras.losses.categorical_crossentropy, optimizer=keras.optimizers.Adadelta(), metrics=['accuracy'])\n",
    "    return model"
   ]
  },
  {
   "cell_type": "code",
   "execution_count": 25,
   "metadata": {
    "ExecuteTime": {
     "end_time": "2019-07-19T01:54:13.415192Z",
     "start_time": "2019-07-19T01:54:10.235469Z"
    }
   },
   "outputs": [],
   "source": [
    "filename = 'domineering.csv'\n",
    "df = pd.read_csv(filename, sep=',', na_values=[\"\"], header=None)\n",
    "board_size = 8\n",
    "df=shuffle(df)\n",
    "data = df.values.tolist()\n",
    "train = data[:int(0.7*len(data))]\n",
    "test = data[int(0.7*len(data)):]\n",
    "\n",
    "X = []\n",
    "\n",
    "for t in train:\n",
    "    row = prepare_data(t, board_size)\n",
    "    X.append(row)\n",
    "    row_90=prepare_data_90(t,board_size)\n",
    "    X.append(row_90)\n",
    "    \n",
    "X_train = np.array([k[0] for k in X])\n",
    "Y_train = np.array([k[1] for k in X])\n",
    "\n",
    "XT = []\n",
    "\n",
    "for t in test:\n",
    "    row = prepare_data(t, board_size)\n",
    "    XT.append(row)\n",
    "    row_90=prepare_data_90(t,board_size)\n",
    "    XT.append(row_90)\n",
    "\n",
    "X_test = np.array([k[0] for k in XT])\n",
    "Y_test = np.array([k[1] for k in XT])\n",
    "\n",
    "model3 = get_model3(board_size)"
   ]
  },
  {
   "cell_type": "code",
   "execution_count": 26,
   "metadata": {
    "ExecuteTime": {
     "end_time": "2019-07-19T02:08:22.376623Z",
     "start_time": "2019-07-19T01:54:13.416420Z"
    }
   },
   "outputs": [
    {
     "name": "stdout",
     "output_type": "stream",
     "text": [
      "Train on 35474 samples, validate on 3942 samples\n",
      "Epoch 1/20\n",
      "35474/35474 [==============================] - 7s 187us/step - loss: 3.8141 - acc: 0.0490 - val_loss: 3.6927 - val_acc: 0.0791\n",
      "Epoch 2/20\n",
      "35474/35474 [==============================] - 5s 155us/step - loss: 2.6262 - acc: 0.2964 - val_loss: 2.0170 - val_acc: 0.4422\n",
      "Epoch 3/20\n",
      "35474/35474 [==============================] - 5s 153us/step - loss: 2.0010 - acc: 0.4396 - val_loss: 1.8336 - val_acc: 0.4883\n",
      "Epoch 4/20\n",
      "35474/35474 [==============================] - 5s 152us/step - loss: 1.8587 - acc: 0.4708 - val_loss: 1.7925 - val_acc: 0.4932\n",
      "Epoch 5/20\n",
      "35474/35474 [==============================] - 6s 157us/step - loss: 1.7851 - acc: 0.4836 - val_loss: 1.7494 - val_acc: 0.4995\n",
      "Epoch 6/20\n",
      "35474/35474 [==============================] - 6s 158us/step - loss: 1.7318 - acc: 0.4985 - val_loss: 1.6973 - val_acc: 0.5101\n",
      "Epoch 7/20\n",
      "35474/35474 [==============================] - 5s 154us/step - loss: 1.6944 - acc: 0.5059 - val_loss: 1.7097 - val_acc: 0.5173\n",
      "Epoch 8/20\n",
      "35474/35474 [==============================] - 6s 155us/step - loss: 1.6609 - acc: 0.5129 - val_loss: 1.7067 - val_acc: 0.5076\n",
      "Epoch 9/20\n",
      "35474/35474 [==============================] - 5s 155us/step - loss: 1.6373 - acc: 0.5197 - val_loss: 1.6787 - val_acc: 0.5152\n",
      "Epoch 10/20\n",
      "35474/35474 [==============================] - 5s 154us/step - loss: 1.6113 - acc: 0.5252 - val_loss: 1.6907 - val_acc: 0.5119\n"
     ]
    }
   ],
   "source": [
    "history=model3.fit(X_train, Y_train, validation_split=0.1, epochs=20,batch_size=64,callbacks=callbacks_list)"
   ]
  },
  {
   "cell_type": "code",
   "execution_count": 27,
   "metadata": {
    "ExecuteTime": {
     "end_time": "2019-07-19T02:08:22.780228Z",
     "start_time": "2019-07-19T02:08:22.379615Z"
    }
   },
   "outputs": [
    {
     "data": {
      "image/png": "[encoded data removed]",
      "text/plain": [
       "<Figure size 432x288 with 1 Axes>"
      ]
     },
     "metadata": {
      "needs_background": "light"
     },
     "output_type": "display_data"
    },
    {
     "data": {
      "image/png": "[encoded data removed]",
      "text/plain": [
       "<Figure size 432x288 with 1 Axes>"
      ]
     },
     "metadata": {
      "needs_background": "light"
     },
     "output_type": "display_data"
    }
   ],
   "source": [
    "plot_history(history)"
   ]
  },
  {
   "cell_type": "code",
   "execution_count": 28,
   "metadata": {
    "ExecuteTime": {
     "end_time": "2019-07-19T02:17:44.338214Z",
     "start_time": "2019-07-19T02:08:22.782267Z"
    }
   },
   "outputs": [
    {
     "name": "stdout",
     "output_type": "stream",
     "text": [
      "Train on 35474 samples, validate on 3942 samples\n",
      "Epoch 1/8\n",
      "35474/35474 [==============================] - 7s 193us/step - loss: 3.8191 - acc: 0.0487 - val_loss: 3.7761 - val_acc: 0.0647\n",
      "Epoch 2/8\n",
      "35474/35474 [==============================] - 5s 153us/step - loss: 2.6774 - acc: 0.2842 - val_loss: 2.0087 - val_acc: 0.4378\n",
      "Epoch 3/8\n",
      "35474/35474 [==============================] - 5s 155us/step - loss: 2.0011 - acc: 0.4371 - val_loss: 1.8231 - val_acc: 0.4833\n",
      "Epoch 4/8\n",
      "35474/35474 [==============================] - 5s 153us/step - loss: 1.8588 - acc: 0.4670 - val_loss: 1.8228 - val_acc: 0.4721\n",
      "Epoch 5/8\n",
      "35474/35474 [==============================] - 5s 153us/step - loss: 1.7866 - acc: 0.4851 - val_loss: 1.7046 - val_acc: 0.5104\n",
      "Epoch 6/8\n",
      "35474/35474 [==============================] - 6s 156us/step - loss: 1.7343 - acc: 0.4939 - val_loss: 1.6928 - val_acc: 0.5127\n",
      "Epoch 7/8\n",
      "35474/35474 [==============================] - 5s 153us/step - loss: 1.6987 - acc: 0.5034 - val_loss: 1.6703 - val_acc: 0.5124\n",
      "Epoch 8/8\n",
      "35474/35474 [==============================] - 5s 153us/step - loss: 1.6651 - acc: 0.5138 - val_loss: 1.6858 - val_acc: 0.5127\n"
     ]
    },
    {
     "data": {
      "text/plain": [
       "<keras.callbacks.History at 0x25253756668>"
      ]
     },
     "execution_count": 28,
     "metadata": {},
     "output_type": "execute_result"
    }
   ],
   "source": [
    "model3 = get_model3(board_size)\n",
    "model3.fit(X_train, Y_train, validation_split=0.1, epochs=8,batch_size=64,callbacks=callbacks_list)"
   ]
  },
  {
   "cell_type": "code",
   "execution_count": 29,
   "metadata": {
    "ExecuteTime": {
     "end_time": "2019-07-19T02:18:02.586224Z",
     "start_time": "2019-07-19T02:17:44.341206Z"
    }
   },
   "outputs": [
    {
     "name": "stdout",
     "output_type": "stream",
     "text": [
      "Accuracy Test augmenté: 0.497573102876761 \n",
      "Accuracy Test non augmenté: 0.5386527761335386 \n"
     ]
    }
   ],
   "source": [
    "accuracy_test(model3,X_test,Y_test,X_test_na,Y_test_na)"
   ]
  },
  {
   "cell_type": "markdown",
   "metadata": {},
   "source": [
    "Essayons ce modèle sur le jeu augmenté des 3 symmétries"
   ]
  },
  {
   "cell_type": "code",
   "execution_count": null,
   "metadata": {
    "ExecuteTime": {
     "end_time": "2019-07-19T02:45:16.500515Z",
     "start_time": "2019-07-19T02:18:02.589218Z"
    }
   },
   "outputs": [
    {
     "name": "stdout",
     "output_type": "stream",
     "text": [
      "Train on 70948 samples, validate on 7884 samples\n",
      "Epoch 1/20\n",
      "70948/70948 [==============================] - 23s 321us/step - loss: 2.9432 - acc: 0.2213 - val_loss: 2.0539 - val_acc: 0.4113\n",
      "Epoch 2/20\n",
      "70948/70948 [==============================] - 21s 298us/step - loss: 2.0107 - acc: 0.4090 - val_loss: 1.8454 - val_acc: 0.4564\n",
      "Epoch 3/20\n",
      "70948/70948 [==============================] - 21s 301us/step - loss: 1.8996 - acc: 0.4335 - val_loss: 1.8133 - val_acc: 0.4600\n",
      "Epoch 4/20\n",
      "70948/70948 [==============================] - 22s 308us/step - loss: 1.8533 - acc: 0.4480 - val_loss: 1.7781 - val_acc: 0.4698\n",
      "Epoch 5/20\n",
      "70948/70948 [==============================] - 22s 310us/step - loss: 1.8269 - acc: 0.4557 - val_loss: 1.7562 - val_acc: 0.4749\n",
      "Epoch 6/20\n",
      "70948/70948 [==============================] - 22s 306us/step - loss: 1.8093 - acc: 0.4609 - val_loss: 1.7590 - val_acc: 0.4680\n",
      "Epoch 7/20\n",
      "38112/70948 [===============>..............] - ETA: 10s - loss: 1.7953 - acc: 0.4653"
     ]
    }
   ],
   "source": [
    "model3 = get_model3(board_size)\n",
    "X = []\n",
    "\n",
    "for t in train:\n",
    "    row = prepare_data(t, board_size)\n",
    "    X.append(row)\n",
    "    row_lr = prepare_data_lr(t, board_size)\n",
    "    X.append(row_lr)\n",
    "    row_ud = prepare_data_ud(t, board_size)\n",
    "    X.append(row_ud)\n",
    "    row_90=prepare_data_90(t,board_size)\n",
    "    X.append(row_90)\n",
    "    \n",
    "X_train = np.array([k[0] for k in X])\n",
    "Y_train = np.array([k[1] for k in X])\n",
    "\n",
    "XT = []\n",
    "\n",
    "for t in test:\n",
    "    row = prepare_data(t, board_size)\n",
    "    XT.append(row)\n",
    "    row_lr = prepare_data_lr(t, board_size)\n",
    "    XT.append(row_lr)\n",
    "    row_ud = prepare_data_ud(t, board_size)\n",
    "    XT.append(row_ud)\n",
    "    row_90=prepare_data_90(t,board_size)\n",
    "    XT.append(row_90)\n",
    "\n",
    "X_test = np.array([k[0] for k in XT])\n",
    "Y_test = np.array([k[1] for k in XT])\n",
    "\n",
    "history=model3.fit(X_train, Y_train, validation_split=0.1, epochs=20,callbacks=callbacks_list)"
   ]
  },
  {
   "cell_type": "code",
   "execution_count": null,
   "metadata": {
    "ExecuteTime": {
     "end_time": "2019-07-19T02:45:16.899016Z",
     "start_time": "2019-07-19T02:45:16.503508Z"
    }
   },
   "outputs": [],
   "source": [
    "plot_history(history)"
   ]
  },
  {
   "cell_type": "code",
   "execution_count": null,
   "metadata": {
    "ExecuteTime": {
     "end_time": "2019-07-19T02:45:47.452877Z",
     "start_time": "2019-07-19T02:45:16.901008Z"
    }
   },
   "outputs": [],
   "source": [
    "accuracy_test(model3,X_test,Y_test,X_test_na,Y_test_na)"
   ]
  },
  {
   "cell_type": "markdown",
   "metadata": {},
   "source": [
    "## Conclusion"
   ]
  },
  {
   "cell_type": "markdown",
   "metadata": {},
   "source": [
    "Nous retenons le modèle sans MaxPooling avec Dropout (modèle 3) entrainé sur le jeu de données \n",
    "augmenté avec la symmétrie à 90 degrés.  C'est le réseau qui donne la meilleure accuracy à la fois sur le Test initial et le Test augmenté.  Le premier réseau donne également des résultats similaires mais sans Data Augmentation."
   ]
  },
  {
   "cell_type": "markdown",
   "metadata": {},
   "source": [
    "# PARTIE II - Jeux etc."
   ]
  },
  {
   "cell_type": "markdown",
   "metadata": {},
   "source": [
    "### Code pour jouer la partie"
   ]
  },
  {
   "cell_type": "markdown",
   "metadata": {},
   "source": [
    "Nous tentons maintenant de faire jouer nous différents réseaux afin :\n",
    "de les confronter aux règles de jeux, et voir si le réseau de prédit pas dénouer des coups qui ne serait pas possibles.\n",
    "De tester si et comment l’accuracy se traduit en capacité de gagner le jeu.\n",
    "…\n",
    "Pour cela on commencer par tester le NN contre un bot jouant de façon aléatoire.\n",
    "\n",
    "player = 1 : Horizontal (H)\n",
    "player = 2 : Vertical (V)\n"
   ]
  },
  {
   "cell_type": "markdown",
   "metadata": {},
   "source": [
    "Code pour jouer les parties standard :\n",
    "- Évaluer les coups possibles \n",
    "- Choisir un coup à jouer (random ou par Monte Carlo)\n",
    "- Jouer le coup, ie: mettre à jours le damier\n",
    "- jouer une partie complète et retourner le vainqueur\n",
    "Au global:\n",
    "- Un bot random : qui joue aléatoirement\n",
    "- un bot Monte Carlo (noté MC): qui va réaliser un nombre d'itération définit et tester des possibilités de jeux qui mennent à la victoire, le coup choisi pour etre joué est celui dont le nombres de victoire est le plus important dans les multiples chaines joués.\n"
   ]
  },
  {
   "cell_type": "code",
   "execution_count": null,
   "metadata": {},
   "outputs": [],
   "source": [
    "import random\n",
    "from random import randint\n",
    "\n",
    "def coup_H(A,i,j):\n",
    "    if A[i,j] == 0 and A[i+1,j] == 0:\n",
    "        A[i,j] = 1\n",
    "        A[i+1,j] = 1\n",
    "        \n",
    "def coup_V(A,i,j):\n",
    "    if A[i,j] == 0 and A[i,j+1] == 0:\n",
    "        A[i,j] = 2\n",
    "        A[i,j+1] = 2\n",
    "        \n",
    "def coups_possibles_H(A):\n",
    "    liste_possible = []\n",
    "    for i in range(0,len(A)-1):\n",
    "        for j in range(0,len(A)):\n",
    "            if A[i,j] ==0 and A[i+1,j] == 0:\n",
    "                liste_possible.append((i,j))\n",
    "    return liste_possible\n",
    "\n",
    "def coups_possibles_V(A):\n",
    "    liste_possible = []\n",
    "    for i in range(0,len(A)):\n",
    "        for j in range(0,len(A)-1):\n",
    "            if A[i,j] ==0 and A[i,j+1] == 0:\n",
    "                liste_possible.append((i,j))\n",
    "    return liste_possible\n",
    "\n",
    "\n",
    "def rand_domineering(A, player):\n",
    "    while 1:\n",
    "        if player == 1:\n",
    "            if coups_possibles_H(A) != []:\n",
    "                play = random.choice(coups_possibles_H(A))\n",
    "                coup_H(A, play[0], play[1])\n",
    "                player = 2\n",
    "            else:\n",
    "                return player\n",
    "        if player == 2:\n",
    "            if coups_possibles_V(A) != []:\n",
    "                play = random.choice(coups_possibles_V(A))\n",
    "                coup_V(A, play[0], play[1])\n",
    "                player = 1\n",
    "            else:\n",
    "                return player\n",
    "\n",
    "def mc_domineering(A, player,niter):\n",
    "    while 1:\n",
    "        if player == 1:\n",
    "            if coups_possibles_H(A) != []:\n",
    "                play = montecarlo(A, player,niter)\n",
    "                coup_H(A, play[0], play[1])\n",
    "                player = 2\n",
    "            else:\n",
    "                return player\n",
    "        if player == 2:\n",
    "            if coups_possibles_V(A) != []:\n",
    "                play = montecarlo(A, player,niter)\n",
    "                coup_V(A, play[0], play[1])\n",
    "                player = 1\n",
    "            else:\n",
    "                return player\n",
    "\n",
    "\n",
    "def montecarlo(A, player, niter) :\n",
    "    B = np.copy(A)\n",
    "    if player == 1:\n",
    "        moves = coups_possibles_H(B)\n",
    "        if moves != []:\n",
    "            for coup in moves:\n",
    "                victoire = np.zeros(len(moves))\n",
    "                for i in range(0,niter):\n",
    "                    coup_H(B, coup[0], coup[1])\n",
    "                    loser = rand_domineering(B, 2)\n",
    "                    if loser == 2:\n",
    "                        victoire[moves.index(coup)] = victoire[moves.index(coup)] + 1\n",
    "    if player == 2:\n",
    "        moves = coups_possibles_V(B)\n",
    "        if moves != []:\n",
    "            for coup in moves:\n",
    "                victoire = np.zeros(len(moves))\n",
    "                for i in range(0,niter):\n",
    "                    coup_V(B, coup[0], coup[1])\n",
    "                    loser = rand_domineering(B, 1)\n",
    "                    if loser == 1:\n",
    "                        victoire[moves.index(coup)] = victoire[moves.index(coup)] + 1\n",
    "    victoire = victoire / niter\n",
    "    max = 0\n",
    "    for i in range(0, len(victoire)):\n",
    "        if victoire[i] > max:\n",
    "            max = victoire[i]\n",
    "            coupchoisi = moves[i]\n",
    "    return coupchoisi\n",
    "\n",
    "\n",
    "def rand_vs_mc_domineering(A, player,niter):\n",
    "    while 1:\n",
    "        if player == 1:\n",
    "            if coups_possibles_H(A) != []:\n",
    "                play = montecarlo(A, player,niter)\n",
    "                coup_H(A, play[0], play[1])\n",
    "                player = 2\n",
    "            else:\n",
    "                return player\n",
    "        if player == 2:\n",
    "            if coups_possibles_V(A) != []:\n",
    "                play = random.choice(coups_possibles_V(A))\n",
    "                coup_V(A, play[0], play[1])\n",
    "                player = 1\n",
    "            else:\n",
    "                return player"
   ]
  },
  {
   "cell_type": "markdown",
   "metadata": {},
   "source": [
    "**Faisont jouer ensemble les BOTs:**\n",
    "- Random VS Ramdom\n",
    "- Random VS MC\n",
    "- MC VS MC\n"
   ]
  },
  {
   "cell_type": "code",
   "execution_count": null,
   "metadata": {},
   "outputs": [],
   "source": [
    "niter = 100 #itération de MC\n",
    "ngame = 10 #nombres de parties\n",
    "\n",
    "losers_Ran_VS_Ran = []\n",
    "losers_Ran_VS_MC = []\n",
    "losers_MC_VS_MC = []\n",
    "\n",
    "\n",
    "for i in range(0,ngame):\n",
    "    player = randint(1,2)\n",
    "    damier = np.zeros((8, 8))\n",
    "    losers_Ran_VS_Ran.append(rand_domineering(damier, player))\n",
    "\n",
    "for i in range(0,ngame):\n",
    "    player = randint(1,2)\n",
    "    damier = np.zeros((8, 8))\n",
    "    losers_MC_VS_MC.append(mc_domineering(damier, player,niter))\n",
    "\n",
    "for i in range(0,ngame):\n",
    "    player = randint(1,2)\n",
    "    damier = np.zeros((8, 8))\n",
    "    losers_Ran_VS_MC.append(rand_vs_mc_domineering(damier, player,niter))\n",
    " \n",
    "\n",
    "    \n",
    "print(\"Random VS Ramdom Joueur 1 perd (%):  \",100*np.count_nonzero( np.array(losers_Ran_VS_Ran) == 1)/ngame)\n",
    "\n",
    "print(\"Random VS MC Joueur 1 perd (%): \",100*np.count_nonzero( np.array(losers_Ran_VS_MC) == 1)/ngame)\n",
    "\n",
    "print(\"MC VS MC Joueur 1 perd (%): \",100*np.count_nonzero( np.array(losers_MC_VS_MC) == 1)/ngame)\n"
   ]
  },
  {
   "cell_type": "markdown",
   "metadata": {},
   "source": [
    "Commentaire ..."
   ]
  },
  {
   "cell_type": "markdown",
   "metadata": {},
   "source": [
    "## Partie joués avec les réseaux de neurones (NN) VS Bots"
   ]
  },
  {
   "cell_type": "markdown",
   "metadata": {},
   "source": [
    "### Code spécifique pour jouer les parties "
   ]
  },
  {
   "cell_type": "markdown",
   "metadata": {},
   "source": [
    "Afin de pouvoir utiliser les réseaux que l'on a entrainés nous avons :\n",
    "- Remettre le damier dans un format de données compatible (comme pour le train/test)\n",
    "- Adapter le code, notamment pour éviter que le NN joue à des positions qu'il n’a pas de droit. En effet en faisant des tests on a remarqué que les réseaux tentent des coups qui ne sont pas possibles, notamment lorsque le damier commence à être beaucoup rempli\n",
    "\n",
    "Nous avons choisi de tester les bots contre le réseau modèle3 :  sans MaxPooling avec Dropout et entrainé sur le jeu de données augmenté avec la symmétrie à 90 degrés"
   ]
  },
  {
   "cell_type": "code",
   "execution_count": null,
   "metadata": {},
   "outputs": [],
   "source": [
    "#remetre l'etat de jeu compréhensible par le NN\n",
    "def f(a):\n",
    "    if a>0:\n",
    "        return 1\n",
    "    return 0\n",
    "\n",
    "def to_bool(xx):\n",
    "    x = xx.ravel()\n",
    "    return np.fromiter((f(xi) for xi in x), x.dtype).reshape(8,8)\n",
    "\n",
    "def swap_player(xx):\n",
    "    x = xx.ravel()\n",
    "    return np.fromiter((np.where(xi==0,1,0) for xi in x), x.dtype).reshape(8,8)\n",
    "\n",
    "def coup_NN(A,player,NN_name):\n",
    "    state = np.zeros((1, 8, 8, 3)) \n",
    "    state[0,:,:,0] = to_bool(A)\n",
    "    state[0,:,:,1] = swap_player(state[0,:,:,0])\n",
    "    if player == 2 :\n",
    "        state[0,:,:,2] = np.ones((8,8) ,dtype=np.int16)\n",
    "    pos = np.argmax(NN_name.predict(state))\n",
    "    return (pos // 8, pos % 8 )"
   ]
  },
  {
   "cell_type": "markdown",
   "metadata": {},
   "source": [
    "### Réseau de neurone (NN) VS random bot"
   ]
  },
  {
   "cell_type": "code",
   "execution_count": null,
   "metadata": {},
   "outputs": [],
   "source": [
    "ngame = 2000\n",
    "\n",
    "#jouer contre un bot random\n",
    "def rand_VS_NN(A, player, NN_name):\n",
    "    nb_bad = 0 \n",
    "    while 1:\n",
    "        if player == 1:\n",
    "            if coups_possibles_H(A) != []:\n",
    "               # print(A)\n",
    "                play = coup_NN(A,player,NN_name)\n",
    "               # print(play)\n",
    "                if play[0] > 6:\n",
    "                    play = random.choice(coups_possibles_H(A)) \n",
    "                    nb_bad = nb_bad + 1\n",
    "                coup_H(A, play[0], play[1])\n",
    "                player = 2\n",
    "            else:\n",
    "                return (player,nb_bad)\n",
    "        if player == 2:\n",
    "            if coups_possibles_V(A) != []:\n",
    "                play = random.choice(coups_possibles_V(A))\n",
    "                coup_V(A, play[0], play[1])\n",
    "                player = 1\n",
    "            else:\n",
    "                return (player,nb_bad)\n",
    "    \n",
    "\n",
    "losers_ranNN = []\n",
    "\n",
    "\n",
    "for i in range(0,ngame):\n",
    "    player = randint(1,2)\n",
    "    damier = np.zeros((8, 8))\n",
    "    losers_ranNN.append(rand_VS_NN(damier, player,model3))\n",
    "\n",
    "    \n",
    "print(\"In Random Domineering, NN loses (%) : \",100*np.count_nonzero( np.array(losers_ranNN)[:,0] == 1)/ngame)\n",
    "print(\" En moyenne le NN tente de jouer XX coups impossibles par partie\", sum (np.array(losers_ranNN)[:,1])/ngame)\n"
   ]
  },
  {
   "cell_type": "markdown",
   "metadata": {},
   "source": [
    "On constate que:\n",
    "\n",
    "- Le NN perd quand même quelques rares fois contre un bot qui joue aléatoirement (environ 0,2%)\n",
    "- le NN tente également de jouer dans des positions qui ne font pas partie des coups possibles (dernières ligne ou colonnes, ou carrément à des endroits où il n'y a pas de place) : Ce phénomène est relativement dérangeant, car on n’a jamais appris au réseau à jouer de cette manière. Même si  l’acurracy est seulement de 0.5 on aura pu penser que le réseau avait « au moins » compris qu’il ne pouvait pas jouer dans les endroits déjà prie.\n",
    "\n",
    "Afin de corriger ce, en cas de prédiction de coup impossible, on remplace encore une fois par un coup aléatoire.\n",
    "\n",
    "On test maintenant contre un bot monte-carlo : ie un bot qui va tester plusieurs combinaison et ne retenir que les coup qui mènent à une victoire "
   ]
  },
  {
   "cell_type": "markdown",
   "metadata": {},
   "source": [
    "## NN VS MC"
   ]
  },
  {
   "cell_type": "markdown",
   "metadata": {},
   "source": [
    "Le code est adapté pour faire jouer le NN ans les deux sens: vertival et horizontal. Cela permet de vérifier que le comportement est similaire dans ces deux cas."
   ]
  },
  {
   "cell_type": "code",
   "execution_count": null,
   "metadata": {},
   "outputs": [],
   "source": [
    "def MC_VS_NN1(A, player, NN_name, niter):\n",
    "    nb_bad = 0 \n",
    "    while 1:\n",
    "        if player == 1:\n",
    "            cpH = coups_possibles_H(A)\n",
    "            if cpH != []:\n",
    "                play = coup_NN(A,player,NN_name)\n",
    "                if (play not in cpH):\n",
    "                    play = random.choice(cpH) \n",
    "                    nb_bad = nb_bad + 1\n",
    "                coup_H(A, play[0], play[1])\n",
    "                player = 2\n",
    "            else:\n",
    "                return (player,nb_bad)\n",
    "        if player == 2:\n",
    "            if coups_possibles_V(A) != []:\n",
    "                play = montecarlo(A, player, niter)\n",
    "                coup_V(A, play[0], play[1])\n",
    "                player = 1\n",
    "            else:\n",
    "                return (player,nb_bad)\n",
    "            \n",
    "            \n",
    "def MC_VS_NN2(A, player, NN_name, niter):\n",
    "    nb_bad = 0 \n",
    "    while 1:\n",
    "        if player == 2:\n",
    "            cpV = coups_possibles_V(A)\n",
    "            if cpV != []:\n",
    "                play = coup_NN(A,player,NN_name)\n",
    "                if (play not in cpV):\n",
    "                    play = random.choice(cpV) \n",
    "                    nb_bad = nb_bad + 1\n",
    "                coup_V(A, play[0], play[1])\n",
    "                player = 1\n",
    "            else:\n",
    "                return (player,nb_bad)\n",
    "        if player == 1:\n",
    "            if coups_possibles_H(A) != []:\n",
    "                play = montecarlo(A, player, niter)\n",
    "                coup_H(A, play[0], play[1])\n",
    "                player = 2\n",
    "            else:\n",
    "                return (player,nb_bad)"
   ]
  },
  {
   "cell_type": "code",
   "execution_count": null,
   "metadata": {},
   "outputs": [],
   "source": [
    "ngame = 20\n",
    "niter = 500 #pour MC\n",
    "\n",
    "losers_MCNN1 = []\n",
    "\n",
    "\n",
    "for i in range(0,ngame):\n",
    "    player = randint(1,2)\n",
    "    damier = np.zeros((8, 8))\n",
    "    losers_MCNN1.append(MC_VS_NN1(damier, player,model3, niter))      \n",
    "                 \n",
    "print(\"In MC Domineering, NN (vertical) loses (%) : \",100*np.count_nonzero( np.array(losers_MCNN1)[:,0] == 1)/ngame)\n",
    "print(\" En moyenne le NN tente de jouer \", sum (np.array(losers_MCNN1)[:,1])/ngame , \"  coups impossibles par partie\")\n",
    "    \n",
    "\n",
    "losers_MCNN2 = []\n",
    "\n",
    "for i in range(0,ngame):\n",
    "    player = randint(1,2)\n",
    "    damier = np.zeros((8, 8))\n",
    "    losers_MCNN2.append(MC_VS_NN2(damier, player,model3, niter))      \n",
    "            \n",
    "print(\"In MC Domineering, NN (horizontal) loses (%) : \",100*np.count_nonzero( np.array(losers_MCNN2)[:,0] == 2)/ngame)\n",
    "print(\" En moyenne le NN tente de jouer \", sum (np.array(losers_MCNN2)[:,1])/ngame , \"  coups impossibles par partie\")"
   ]
  },
  {
   "cell_type": "markdown",
   "metadata": {},
   "source": [
    "**Constats de NN VS MC :**\n",
    "- le réseau bat systématiquement le bot MC, peu importe la position de jeux\n",
    "- Même en augmentant le nombre d’itérations de MC, le NN gagne toujours.\n",
    "\n",
    "Le réseau a été entrainé à l’aide d’un jeu de données issues de parties jouées avec du Monte-Carlo (pour trouver le meilleur coup à jouer). Mais nous n’avons pas exactement plus de détail sur le données.\n",
    "Le fait que le réseau soit toujours meilleur laisse penser que :\n",
    "\n",
    "- les coups du jeu d’entrainement sont de « bonnes qualités » , c.-à-d. générées avec beaucoup  d’itération de Monte-Carlo. Et donc peu être qu’en augmentant beaucoup niter on aurait un bot MC gagnant. Nous avons testé jusqu’ à 500 itérations, sans succès. \n"
   ]
  },
  {
   "cell_type": "markdown",
   "metadata": {},
   "source": [
    "### Remarque : NN VS Bots\n",
    "\n",
    "- Le NN gagne toutes les parties lorsqu'il joue contre des bot MC \n",
    "- le NN perds quelques parties lorsqu'il joue contre des bot aléatoire, il tente également des coups interdit\n",
    "\n",
    "Cela illustre bien le défaut connu des NN à gérer des situations nouvelles pour lequel il n’a pas été entrainé (car le jeu d’entrainement est issu de simulation de Monte Carlo). \n",
    "\n"
   ]
  },
  {
   "cell_type": "markdown",
   "metadata": {},
   "source": [
    "## Affrontement entre les NN et réutilisation des coups gagnants"
   ]
  },
  {
   "cell_type": "markdown",
   "metadata": {},
   "source": [
    "Dans cette partie on va faire jouer plusieurs NN les uns contre les autres afin de :\n",
    "\n",
    "- Comprendre quelle structure de réseau est plus performante\n",
    "- Voir comment l'accuracy et le fait de gagner les parties sont liés (ou pas)\n",
    "- Réutiliser les historiques des parties pour augmenter le train\n",
    "\n",
    "*le code suivant sert à jouer des parties NN VS NN ou NN VS MC en conservant les coups joués par le vainqueur*"
   ]
  },
  {
   "cell_type": "code",
   "execution_count": null,
   "metadata": {},
   "outputs": [],
   "source": [
    "#pour chaque coups retourne l'etat du board en format NN et la position choisi par le Réseau\n",
    "def ReturnPlayForHist(A,player,NN_name, play):\n",
    "    state = np.zeros((1, 8, 8, 3)) \n",
    "    state[0,:,:,0] = to_bool(A)\n",
    "    state[0,:,:,1] = swap_player(state[0,:,:,0])\n",
    "    if player == 2 :\n",
    "        state[0,:,:,2] = np.ones((8,8) ,dtype=np.int16)\n",
    "    pos =  play[0] + 8*play[1]\n",
    "    pos_v = np.zeros(64)\n",
    "    pos_v[pos] = 1\n",
    "    return (state[0,:,:,0],state[0,:,:,1],state[0,:,:,2],pos_v)\n",
    "           \n",
    "#Meme fonction que précédement mais retroune égalemement l'historique (du vainqueur)\n",
    "\n",
    "def MC_VS_NN1_histo(A, player, NN_name, niter,name):\n",
    "    nb_bad = 0\n",
    "    Historique1 = []\n",
    "    Historique2 = []\n",
    "    while 1:\n",
    "        if player == 1:\n",
    "            cpH = coups_possibles_H(A)\n",
    "            if cpH != []:\n",
    "                play = coup_NN(A,player,NN_name)\n",
    "                if (play not in cpH):\n",
    "                    play = random.choice(cpH) \n",
    "                    nb_bad = nb_bad + 1\n",
    "                Historique1.append(ReturnPlayForHist(A,player,NN_name,play))\n",
    "                coup_H(A, play[0], play[1])\n",
    "                player = 2\n",
    "            else:\n",
    "               # print(PassHisto)\n",
    "                return (name,nb_bad),Historique2\n",
    "        if player == 2:\n",
    "            if coups_possibles_V(A) != []:\n",
    "                play = montecarlo(A, player, niter)\n",
    "                Historique2.append(ReturnPlayForHist(A,player,\"MC_Algo\",play))\n",
    "                coup_V(A, play[0], play[1])\n",
    "                player = 1\n",
    "            else:\n",
    "                PassHisto = Historique1\n",
    "                #print(PassHisto)\n",
    "                return (\"MC_Algo\",nb_bad),Historique1\n",
    "\n",
    "def MC_VS_NN2_histo(A, player, NN_name, niter,name):\n",
    "    nb_bad = 0\n",
    "    Historique1 = []\n",
    "    Historique2 = []\n",
    "    while 1:\n",
    "        if player == 2:\n",
    "            cpV = coups_possibles_V(A)\n",
    "            if cpV != []:\n",
    "                play = coup_NN(A,player,NN_name)\n",
    "                if (play not in cpV):\n",
    "                    play = random.choice(cpV) \n",
    "                    nb_bad = nb_bad + 1\n",
    "                Historique1.append(ReturnPlayForHist(A,player,NN_name,play))\n",
    "                coup_V(A, play[0], play[1])\n",
    "                player = 1\n",
    "            else:\n",
    "                return (name,nb_bad),Historique2\n",
    "        if player == 1:\n",
    "            if coups_possibles_H(A) != []:\n",
    "                play = montecarlo(A, player, niter)\n",
    "                Historique2.append(ReturnPlayForHist(A,player,\"MC_Algo\",play))\n",
    "                coup_H(A, play[0], play[1])\n",
    "                player = 2\n",
    "            else:\n",
    "                return (\"MC_Algo\",nb_bad),Historique1            \n",
    "            \n",
    "            \n",
    "def NN_VS_NN(A, player, NN_name1, NN_name2, NN_name1STR, NN_name2STR):\n",
    "    nb_bad = 0\n",
    "    Historique1 = []\n",
    "    Historique2 = []\n",
    "    while 1:\n",
    "        if player == 1:\n",
    "            cpH = coups_possibles_H(A)\n",
    "            if cpH != []:\n",
    "                play = coup_NN(A,player,NN_name1)\n",
    "                if (play not in cpH):\n",
    "                    play = random.choice(cpH) \n",
    "                    nb_bad = nb_bad + 1\n",
    "                Historique1.append(ReturnPlayForHist(A,player,NN_name1,play))\n",
    "                coup_H(A, play[0], play[1])\n",
    "                player = 2\n",
    "            else:\n",
    "                return (NN_name1STR,nb_bad),Historique2\n",
    "        if player == 2:\n",
    "            cpV = coups_possibles_V(A)\n",
    "            if cpV != []:\n",
    "                play = coup_NN(A,player,NN_name2)\n",
    "                if (play not in cpV):\n",
    "                    play = random.choice(cpV) \n",
    "                    nb_bad = nb_bad + 1\n",
    "                Historique2.append(ReturnPlayForHist(A,player,NN_name2,play))\n",
    "                coup_V(A, play[0], play[1])\n",
    "                player = 1\n",
    "            else:\n",
    "                return (NN_name2STR,nb_bad),Historique1\n",
    "            "
   ]
  },
  {
   "cell_type": "markdown",
   "metadata": {},
   "source": [
    "## Choix de l'architecture des réseaux "
   ]
  },
  {
   "cell_type": "markdown",
   "metadata": {},
   "source": [
    "**le code suivant sert à jouer des parties NN VS NN ou NN VS MC en conservant les coups joués par le vainqueur**\n",
    "\n",
    "nous avons remis le code des modèles déjà détaillés en partie I (pour plus de lisibilité)\n",
    "\n",
    "Les modèles utilisés pour la suite seront :\n",
    "- le modèle de base : 6 couches denses Conv2D\n",
    "- le modèle dropout_01: idem avec un dropout sur chaque couche de 0.1\n",
    "- le modèle dropout_03: idem avec un dropout sur chaque couche de 0.3\n",
    "- le modèle dropout_L: idem avec un dropout variable de 0.1 en entrée et 0.3 en sortie par pas de 0.05\n",
    "\n",
    "Ces 4 modèles sont entrainés :\n",
    "\n",
    "- une fois **sans** Data Augmentation (DA)\n",
    "- une fois **avec** DA\n",
    "\n",
    "Soit 8 réseaux au total\n"
   ]
  },
  {
   "cell_type": "code",
   "execution_count": null,
   "metadata": {},
   "outputs": [],
   "source": [
    "# liste des modèles:\n",
    "cstboard_size = 8\n",
    "\n",
    "def get_model_base(board_size = cstboard_size):\n",
    "    model = Sequential()\n",
    "    model.add(Conv2D(64, kernel_size=(3, 3), activation='relu', input_shape=(board_size, board_size, 3), padding=\"same\"))\n",
    "    model.add(Conv2D(64, (3, 3), activation='relu', padding=\"same\"))\n",
    "    model.add(Conv2D(64, (3, 3), activation='relu', padding=\"same\"))\n",
    "    model.add(Conv2D(64, (3, 3), activation='relu', padding=\"same\"))\n",
    "    model.add(Conv2D(64, (3, 3), activation='relu', padding=\"same\"))\n",
    "    model.add(Conv2D(64, (3, 3), activation='relu', padding=\"same\"))\n",
    "    model.add(Flatten())\n",
    "    model.add(Dense(board_size**2, activation='softmax'))\n",
    "    model.compile(loss=keras.losses.categorical_crossentropy, optimizer=keras.optimizers.Adadelta(), metrics=['accuracy'])\n",
    "    return model\n",
    "\n",
    "def get_model_dropout_01(board_size = cstboard_size):\n",
    "    model = Sequential()\n",
    "    droprate = .1\n",
    "    model.add(Conv2D(64, kernel_size=(3, 3), activation='relu',input_shape=(board_size, board_size,3), padding=\"same\",data_format='channels_last'))\n",
    "    model.add(Conv2D(64, (3, 3), activation='relu', padding=\"same\"))\n",
    "    model.add(Dropout(droprate)) \n",
    "    model.add(Conv2D(64, (3, 3), activation='relu', padding=\"same\")) \n",
    "    model.add(Dropout(droprate)) \n",
    "    model.add(Conv2D(64, (3, 3), activation='relu', padding=\"same\"))\n",
    "    model.add(Dropout(droprate)) \n",
    "    model.add(Conv2D(64, (3, 3), activation='relu', padding=\"same\"))\n",
    "    model.add(Dropout(droprate)) \n",
    "    model.add(Conv2D(64, (3, 3), activation='relu', padding=\"same\"))\n",
    "    model.add(Dropout(droprate))\n",
    "    model.add(Flatten())\n",
    "    model.add(Dense(board_size**2, activation='softmax'))    \n",
    "    model.compile(loss=keras.losses.categorical_crossentropy, optimizer=keras.optimizers.Adadelta(), metrics=['accuracy'])\n",
    "    return model\n",
    "\n",
    "def get_model_dropout_03(board_size = cstboard_size):\n",
    "    model = Sequential()\n",
    "    droprate = .3\n",
    "    model.add(Conv2D(64, kernel_size=(3, 3), activation='relu',input_shape=(board_size, board_size,3), padding=\"same\",data_format='channels_last'))\n",
    "    model.add(Conv2D(64, (3, 3), activation='relu', padding=\"same\"))\n",
    "    model.add(Dropout(droprate)) \n",
    "    model.add(Conv2D(64, (3, 3), activation='relu', padding=\"same\")) \n",
    "    model.add(Dropout(droprate)) \n",
    "    model.add(Conv2D(64, (3, 3), activation='relu', padding=\"same\"))\n",
    "    model.add(Dropout(droprate)) \n",
    "    model.add(Conv2D(64, (3, 3), activation='relu', padding=\"same\"))\n",
    "    model.add(Dropout(droprate)) \n",
    "    model.add(Conv2D(64, (3, 3), activation='relu', padding=\"same\"))\n",
    "    model.add(Dropout(droprate))\n",
    "    model.add(Flatten())\n",
    "    model.add(Dense(board_size**2, activation='softmax'))    \n",
    "    model.compile(loss=keras.losses.categorical_crossentropy, optimizer=keras.optimizers.Adadelta(), metrics=['accuracy'])\n",
    "    return model\n",
    "\n",
    "\n",
    "def get_model_dropout_L(board_size = cstboard_size):\n",
    "    model = Sequential()\n",
    "    model.add(Conv2D(64, kernel_size=(3, 3), activation='relu',input_shape=(board_size, board_size,3), padding=\"same\",data_format='channels_last'))\n",
    "    model.add(Conv2D(64, (3, 3), activation='relu', padding=\"same\"))\n",
    "    model.add(Dropout(.1)) \n",
    "    model.add(Conv2D(64, (3, 3), activation='relu', padding=\"same\")) \n",
    "    model.add(Dropout(.15)) \n",
    "    model.add(Conv2D(64, (3, 3), activation='relu', padding=\"same\"))\n",
    "    model.add(Dropout(.2)) \n",
    "    model.add(Conv2D(64, (3, 3), activation='relu', padding=\"same\"))\n",
    "    model.add(Dropout(.25)) \n",
    "    model.add(Conv2D(64, (3, 3), activation='relu', padding=\"same\"))\n",
    "    model.add(Dropout(.3))\n",
    "    model.add(Flatten())\n",
    "    model.add(Dense(board_size**2, activation='softmax'))    \n",
    "    model.compile(loss=keras.losses.categorical_crossentropy, optimizer=keras.optimizers.Adadelta(), metrics=['accuracy'])\n",
    "    return model"
   ]
  },
  {
   "cell_type": "markdown",
   "metadata": {},
   "source": [
    "Pour plus de lisibilité le code pour la préparation des données et la data Augmentation est remis ici.\n",
    "Il servira également à traiter les données issues des historiques.\n",
    "\n",
    "**Nous avons choisi ici de ne pas augmenter les données pour le test, notamment car nous voulons tester les réseaux sur une base commune et donc avec un train sans DA pour tous**\n"
   ]
  },
  {
   "cell_type": "code",
   "execution_count": null,
   "metadata": {},
   "outputs": [],
   "source": [
    "#augmenter le train\n",
    "train_aug = False\n",
    "\n",
    "\n",
    "#fichier original\n",
    "filename = 'domineering.csv'\n",
    "df = pd.read_csv(filename, sep=',', na_values=[\"\"], header=None)\n",
    "board_size = 8\n",
    "df=shuffle(df)\n",
    "data = df.values.tolist()\n",
    "train = data[:int(0.7*len(data))]\n",
    "test = data[int(0.7*len(data)):]\n",
    "\n",
    "#train / test standard (no data augment)\n",
    "\n",
    "def prepare_train_DA_NO(train,test):\n",
    "    X = []\n",
    "\n",
    "    for t in train:\n",
    "        row = prepare_data(t, board_size)\n",
    "        X.append(row)\n",
    "\n",
    "    X_train_DA_NO = np.array([k[0] for k in X])\n",
    "    Y_train_DA_NO = np.array([k[1] for k in X])\n",
    "\n",
    "    XT = []\n",
    "\n",
    "    for t in test:\n",
    "        row = prepare_data(t, board_size)\n",
    "        XT.append(row)\n",
    "\n",
    "    X_test_DA_NO = np.array([k[0] for k in XT])\n",
    "    Y_test_DA_NO = np.array([k[1] for k in XT])\n",
    "    \n",
    "    return X_train_DA_NO,Y_train_DA_NO,X_test_DA_NO,Y_test_DA_NO\n",
    "\n",
    "\n",
    "#train / test augmented (yes data augment)\n",
    "def prepare_train_DA_YES(train,test):\n",
    "    X = []\n",
    "\n",
    "    for t in train:\n",
    "        row = prepare_data(t, board_size)\n",
    "        X.append(row)\n",
    "        row_lr = prepare_data_lr(t, board_size)\n",
    "        X.append(row_lr)\n",
    "        row_ud = prepare_data_ud(t, board_size)\n",
    "        X.append(row_ud)\n",
    "        row_90=prepare_data_90(t,board_size)\n",
    "        X.append(row_90)\n",
    "\n",
    "    X_train_DA_YES = np.array([k[0] for k in X])\n",
    "    Y_train_DA_YES = np.array([k[1] for k in X])\n",
    "\n",
    "    XT = []\n",
    "\n",
    "    for t in test:\n",
    "        row = prepare_data(t, board_size)\n",
    "        XT.append(row)\n",
    "        if train_aug:\n",
    "            row_lr = prepare_data_lr(t, board_size)\n",
    "            XT.append(row_lr)\n",
    "            row_ud = prepare_data_ud(t, board_size)\n",
    "            XT.append(row_ud)\n",
    "            row_90=prepare_data_90(t,board_size)\n",
    "            XT.append(row_90)\n",
    "\n",
    "\n",
    "    X_test_DA_YES = np.array([k[0] for k in XT])\n",
    "    Y_test_DA_YES = np.array([k[1] for k in XT])\n",
    "    \n",
    "    return X_train_DA_YES,Y_train_DA_YES,X_test_DA_YES,Y_test_DA_YES\n",
    "\n",
    "def formathisto(HistoBrut):\n",
    "    return np.concatenate((HistoBrut[1][1][0].ravel(),HistoBrut[1][1][1].ravel(),HistoBrut[1][1][2].ravel(),HistoBrut[1][1][3].ravel()),axis=0)"
   ]
  },
  {
   "cell_type": "code",
   "execution_count": null,
   "metadata": {},
   "outputs": [],
   "source": [
    "X_train_DA_NO,Y_train_DA_NO,X_test_DA_NO,Y_test_DA_NO =  prepare_train_DA_NO(train,test)\n",
    "X_train_DA_YES,Y_train_DA_YES,X_test_DA_YES,Y_test_DA_YES =  prepare_train_DA_YES(train,test)\n"
   ]
  },
  {
   "cell_type": "markdown",
   "metadata": {},
   "source": [
    "- Génération des données de train et test\n",
    "- Chargement des modèles définis précédemment dans une liste dans une liste "
   ]
  },
  {
   "cell_type": "code",
   "execution_count": null,
   "metadata": {},
   "outputs": [],
   "source": [
    "Model_list = []\n",
    "Name_list = [\"base\",\"base_drop_01\",\"base_drop_03\",\"base_drop_L\",\"baseDA\",\"base_drop_01DA\",\"base_drop_03DA\",\"base_drop_LDA\" ]\n",
    "Model_list.append(get_model_base())\n",
    "Model_list.append(get_model_dropout_01())\n",
    "Model_list.append(get_model_dropout_03())\n",
    "Model_list.append(get_model_dropout_L())\n",
    "Model_list.append(get_model_base())\n",
    "Model_list.append(get_model_dropout_01())\n",
    "Model_list.append(get_model_dropout_03())\n",
    "Model_list.append(get_model_dropout_L())\n"
   ]
  },
  {
   "cell_type": "code",
   "execution_count": null,
   "metadata": {},
   "outputs": [],
   "source": [
    "def Keras_training(Model,X_train,Y_train):\n",
    "    callbacks_list = [ keras.callbacks.EarlyStopping( monitor='val_acc', patience=3 )]\n",
    "    history=Model.fit(X_train, Y_train, validation_split=0.1, epochs=20,batch_size=128,callbacks=callbacks_list)\n",
    "    return history"
   ]
  },
  {
   "cell_type": "markdown",
   "metadata": {},
   "source": [
    "Keras_training : \n",
    "\n",
    "- Pour arrêter automatiquement l’entrainement, ici on choit 3 epoch \n",
    "- Le nombre d’unités de calcul disponible sur la carte graphique permet de réduire le temps de calcul en augmentant le batch size. On ne préfère cependant pas trop l’augmenter pour garder une certaine cohérence dans l’apprentissage (de position précise…)\n"
   ]
  },
  {
   "cell_type": "code",
   "execution_count": null,
   "metadata": {},
   "outputs": [],
   "source": [
    "Historique_all = []\n",
    "t = time.process_time()\n",
    "Historique_all.append(Keras_training(Model_list[0],X_train_DA_NO,Y_train_DA_NO))\n",
    "Historique_all.append(Keras_training(Model_list[1],X_train_DA_NO,Y_train_DA_NO))\n",
    "Historique_all.append(Keras_training(Model_list[2],X_train_DA_NO,Y_train_DA_NO))\n",
    "Historique_all.append(Keras_training(Model_list[3],X_train_DA_NO,Y_train_DA_NO))\n",
    "Historique_all.append(Keras_training(Model_list[4],X_train_DA_YES,Y_train_DA_YES))\n",
    "Historique_all.append(Keras_training(Model_list[5],X_train_DA_YES,Y_train_DA_YES))\n",
    "Historique_all.append(Keras_training(Model_list[6],X_train_DA_YES,Y_train_DA_YES))\n",
    "Historique_all.append(Keras_training(Model_list[7],X_train_DA_YES,Y_train_DA_YES))\n",
    "end = time.time()\n",
    "elapsed_time = time.process_time() - t\n",
    "print(elapsed_time) #660sec with batch = 64 ; 430sec with batch = 128"
   ]
  },
  {
   "cell_type": "markdown",
   "metadata": {},
   "source": [
    "**Commentaire sur l’apprentissage :**\n",
    "\n",
    "Pour les modèles sans DA :\n",
    "\n",
    "- Les modèles sans dropout sont plus rapides à entrainer : 8 Epoch pour base, 10 Epoch pour dropout_01, 12 Epoch pour dropout_03. \n",
    "- Étrangement le dropout_L (avec un dropout cumulé inférieur à dropout_03) met 13 Epoch (donc plus que dropout_03)\n",
    "\n",
    "Pour les modèles avec DA (4 fois plus d’exemples) :\n",
    "\n",
    "- le modèle de base met plus d’ Epoch (11) que sans DA, bien que le nombre d’exemples soit 4 fois plus important\n",
    "- le modèle dropout_01 met seulement 8 Epoch à s’entrainer, c’est moins que sans DA. Peut être que ce taux de drop produit des effets intéressants sur le réseau (pour le type de problématique que nous avons ici)\n",
    "- Le dropout_03 met plus d’Epoch à l’entrainer\n",
    "- Le dropout_L met le même nombre d’Epoch (c’est le seul qui n’a pas bougé)\n"
   ]
  },
  {
   "cell_type": "code",
   "execution_count": null,
   "metadata": {},
   "outputs": [],
   "source": [
    "for i in np.arange(0,len(Historique_all)):\n",
    "    if i == 0:\n",
    "        df_data = pd.DataFrame(data = Historique_all[i].history)\n",
    "        df_data[\"Model\"] = Name_list[i]\n",
    "    else:\n",
    "        df_datatmp = pd.DataFrame(data = Historique_all[i].history)\n",
    "        df_datatmp[\"Model\"] = Name_list[i]\n",
    "        df_data = pd.concat([df_data,df_datatmp])\n"
   ]
  },
  {
   "cell_type": "markdown",
   "metadata": {},
   "source": [
    "**Visualisation de l'accuracy sur le test :**"
   ]
  },
  {
   "cell_type": "code",
   "execution_count": null,
   "metadata": {},
   "outputs": [],
   "source": [
    "labels = []\n",
    "plt.figure(figsize=(15,8))\n",
    "for i in np.arange(0,len(Historique_all)):\n",
    "    plt.plot(np.arange(0,len(Historique_all[i].history[\"val_acc\"])), Historique_all[i].history[\"val_acc\"])\n",
    "    \n",
    "plt.legend(np.array(Name_list))"
   ]
  },
  {
   "cell_type": "code",
   "execution_count": null,
   "metadata": {},
   "outputs": [],
   "source": [
    "sns.set(style=\"whitegrid\")\n",
    "plt.figure(figsize=(15,8))\n",
    "sns.barplot(x=\"Model\", y=\"val_acc\", data=df_data , estimator= max)"
   ]
  },
  {
   "cell_type": "markdown",
   "metadata": {},
   "source": [
    "**Commentaire sur les graphiques de \"Val_acc\" (acuracy sur le test):**\n",
    "\n",
    "Systématiquement l’accuracy des réseaux entrainés sans DA est meilleur. \n",
    "### ARI : merci de trouver une explication plausible hahah…\n",
    "Nous pensons que cela vient de la structure des données : les exemples du CSV blabla \n"
   ]
  },
  {
   "cell_type": "markdown",
   "metadata": {},
   "source": [
    "## Simulations des parties entres NN"
   ]
  },
  {
   "cell_type": "markdown",
   "metadata": {},
   "source": [
    "### Etape 0 : test de tous les NN contre des bots MC"
   ]
  },
  {
   "cell_type": "markdown",
   "metadata": {},
   "source": [
    "Pour avoir plus d’info sur la performance et le comportement des réseaux on commence par le faire jouer chacun contre un bot Monte-Carlo."
   ]
  },
  {
   "cell_type": "code",
   "execution_count": null,
   "metadata": {},
   "outputs": [],
   "source": [
    "n_game = 100\n",
    "niter = 100\n",
    "\n",
    "Loser_badmove_MC = []\n",
    "HistoWinner_MC = []\n",
    "Histo_quel_NN_MC = []\n",
    "\n",
    "for m in np.arange(0,len(Model_list)):\n",
    "    for i in np.arange(0,n_game):\n",
    "        damier = np.zeros((8, 8))\n",
    "        player = randint(1,2)\n",
    "        sens = randint(0,1)\n",
    "        if sens == 0:\n",
    "            x,y = MC_VS_NN2_histo(damier, player, Model_list[m], niter, Name_list[m])\n",
    "        else :\n",
    "            x,y = MC_VS_NN1_histo(damier, player, Model_list[m], niter, Name_list[m])  \n",
    "        Loser_badmove_MC.append(x)\n",
    "        HistoWinner_MC.append(y)\n",
    "        Histo_quel_NN_MC.append(Name_list[m])\n",
    "    print(Name_list[m])"
   ]
  },
  {
   "cell_type": "code",
   "execution_count": null,
   "metadata": {},
   "outputs": [],
   "source": [
    "H01 = pd.DataFrame(np.array(Loser_badmove_MC)[:,0] , columns = [\"Nombre de défaites\"])\n",
    "print(H01.shape)\n",
    "sns.set(style = \"darkgrid\")\n",
    "sns.countplot(x = \"Nombre de défaites\",data = H01)"
   ]
  },
  {
   "cell_type": "markdown",
   "metadata": {},
   "source": [
    "le MC perds quasiment toutes se \n",
    "le MC gagne quelques parties contre le NN avec un dropout de 0.3 et la Data augmentation... c est assez bizzare, on verifira en réentrainant"
   ]
  },
  {
   "cell_type": "code",
   "execution_count": null,
   "metadata": {},
   "outputs": [],
   "source": [
    "d = {\"BadMove\" : np.array(Loser_badmove_MC)[:,1].astype(\"int32\"), \"NomNN\":np.array(Histo_quel_NN_MC)  }\n",
    "checkbad = pd.DataFrame(d)\n",
    "#plt.figure(figsize=(20,10))\n",
    "#ax = sns.barplot(x=\"NomNN\", y=\"BadMove\", data=checkbad)\n",
    "print(np.sum(checkbad.iloc[:,0]))\n",
    "checkbad.shape"
   ]
  },
  {
   "cell_type": "markdown",
   "metadata": {},
   "source": [
    "Les NN ne tentent pas de coups interdits quand ils jouent contre des bot MC (contrairement à precedement contre le bot random)"
   ]
  },
  {
   "cell_type": "markdown",
   "metadata": {},
   "source": [
    "### Etape 1 :  Faire jouer chaque réseau contre lui même\n"
   ]
  },
  {
   "cell_type": "markdown",
   "metadata": {},
   "source": [
    "Afin de contrôler les algorithmes et le comportement des NN on fait maintenant se battre le même réseau contre lui-même :\n",
    "- Pour rappel nous avons un double aléa sur l'initialisation des parties (sur qui commence et sur sa position de jeu)\n",
    "- Chaques réseau devrat avoir 50% de probabilité de gagner contre lui même (comme le jeux est equilibré)\n",
    "\n",
    "Pour vérifier cela, les réseaux sont labélisés H et V selon qu’ils jouent verticalement ou horizontalement. Les réseaux notés ainsi se battent contre eux-mêmes. "
   ]
  },
  {
   "cell_type": "code",
   "execution_count": null,
   "metadata": {},
   "outputs": [],
   "source": [
    "n_game = 100\n",
    "niter = 100\n",
    "\n",
    "Loser_badmove_Same_NN = []\n",
    "HistoWinner_Same_NN = []\n",
    "Histo_quel_NN_Same_NN = []\n",
    "\n",
    "for m0 in np.arange(0,len(Model_list)):\n",
    "    m1=m0\n",
    "    for i in np.arange(0,n_game):\n",
    "        damier = np.zeros((8, 8)) \n",
    "        player = randint(1,2)\n",
    "        sens = randint(0,1)\n",
    "        if sens == 0:\n",
    "            x,y =  NN_VS_NN(damier, player, Model_list[m0] , Model_list[m1],(Name_list[m0]+\"V\"),(Name_list[m1]+\"H\"))\n",
    "        else:\n",
    "            x,y = NN_VS_NN(damier, player, Model_list[m1] , Model_list[m0],(Name_list[m1]+\"V\"),(Name_list[m0]+\"H\"))\n",
    "        Loser_badmove_Same_NN.append(x)\n",
    "        HistoWinner_Same_NN.append(y)\n",
    "        Histo_quel_NN_Same_NN.append((Name_list[m0],Name_list[m1],x[0]))                          "
   ]
  },
  {
   "cell_type": "markdown",
   "metadata": {},
   "source": [
    "\n",
    "\n",
    "*Visualisation du nombre de défaites des NN:*"
   ]
  },
  {
   "cell_type": "code",
   "execution_count": null,
   "metadata": {},
   "outputs": [],
   "source": [
    "def graph_bar_defaites(Histo):\n",
    "    H02 = pd.DataFrame(np.array(Histo)[:,2] , columns = [\"Réseau\"])\n",
    "    plt.figure(figsize=(12,8))\n",
    "    H02[\"% de defaites\"] = 1\n",
    "    df_defaite_solo_G1 = 100*pd.pivot_table(H02, index = [\"Réseau\"], values = [\"% de defaites\"], aggfunc = np.sum )/(n_game)\n",
    "    df_defaite_solo_G1.sort_values([\"Réseau\"]).plot.bar()"
   ]
  },
  {
   "cell_type": "code",
   "execution_count": null,
   "metadata": {},
   "outputs": [],
   "source": [
    "H02 = pd.DataFrame(np.array(Histo_quel_NN_Same_NN)[:,2] , columns = [\"Réseau\"])\n",
    "H02.shape"
   ]
  },
  {
   "cell_type": "code",
   "execution_count": null,
   "metadata": {},
   "outputs": [],
   "source": [
    "graph_bar_defaites(Histo_quel_NN_Same_NN)"
   ]
  },
  {
   "cell_type": "markdown",
   "metadata": {},
   "source": [
    "**Étrangement, l’on constate que certains réseaux lorsqu’ ils jouent contre eux-mêmes ont deux sortes de comportements :**\n",
    "\n",
    "- Un nombre de défaites relativement équivalent pour le réseau jouant V et celui jouant H : Le réseau jouant contre lui-même est aussi performant dans les deux sens de jeux (count = +/- 50)\n",
    "\n",
    "- Toutes les défaites uniquement dans le même sens de jeux : Le réseau jouant contre lui-même perd systématiquement dans un sens (count = 100).\n",
    "\n",
    "**De plus si l’on ré entraine les réseaux (avec les mêmes données), ce ne sont pas les mêmes modèles de NN qui jouent de façon déséquilibrée. Ainsi cela semble mettre en évidence que les conditions d’initialisation des réseaux et l’ordre des exemples ont une influence sur le comportement du réseau.**\n"
   ]
  },
  {
   "cell_type": "markdown",
   "metadata": {},
   "source": [
    "                "
   ]
  },
  {
   "cell_type": "markdown",
   "metadata": {},
   "source": [
    "### Etape 3 :  Faire jouer chaque réseau contre les autres reseaux"
   ]
  },
  {
   "cell_type": "code",
   "execution_count": null,
   "metadata": {},
   "outputs": [],
   "source": [
    "n_game = 200\n",
    "\n",
    "Loser_badmove_NN_VS_NN = []\n",
    "HistoWinner_NN_VS_NN = []\n",
    "Histo_quel_NN_NN_VS_NN = []\n",
    "\n",
    "for m0 in np.arange(0,len(Model_list)): \n",
    "    for m1 in np.arange(0,len(Model_list)):\n",
    "        if m0 != m1:\n",
    "            for i in np.arange(0,n_game):\n",
    "                damier = np.zeros((8, 8)) #tester avec des etats aléatoirs apres\n",
    "                player = randint(1,2)\n",
    "                sens = randint(0,1)\n",
    "                if sens == 0:\n",
    "                    a,b = (Name_list[m0]),(Name_list[m1])\n",
    "                    x,y =  NN_VS_NN(damier, player, Model_list[m0] , Model_list[m1],a,b)\n",
    "                else:\n",
    "                    b,a = (Name_list[m1]),(Name_list[m0])\n",
    "                    x,y = NN_VS_NN(damier, player, Model_list[m1] , Model_list[m0],b,a)\n",
    "                Loser_badmove_NN_VS_NN.append(x)\n",
    "                HistoWinner_NN_VS_NN.append(y)\n",
    "                Histo_quel_NN_NN_VS_NN.append((a,b,x[0]))\n",
    "    print(m0, \"/\",len(Model_list)-1)"
   ]
  },
  {
   "cell_type": "code",
   "execution_count": null,
   "metadata": {},
   "outputs": [],
   "source": [
    "H03 = pd.DataFrame(np.array(Histo_quel_NN_NN_VS_NN)[:,2] , columns = [\"Réseau\"])\n",
    "plt.figure(figsize=(12,8))\n",
    "H03[\"% de defaites\"] = 1\n",
    "df_defaite_G1 = 100*pd.pivot_table(H03, index = [\"Réseau\"], values = [\"% de defaites\"], aggfunc = np.sum )/(len(Model_list)*2*n_game)\n",
    "df_defaite_G1.sort_values([\"% de defaites\"]).plot.bar()"
   ]
  },
  {
   "cell_type": "markdown",
   "metadata": {},
   "source": [
    "**En faisant jouer les NN contre les autres NN :**\n",
    "- Les NN avec Data Augmentation (DA) ont le moins de défaites : entre 30 et 40%\n",
    "- Les NN sans DA font environ 50% de défaites, sauf pour le NN de base avec 60%\n",
    "\n",
    "Le fait que réseaux fassent presque exactement 50% de défaites est surprenants : cela laisse penser que les conditions de début de partie ont une influence sur les résultats. On creuse cette idée dans regardant les scores entre chaque NN.\n"
   ]
  },
  {
   "cell_type": "code",
   "execution_count": null,
   "metadata": {},
   "outputs": [],
   "source": [
    "def graph_2DWinners(Histo_quel_NN_NN_VS_NN):\n",
    "    df_result = pd.DataFrame(data= Histo_quel_NN_NN_VS_NN , columns = [\"player_1\",\"player_2\",\"Looser\" ] )\n",
    "    df_result[\"P1_win\"] = (df_result[\"player_2\"] == df_result[\"Looser\"]).astype(\"int16\")\n",
    "    df_result[\"P2_win\"] = (df_result[\"player_1\"] == df_result[\"Looser\"]).astype(\"int16\")\n",
    "    df_result_game = pd.pivot_table(df_result, \"P1_win\" , \"player_1\" , \"player_2\")\n",
    "    plt.figure(figsize=(12,8), dpi= 80)\n",
    "    sns.heatmap(df_result_game, xticklabels=Name_list, yticklabels=Name_list, cmap='RdYlGn', center=0, annot=True)\n",
    "    plt.title('Taux de victoires par affrontement entre NN', fontsize=18)\n",
    "    plt.xticks(fontsize=12)\n",
    "    plt.yticks(fontsize=12)"
   ]
  },
  {
   "cell_type": "code",
   "execution_count": null,
   "metadata": {},
   "outputs": [],
   "source": [
    "graph_2DWinners(Histo_quel_NN_NN_VS_NN)"
   ]
  },
  {
   "cell_type": "markdown",
   "metadata": {},
   "source": [
    "**Les match entre les NN sont représentés sous la forme d'une matrice 2D, les lignes correspondent aux taux de victoires des NN contres les NN en colonnes**\n",
    "\n",
    "## Configuration des parties \n",
    "- Chaque réseau de nombreuses parties contre chaque autres réseaux .\n",
    "- Les prédictions des NN sont déterministes une fois le réseau entrainé, il jouera toujours pareil selon l'état du board. \n",
    "- Cela va aussi pour le premier coup de la partie et donc tous les coups suivants et pour toute la partie. l'état initiale du board erst donc déterminant sur la suite de la partie\n",
    "\n",
    "Ainsi comme nous avons un double aléa sur le début de partie : sur la position de jeux et sur qui joue en premier. On observe donc, à un petit aléa pres, que les NN gagnent à 0%, 25%, 50%, 75% ou 100% contre les autres réseaux. Cela veut dire que le réseau joue de façon systématiquement supérieure pour une configuration de départ.\n",
    "\n",
    "Afin de confirmer que les parties jouées par les réseaux se déroulent de la même façon si le début de partie est le même, on regarde peut regarder le nombre de coups uniques dans les historiques enregistrés\n"
   ]
  },
  {
   "cell_type": "markdown",
   "metadata": {},
   "source": [
    "\n",
    "\n"
   ]
  },
  {
   "cell_type": "code",
   "execution_count": null,
   "metadata": {},
   "outputs": [],
   "source": [
    "#pour remettre les data des parties dans le meme format que le csv\n",
    "def format_allGame(out_game_level0):\n",
    "    x1 = format_output(out_game_level0[0])\n",
    "    for i in np.arange(0,len(out_game_level0)):\n",
    "        x1 = np.vstack((x1, format_output(out_game_level0[i])))\n",
    "    return x1\n",
    "        \n",
    "def format_output(out_game_level1):\n",
    "    x1 = format_OneGame(out_game_level1[0])\n",
    "    for i in np.arange(len(out_game_level1)):\n",
    "        x1 = np.vstack((x1, format_OneGame(out_game_level1[i])))\n",
    "    return x1\n",
    "\n",
    "def format_OneGame(game_list_lvl2):\n",
    "    x = np.append(np.array(game_list_lvl2[0]).ravel(),np.array(game_list_lvl2[1]).ravel())\n",
    "    y = np.append(np.array(game_list_lvl2[2]).ravel(),np.array(game_list_lvl2[3]).ravel())\n",
    "    return np.append(x,y).reshape(1,256)\n"
   ]
  },
  {
   "cell_type": "markdown",
   "metadata": {},
   "source": [
    "Les historiques des parties sont remis dans un format standardisé (le même que le csv)"
   ]
  },
  {
   "cell_type": "code",
   "execution_count": null,
   "metadata": {},
   "outputs": [],
   "source": [
    "GameFormated_NN_VS_NN = format_allGame(HistoWinner_NN_VS_NN) "
   ]
  },
  {
   "cell_type": "code",
   "execution_count": null,
   "metadata": {},
   "outputs": [],
   "source": [
    "print(GameFormated_NN_VS_NN.shape)\n",
    "np.unique(GameFormated_NN_VS_NN, axis = 0).shape # shape(1638, 256)"
   ]
  },
  {
   "cell_type": "code",
   "execution_count": null,
   "metadata": {},
   "outputs": [],
   "source": [
    "print(182945/1467)"
   ]
  },
  {
   "cell_type": "markdown",
   "metadata": {},
   "source": [
    "Moins de 1 coup sur 100 sont unique dans les parties jouerai par les NN avec un damier vide en début de partie.\n",
    "Cela confirme que dans ces conditions de départ les NN jouent toujours pareil et les parties se répètent. \n"
   ]
  },
  {
   "cell_type": "code",
   "execution_count": null,
   "metadata": {},
   "outputs": [],
   "source": [
    "GameFormated_MC100 = format_allGame(HistoWinner_MC)\n",
    "print(GameFormated_MC100.shape) #(10815, 256)\n",
    "print(np.unique(GameFormated_MC100, axis = 0).shape) #(361, 256)\n",
    "print(10815/361)"
   ]
  },
  {
   "cell_type": "markdown",
   "metadata": {},
   "source": [
    "À titre de comparaison, on regarde maintenant le nombre de coups uniques lors des parties de réseaux contre les bot MC avec un ratio de 1/30 on est plus bas que dans le cas précédent : \n",
    "les parties sont tout de même assez similaires, les conditions de départ (damier vide) va engendrer des parties presque toutes pareilles également.\n"
   ]
  },
  {
   "cell_type": "markdown",
   "metadata": {},
   "source": [
    "### Etape 3B :  Faire jouer chaque réseau contre les autres reseaux - premiers coups random"
   ]
  },
  {
   "cell_type": "markdown",
   "metadata": {},
   "source": [
    "On voudrait tester la capacité des NN à jouer plus de configuration différente, pour mieux évaluer leurs performances et surtout pour augmenter les données d’apprentissages. Ainsi **on impose que les deux coups de départ soient choisis de façon aléatoire.**"
   ]
  },
  {
   "cell_type": "code",
   "execution_count": null,
   "metadata": {},
   "outputs": [],
   "source": [
    "#jouer avec 2 coups random au début\n",
    "n_game3 = 200\n",
    "n_game = n_game3\n",
    "Loser_badmove_NN_VS_NN_randStart = []\n",
    "HistoWinner_NN_VS_NN_randStart = []\n",
    "Histo_quel_NN_NN_VS_NN_randStart = []\n",
    "\n",
    "for m0 in np.arange(0,len(Model_list)):\n",
    "    for m1 in np.arange(0,len(Model_list)):\n",
    "        for i in np.arange(0,n_game):\n",
    "            if m0 != m1:\n",
    "                damier = np.zeros((8, 8)) \n",
    "                play = random.choice(coups_possibles_H(damier)) #coup random\n",
    "                coup_H(damier, play[0], play[1])\n",
    "                play = random.choice(coups_possibles_V(damier)) #coup random\n",
    "                coup_V(damier, play[0], play[1])            \n",
    "                player = randint(1,2)\n",
    "                sens = randint(0,1)\n",
    "                if sens == 0:\n",
    "                    a,b = (Name_list[m0]),(Name_list[m1])\n",
    "                    x,y =  NN_VS_NN(damier, player, Model_list[m0] , Model_list[m1],a,b)\n",
    "                else:\n",
    "                    b,a = (Name_list[m1]),(Name_list[m0])\n",
    "                    x,y = NN_VS_NN(damier, player, Model_list[m1] , Model_list[m0],b,a)\n",
    "                Loser_badmove_NN_VS_NN_randStart.append(x)\n",
    "                HistoWinner_NN_VS_NN_randStart.append(y)\n",
    "                Histo_quel_NN_NN_VS_NN_randStart.append((a,b,x[0]))\n",
    "    print(m0, \"/\",len(Model_list)-1)\n"
   ]
  },
  {
   "cell_type": "code",
   "execution_count": null,
   "metadata": {},
   "outputs": [],
   "source": [
    "H03 = pd.DataFrame(np.array(Histo_quel_NN_NN_VS_NN_randStart)[:,2] , columns = [\"Réseau\"])\n",
    "plt.figure(figsize=(12,8))\n",
    "H03[\"% de defaites\"] = 1\n",
    "df_defaite_G1 = 100*pd.pivot_table(H03, index = [\"Réseau\"], values = [\"% de defaites\"], aggfunc = np.sum )/(len(Model_list)*2*n_game)\n",
    "df_defaite_G1.sort_values([\"% de defaites\"]).plot.bar()"
   ]
  },
  {
   "cell_type": "code",
   "execution_count": null,
   "metadata": {},
   "outputs": [],
   "source": [
    "    df_result = pd.DataFrame(data= Histo_quel_NN_NN_VS_NN_randStart , columns = [\"player_1\",\"player_2\",\"Looser\" ] )\n",
    "    df_result[\"P1_win\"] = (df_result[\"player_2\"] == df_result[\"Looser\"]).astype(\"int16\")\n",
    "    df_result[\"P2_win\"] = (df_result[\"player_1\"] == df_result[\"Looser\"]).astype(\"int16\")\n",
    "    df_result_game = pd.pivot_table(df_result, \"P1_win\" , \"player_1\" , \"player_2\")\n",
    "    plt.figure(figsize=(12,8), dpi= 80)\n",
    "    sns.heatmap(df_result_game, xticklabels=Name_list, yticklabels=Name_list, cmap='RdYlGn', center=0, annot=True,vmin=0, vmax=1)\n",
    "    plt.title('Taux de victoires par affrontement entre NN - random start', fontsize=18)\n",
    "    plt.xticks(fontsize=12)\n",
    "    plt.yticks(fontsize=12)"
   ]
  },
  {
   "cell_type": "markdown",
   "metadata": {},
   "source": [
    "**Interprétation des taux de victoire des NN avec début de parties aléatoires :**\n",
    "- On constate dans le bar plat que les NN ne se distinguent pas particulièrement dans leur capacité à mieux jouer que les autres : les taux de défaites des NN sont compris entre 40% et 60%\n",
    "- Idem pour le plot 2D des taux de victoires, aucun NN ne sort du lot et tous gagnent entre 35% et 65% de leurs matchs\n",
    "\n",
    "Nous essayons maintenant de réentrainer les NN avec plus d’exemples issus des coups uniques joués lors de ces parties. \n"
   ]
  },
  {
   "cell_type": "code",
   "execution_count": null,
   "metadata": {},
   "outputs": [],
   "source": [
    "GameFormated_NN_VS_NN_randStart = format_allGame(HistoWinner_NN_VS_NN_randStart) \n",
    "print(GameFormated_NN_VS_NN_randStart.shape) #(166414, 256)\n",
    "np.unique(GameFormated_NN_VS_NN_randStart, axis = 0).shape #(145234, 256)"
   ]
  },
  {
   "cell_type": "markdown",
   "metadata": {},
   "source": [
    "On constate que cette fois-ci, les historiques de parties joués avec les 2 premiers coups aléatoires sont des coups uniques à plus de 80%."
   ]
  },
  {
   "cell_type": "markdown",
   "metadata": {},
   "source": [
    "### Préparation des données pour re entraines les NN"
   ]
  },
  {
   "cell_type": "markdown",
   "metadata": {},
   "source": [
    "On réentraine les NN avec les données suivantes:\n",
    "- Les coups uniques des parties NN VS MC\n",
    "- Les coups uniques des parties NN VS NN avec random start\n",
    "- Les coups uniques des parties NN VS NN avec random start\n",
    "\n",
    "On vérifiera aussi que coups que l'on rajoute ainsi au train ne sont pas déjà présent dans le test (pour ne pas fausser les scores)"
   ]
  },
  {
   "cell_type": "code",
   "execution_count": null,
   "metadata": {},
   "outputs": [],
   "source": [
    "train_gen2 = pd.DataFrame(train)\n",
    "train_all = pd.concat([train_gen2,pd.DataFrame(GameFormated_MC100),pd.DataFrame(GameFormated_NN_VS_NN),pd.DataFrame(GameFormated_NN_VS_NN_randStart)])"
   ]
  },
  {
   "cell_type": "code",
   "execution_count": null,
   "metadata": {},
   "outputs": [],
   "source": [
    "print(train_all.shape)\n",
    "train_all = train_all.drop_duplicates()\n",
    "print(train_all.shape)"
   ]
  },
  {
   "cell_type": "markdown",
   "metadata": {},
   "source": [
    "Le nouveau train issus des parties jouée et du CSV contient beaucoup plus de coups. On retire les coups qui seraient présent dans le train"
   ]
  },
  {
   "cell_type": "code",
   "execution_count": null,
   "metadata": {},
   "outputs": [],
   "source": [
    "train_all_np = np.array(train_all)\n",
    "test_np = np.array(test)\n",
    "\n",
    "aset = set([tuple(x) for x in train_all_np])\n",
    "bset = set([tuple(x) for x in test_np])\n",
    "intersect = [x for x in aset & bset]\n",
    "print(np.array(intersect).shape)"
   ]
  },
  {
   "cell_type": "markdown",
   "metadata": {},
   "source": [
    "Effectivement on retrouve une centaine de coup du test dans le nouveaux coups générés pour le train, ils sont retirés"
   ]
  },
  {
   "cell_type": "code",
   "execution_count": null,
   "metadata": {},
   "outputs": [],
   "source": [
    "Train_G2 = []\n",
    "for x in aset:\n",
    "    if  not (x in intersect):\n",
    "        Train_G2.append(x)\n",
    "random.shuffle(Train_G2)"
   ]
  },
  {
   "cell_type": "markdown",
   "metadata": {},
   "source": [
    "## Entrainement des NN sur les données enrichis des parties précédentes (Génération 2)"
   ]
  },
  {
   "cell_type": "code",
   "execution_count": null,
   "metadata": {},
   "outputs": [],
   "source": [
    "X_train_DA_NO_G2,Y_train_DA_NO_G2,X_test_DA_NO_G2,Y_test_DA_NO_G2 =  prepare_train_DA_NO(Train_G2,test)\n",
    "X_train_DA_YES_G2,Y_train_DA_YES_G2,X_test_DA_YES_G2,Y_test_DA_YES_G2 =  prepare_train_DA_YES(Train_G2,test)"
   ]
  },
  {
   "cell_type": "code",
   "execution_count": null,
   "metadata": {},
   "outputs": [],
   "source": [
    "On refait tourner la DA"
   ]
  },
  {
   "cell_type": "code",
   "execution_count": null,
   "metadata": {},
   "outputs": [],
   "source": [
    "\n",
    "Model_list_G2 = []\n",
    "Name_list = [\"base\",\"base_drop_01\",\"base_drop_03\",\"base_drop_L\",\"baseDA\",\"base_drop_01DA\",\"base_drop_03DA\",\"base_drop_LDA\" ]\n",
    "Model_list_G2.append(get_model_base())\n",
    "Model_list_G2.append(get_model_dropout_01())\n",
    "Model_list_G2.append(get_model_dropout_03())\n",
    "Model_list_G2.append(get_model_dropout_L())\n",
    "Model_list_G2.append(get_model_base())\n",
    "Model_list_G2.append(get_model_dropout_01())\n",
    "Model_list_G2.append(get_model_dropout_03())\n",
    "Model_list_G2.append(get_model_dropout_L())\n",
    "\n",
    "Historique_all_G2 = []\n",
    "t = time.process_time()\n",
    "Historique_all_G2.append(Keras_training(Model_list_G2[0],X_train_DA_NO_G2,Y_train_DA_NO_G2))\n",
    "Historique_all_G2.append(Keras_training(Model_list_G2[1],X_train_DA_NO_G2,Y_train_DA_NO_G2))\n",
    "Historique_all_G2.append(Keras_training(Model_list_G2[2],X_train_DA_NO_G2,Y_train_DA_NO_G2))\n",
    "Historique_all_G2.append(Keras_training(Model_list_G2[3],X_train_DA_NO_G2,Y_train_DA_NO_G2))\n",
    "Historique_all_G2.append(Keras_training(Model_list_G2[4],X_train_DA_YES_G2,Y_train_DA_YES_G2))\n",
    "Historique_all_G2.append(Keras_training(Model_list_G2[5],X_train_DA_YES_G2,Y_train_DA_YES_G2))\n",
    "Historique_all_G2.append(Keras_training(Model_list_G2[6],X_train_DA_YES_G2,Y_train_DA_YES_G2))\n",
    "Historique_all_G2.append(Keras_training(Model_list_G2[7],X_train_DA_YES_G2,Y_train_DA_YES_G2))\n",
    "end = time.time()\n",
    "elapsed_time = time.process_time() - t\n",
    "print(elapsed_time) #660sec with batch = 64 ; 430sec with batch = 128"
   ]
  },
  {
   "cell_type": "markdown",
   "metadata": {},
   "source": [
    "**Visualisation de l'accuracy sur le test :**"
   ]
  },
  {
   "cell_type": "code",
   "execution_count": null,
   "metadata": {},
   "outputs": [],
   "source": [
    "plt.figure(figsize=(15,8))\n",
    "for i in np.arange(0,len(Historique_all_G2)):\n",
    "    plt.plot(np.arange(0,len(Historique_all_G2[i].history[\"val_acc\"])), Historique_all_G2[i].history[\"val_acc\"])\n",
    "    \n",
    "plt.legend(np.array(Name_list))"
   ]
  },
  {
   "cell_type": "code",
   "execution_count": null,
   "metadata": {},
   "outputs": [],
   "source": [
    "for i in np.arange(0,len(Historique_all_G2)):\n",
    "    if i == 0:\n",
    "        df_data = pd.DataFrame(data = Historique_all_G2[i].history)\n",
    "        df_data[\"Model\"] = Name_list[i]\n",
    "    else:\n",
    "        df_datatmp = pd.DataFrame(data = Historique_all_G2[i].history)\n",
    "        df_datatmp[\"Model\"] = Name_list[i]\n",
    "        df_data = pd.concat([df_data,df_datatmp])\n",
    "        \n",
    "for i in np.arange(0,len(Historique_all_G2)):\n",
    "    if i == 0:\n",
    "        df_data = pd.DataFrame(data = Historique_all_G2[i].history)\n",
    "        df_data[\"Model\"] = Name_list[i]\n",
    "    else:\n",
    "        df_datatmp = pd.DataFrame(data = Historique_all_G2[i].history)\n",
    "        df_datatmp[\"Model\"] = Name_list[i]\n",
    "        df_data = pd.concat([df_data,df_datatmp])\n",
    "\n",
    "sns.set(style=\"whitegrid\")\n",
    "plt.figure(figsize=(15,8))\n",
    "sns.barplot(x=\"Model\", y=\"val_acc\", data=df_data , estimator= max)"
   ]
  },
  {
   "cell_type": "markdown",
   "metadata": {},
   "source": [
    "**Commentaires:**\n",
    "- L'accuracy sur le jeu de test est plus importante pour les NN entrainées dans DA avec en moyenne 60% contre 40% pour les NN avec DA.\n",
    "- Par rapport aux NN entrainés précédemment se représente une amélioration pour les NN sans DA et une baisse de performance pour les modèles avec DA. Cela vient probablement du fait que le jeu de test n'a pas été augmenté et donc les prédictions des NN sont meilleures quand ils sont entrainés sur les NN sans DA, notamment maintenant que l'on a beaucoup augmenté la taille des données d'entrainement d'une autre façon (en reprenant les historiques des parties gagnantes).\n",
    "\n",
    "Il sera néanmoins intéressant de regarder comment les NN performent dans les matches et si la baisse d’accurracy se traduit par un NN jouant moins bien.\n"
   ]
  },
  {
   "cell_type": "code",
   "execution_count": null,
   "metadata": {},
   "outputs": [],
   "source": [
    "### Matchs entre les réseaux"
   ]
  },
  {
   "cell_type": "code",
   "execution_count": null,
   "metadata": {},
   "outputs": [],
   "source": [
    "#jouer avec 2 coups random au début\n",
    "n_game = 100\n",
    "Loser_badmove_NN_VS_NN_G1_VS_G2_randStart = []\n",
    "HistoWinner_NN_VS_NN_G1_VS_G2_randStart = []\n",
    "Histo_quel_NN_NN_VS_NN_G1_VS_G2_randStart = []\n",
    "\n",
    "for m0 in np.arange(0,len(Model_list_G2)):\n",
    "    for m1 in np.arange(0,len(Model_list)):\n",
    "        for i in np.arange(0,n_game):\n",
    "            if True:\n",
    "                damier = np.zeros((8, 8)) \n",
    "                play = random.choice(coups_possibles_H(damier)) #coup random\n",
    "                coup_H(damier, play[0], play[1])\n",
    "                play = random.choice(coups_possibles_V(damier)) #coup random\n",
    "                coup_V(damier, play[0], play[1])            \n",
    "                player = randint(1,2)\n",
    "                sens = randint(0,1)\n",
    "                if sens == 0:\n",
    "                    a,b = (Name_list_G2[m0]),(Name_list[m1])\n",
    "                    x,y =  NN_VS_NN(damier, player, Model_list[m0] , Model_list_G2[m1],a,b)\n",
    "                else:\n",
    "                    b,a = (Name_list_G2[m1]),(Name_list[m0])\n",
    "                    x,y = NN_VS_NN(damier, player, Model_list_G2[m1] , Model_list[m0],b,a)\n",
    "                Loser_badmove_NN_VS_NN_G1_VS_G2_randStart.append(x)\n",
    "                HistoWinner_NN_VS_NN_randStart.append(y)\n",
    "                HistoWinner_NN_VS_NN_G1_VS_G2_randStart.append((a,b,x[0]))\n",
    "    print(m0, \"/\",len(Model_list)-1)\n"
   ]
  },
  {
   "cell_type": "markdown",
   "metadata": {},
   "source": [
    "**Match : NN de la première génération VS 2e génération (G1 VS G2)**\n",
    "\n"
   ]
  },
  {
   "cell_type": "code",
   "execution_count": null,
   "metadata": {},
   "outputs": [],
   "source": []
  },
  {
   "cell_type": "markdown",
   "metadata": {},
   "source": [
    "**Match :NN  2ème génération contre eux mêmes**\n"
   ]
  },
  {
   "cell_type": "code",
   "execution_count": null,
   "metadata": {},
   "outputs": [],
   "source": [
    "CODE"
   ]
  },
  {
   "cell_type": "code",
   "execution_count": null,
   "metadata": {},
   "outputs": [],
   "source": [
    "## Optimisation suplémentaire avec gridSearch"
   ]
  },
  {
   "cell_type": "code",
   "execution_count": null,
   "metadata": {},
   "outputs": [],
   "source": []
  },
  {
   "cell_type": "code",
   "execution_count": null,
   "metadata": {},
   "outputs": [],
   "source": []
  },
  {
   "cell_type": "code",
   "execution_count": null,
   "metadata": {},
   "outputs": [],
   "source": []
  },
  {
   "cell_type": "code",
   "execution_count": null,
   "metadata": {},
   "outputs": [],
   "source": []
  },
  {
   "cell_type": "code",
   "execution_count": null,
   "metadata": {},
   "outputs": [],
   "source": [
    "NN_VS_NN(np.zeros((8, 8)), 1, Model_list[0] , Model_list[0],(Name_list[0]+\"V\"),(Name_list[0]+\"H\"))"
   ]
  },
  {
   "cell_type": "code",
   "execution_count": null,
   "metadata": {},
   "outputs": [],
   "source": [
    "#pour debug\n",
    "def NN_VS_NN(A, player, NN_name1, NN_name2, NN_name1STR, NN_name2STR):\n",
    "    nb_bad = 0\n",
    "    Historique1 = []\n",
    "    Historique2 = []\n",
    "    while 1:\n",
    "        if player == 1:\n",
    "            cpH = coups_possibles_H(A)\n",
    "            print(cpH)\n",
    "            if cpH != []:\n",
    "                print(\"goH\")\n",
    "                play = coup_NN(A,player,NN_name1)\n",
    "                if (play not in cpH):\n",
    "                    play = random.choice(cpH) \n",
    "                    nb_bad = nb_bad + 1\n",
    "                Historique1.append(ReturnPlayForHist(A,player,NN_name1,play))\n",
    "                print(ReturnPlayForHist(A,player,NN_name1,play))\n",
    "                coup_H(A, play[0], play[1])\n",
    "                player = 2\n",
    "            else:\n",
    "                return (NN_name1STR,nb_bad),Historique2\n",
    "        if player == 2:\n",
    "            cpV = coups_possibles_V(A)\n",
    "            print((cpV))\n",
    "            if cpV != []:\n",
    "                print(\"goV\")\n",
    "                play = coup_NN(A,player,NN_name2)\n",
    "                if (play not in cpV):\n",
    "                    play = random.choice(cpV) \n",
    "                    nb_bad = nb_bad + 1\n",
    "                Historique2.append(ReturnPlayForHist(A,player,NN_name2,play))\n",
    "                print(ReturnPlayForHist(A,player,NN_name2,play))\n",
    "                coup_V(A, play[0], play[1])\n",
    "                player = 1\n",
    "            else:\n",
    "                return (NN_name2STR,nb_bad),Historique1"
   ]
  },
  {
   "cell_type": "markdown",
   "metadata": {},
   "source": [
    "batch_training(Model_list,X_train,Y_train)"
   ]
  },
  {
   "cell_type": "code",
   "execution_count": null,
   "metadata": {},
   "outputs": [],
   "source": [
    "#print(np.array(SaveHisto).shape)\n",
    "#print(SaveHisto[1][1])\n",
    "\n",
    "print(np.array(SaveHisto[1][1][0]))\n",
    "hh = np.concatenate((SaveHisto[1][1][0].ravel(),SaveHisto[1][1][1].ravel(),SaveHisto[1][1][2].ravel(),SaveHisto[1][1][3].ravel()),axis=0)\n",
    "print(hh.shape )\n",
    "np.array(train[0]).shape"
   ]
  },
  {
   "cell_type": "code",
   "execution_count": null,
   "metadata": {},
   "outputs": [],
   "source": [
    "print(X_train[5484,:,:,0])\n",
    "print(X_train[5484,:,:,1])\n",
    "print(X_train[5484,:,:,2])\n",
    "print(Y_train[5484])"
   ]
  },
  {
   "cell_type": "markdown",
   "metadata": {},
   "source": [
    "### Code pour verifier la structure des data:"
   ]
  },
  {
   "cell_type": "code",
   "execution_count": null,
   "metadata": {},
   "outputs": [],
   "source": [
    "print(X_train[5484,:,:,0])\n",
    "print(X_train[5484,:,:,1])\n",
    "print(X_train[5484,:,:,2])\n",
    "swap_player(X_train[5444,:,:,0]) == X_train[5444,:,:,1]\n",
    "\n",
    "Y_test.shape #(33788, 64)\n",
    "X_test.shape #(33788, 8, 8, 3)\n",
    "#np.sum(Y_test[:,:].reshape(8,8), axis=0)\n",
    "X_test[1,1,1,2]\n",
    "np.where(X_test[:,1,1,2] == 0)\n",
    "\n",
    "#print(np.where(X_test[:,1,1,2] == 1))\n",
    "#print(np.where(X_test[:,1,1,2] == 0))\n",
    "#Y_test[np.where(X_test[:,1,1,2] == 1)][2].reshape(8,8)\n",
    "#print(np.sum(Y_train[np.where(X_train[:,1,1,2] == 0)],  axis=0).reshape(8,8))\n",
    "\n",
    "print(np.sum(Y_test[np.where(X_test[:,1,1,2] == 0)],  axis=0).reshape(8,8))\n",
    "#quand c est au tour du joueur vertical(derniere mat du 8,8,3 == 0): on à bien aucun coup appris pour la derniere ligne !!\n",
    "\n",
    "print(np.sum(Y_test[np.where(X_test[:,1,1,2] == 1)],  axis=0).reshape(8,8))\n",
    "#quand cest au tour du joueur horizontal (derniere mat du 8,8,3 == 1): cette fois c est la merde (ou je me suis trompé...) \n",
    "#car la somme donne des valeur sur toutes les colonnes.... \n",
    "\n",
    "print(np.sum(Y_test[np.where(X_test[:,1,1,2] == 0)],  axis=0))\n",
    "print(np.sum(Y_test[np.where(X_test[:,1,1,2] == 1)],  axis=0))"
   ]
  },
  {
   "cell_type": "code",
   "execution_count": null,
   "metadata": {},
   "outputs": [],
   "source": [
    "#print(np.sum(Y_test[np.where(X_test[:,1,1,2] == 0)],  axis=0))\n",
    "print(np.sum(Y_test[np.where(X_test[:,1,1,2] == 1)],  axis=0))\n",
    "\n",
    "\n",
    "print(Y_test[np.where(X_test[:,1,1,2] == 1)][24,:].reshape(8,8))\n",
    "print(np.where(X_test[:,1,1,2] == 1)[0][24])\n",
    "\n",
    "print(X_test[51,:,:,0])\n",
    "print(X_test[51,:,:,1])\n",
    "print(X_test[51,:,:,2])\n"
   ]
  },
  {
   "cell_type": "code",
   "execution_count": null,
   "metadata": {},
   "outputs": [],
   "source": [
    "for i in np.arange(0,10000):\n",
    "    if np.sum(Y_test[np.where(X_test[:,1,1,2] == 1)][i,:].reshape(8,8)[:,7]) > 0:\n",
    "        print(i)"
   ]
  },
  {
   "cell_type": "code",
   "execution_count": null,
   "metadata": {},
   "outputs": [],
   "source": [
    "def coups_possibles_un(A):\n",
    "    liste_possible = []\n",
    "    for i in range(0,len(A)-1):\n",
    "        for j in range(0,len(A)):\n",
    "            if A[i,j] ==0 and A[i+1,j] == 0:\n",
    "                liste_possible.append((i,j))\n",
    "    return liste_possible\n",
    "\n",
    "def coups_possibles_deux(A):\n",
    "    liste_possible = []\n",
    "    for i in range(0,len(A)):\n",
    "        for j in range(0,len(A)-1):\n",
    "            if A[i,j] ==0 and A[i,j+1] == 0:\n",
    "                liste_possible.append((i,j))\n",
    "    return liste_possible\n",
    "\n",
    "coups_possibles_un( np.zeros((8, 8)))\n",
    "\n",
    "A =  np.zeros((8, 8))\n",
    "A[3,0]=1\n",
    "A"
   ]
  },
  {
   "cell_type": "code",
   "execution_count": null,
   "metadata": {},
   "outputs": [],
   "source": [
    "def swap_player(xx):\n",
    "    x = xx.ravel()\n",
    "    return np.fromiter((np.where(xi==0,1,0) for xi in x), x.dtype).reshape(8,8)\n",
    "            "
   ]
  },
  {
   "cell_type": "code",
   "execution_count": null,
   "metadata": {},
   "outputs": [],
   "source": [
    "print(X_train[5484,:,:,0])\n",
    "print(X_train[5484,:,:,1])\n",
    "print(X_train[5484,:,:,2])\n",
    "swap_player(X_train[5444,:,:,0]) == X_train[5444,:,:,1]\n",
    "\n",
    "Y_test.shape #(33788, 64)\n",
    "X_test.shape #(33788, 8, 8, 3)\n",
    "#np.sum(Y_test[:,:].reshape(8,8), axis=0)\n",
    "X_test[1,1,1,2]\n",
    "np.where(X_test[:,1,1,2] == 0)\n",
    "\n",
    "np.sum(Y_test[np.where(X_test[:,1,1,2] == 0)],  axis=0).reshape(8,8)"
   ]
  },
  {
   "cell_type": "code",
   "execution_count": null,
   "metadata": {},
   "outputs": [],
   "source": [
    "Y_test\n",
    "pred_test\n",
    "np.argmax(pred_test, axis=1)\n",
    "np.argmax(Y_test, axis=1)\n",
    "print(Y_test[15410,:])\n",
    "Y_test.shape\n",
    "print(X_test.shape)\n",
    "print(X_train.shape)\n",
    "print(Y_test.shape)\n",
    "print(Y_train.shape)\n",
    "print(X_train[5484,:,:,0])\n",
    "print(np.argmax(model3.predict(X_train[5484,:,:,:].reshape(1,8,8,3))))\n",
    "print(np.argmax((Y_train[5484])))\n",
    "return_moveFromPred(model3.predict(X_train[5484,:,:,:].reshape(1,8,8,3)))\n",
    "\n",
    "\n"
   ]
  },
  {
   "cell_type": "code",
   "execution_count": 186,
   "metadata": {},
   "outputs": [
    {
     "name": "stdout",
     "output_type": "stream",
     "text": [
      "[[0. 1. 0. 1. 1. 1. 2. 2.]\n",
      " [0. 1. 1. 1. 0. 1. 1. 1.]\n",
      " [1. 1. 0. 1. 2. 1. 1. 2.]\n",
      " [0. 1. 1. 1. 1. 1. 1. 2.]\n",
      " [0. 1. 1. 1. 1. 0. 1. 2.]\n",
      " [1. 1. 1. 1. 1. 2. 1. 1.]\n",
      " [0. 1. 1. 2. 1. 1. 1. 0.]\n",
      " [1. 2. 1. 1. 1. 1. 2. 1.]]\n",
      "[[0. 1. 0. 1. 1. 1. 1. 1.]\n",
      " [0. 1. 1. 1. 0. 1. 1. 1.]\n",
      " [1. 1. 0. 1. 1. 1. 1. 1.]\n",
      " [0. 1. 1. 1. 1. 1. 1. 1.]\n",
      " [0. 1. 1. 1. 1. 0. 1. 1.]\n",
      " [1. 1. 1. 1. 1. 1. 1. 1.]\n",
      " [0. 1. 1. 1. 1. 1. 1. 0.]\n",
      " [1. 1. 1. 1. 1. 1. 1. 1.]]\n",
      "float64\n",
      "[[1 1 1 1 1 1 1 1]\n",
      " [1 1 1 1 1 1 1 1]\n",
      " [1 1 1 1 1 1 1 1]\n",
      " [1 1 1 1 1 1 1 1]\n",
      " [1 1 1 1 1 1 1 1]\n",
      " [1 1 1 1 1 1 1 1]\n",
      " [1 1 1 1 1 1 1 1]\n",
      " [1 1 1 1 1 1 1 1]]\n",
      "test\n",
      "(8, 8, 3)\n",
      "[[[0. 1. 1.]\n",
      "  [1. 1. 1.]\n",
      "  [0. 1. 1.]\n",
      "  [1. 1. 1.]\n",
      "  [1. 1. 1.]\n",
      "  [1. 1. 1.]\n",
      "  [1. 1. 1.]\n",
      "  [1. 1. 1.]]\n",
      "\n",
      " [[0. 0. 1.]\n",
      "  [1. 1. 1.]\n",
      "  [1. 1. 1.]\n",
      "  [1. 1. 1.]\n",
      "  [0. 1. 1.]\n",
      "  [1. 1. 1.]\n",
      "  [1. 1. 1.]\n",
      "  [1. 0. 1.]]\n",
      "\n",
      " [[1. 1. 1.]\n",
      "  [1. 1. 1.]\n",
      "  [0. 1. 1.]\n",
      "  [1. 1. 1.]\n",
      "  [1. 1. 1.]\n",
      "  [1. 1. 1.]\n",
      "  [1. 1. 1.]\n",
      "  [1. 1. 1.]]\n",
      "\n",
      " [[0. 0. 1.]\n",
      "  [1. 1. 1.]\n",
      "  [1. 1. 1.]\n",
      "  [1. 1. 1.]\n",
      "  [1. 1. 1.]\n",
      "  [1. 0. 1.]\n",
      "  [1. 1. 1.]\n",
      "  [1. 1. 1.]]\n",
      "\n",
      " [[0. 0. 1.]\n",
      "  [1. 1. 1.]\n",
      "  [1. 1. 1.]\n",
      "  [1. 1. 1.]\n",
      "  [1. 1. 1.]\n",
      "  [0. 1. 1.]\n",
      "  [1. 1. 1.]\n",
      "  [1. 1. 1.]]\n",
      "\n",
      " [[1. 1. 1.]\n",
      "  [1. 1. 1.]\n",
      "  [1. 0. 1.]\n",
      "  [1. 1. 1.]\n",
      "  [1. 1. 1.]\n",
      "  [1. 1. 1.]\n",
      "  [1. 1. 1.]\n",
      "  [1. 1. 1.]]\n",
      "\n",
      " [[0. 0. 1.]\n",
      "  [1. 1. 1.]\n",
      "  [1. 1. 1.]\n",
      "  [1. 1. 1.]\n",
      "  [1. 0. 1.]\n",
      "  [1. 1. 1.]\n",
      "  [1. 1. 1.]\n",
      "  [0. 1. 1.]]\n",
      "\n",
      " [[1. 0. 1.]\n",
      "  [1. 1. 1.]\n",
      "  [1. 0. 1.]\n",
      "  [1. 1. 1.]\n",
      "  [1. 1. 1.]\n",
      "  [1. 1. 1.]\n",
      "  [1. 1. 1.]\n",
      "  [1. 1. 1.]]]\n"
     ]
    },
    {
     "data": {
      "text/plain": [
       "array([[[1., 0., 0.],\n",
       "        [1., 0., 0.],\n",
       "        [1., 0., 0.],\n",
       "        [1., 0., 0.],\n",
       "        [1., 0., 0.],\n",
       "        [1., 0., 0.],\n",
       "        [0., 1., 0.],\n",
       "        [0., 1., 0.]],\n",
       "\n",
       "       [[1., 0., 0.],\n",
       "        [1., 0., 0.],\n",
       "        [1., 0., 0.],\n",
       "        [1., 0., 0.],\n",
       "        [1., 0., 0.],\n",
       "        [1., 0., 0.],\n",
       "        [1., 0., 0.],\n",
       "        [1., 0., 0.]],\n",
       "\n",
       "       [[1., 0., 0.],\n",
       "        [1., 0., 0.],\n",
       "        [1., 0., 0.],\n",
       "        [0., 1., 0.],\n",
       "        [0., 1., 0.],\n",
       "        [1., 0., 0.],\n",
       "        [1., 0., 0.],\n",
       "        [0., 1., 0.]],\n",
       "\n",
       "       [[1., 0., 0.],\n",
       "        [0., 1., 0.],\n",
       "        [1., 0., 0.],\n",
       "        [1., 0., 0.],\n",
       "        [1., 0., 0.],\n",
       "        [0., 1., 0.],\n",
       "        [1., 0., 0.],\n",
       "        [0., 1., 0.]],\n",
       "\n",
       "       [[1., 0., 0.],\n",
       "        [1., 0., 0.],\n",
       "        [0., 1., 0.],\n",
       "        [1., 0., 0.],\n",
       "        [1., 0., 0.],\n",
       "        [1., 0., 0.],\n",
       "        [1., 0., 0.],\n",
       "        [0., 1., 0.]],\n",
       "\n",
       "       [[0., 1., 0.],\n",
       "        [1., 0., 0.],\n",
       "        [0., 1., 0.],\n",
       "        [1., 0., 0.],\n",
       "        [0., 1., 0.],\n",
       "        [0., 1., 0.],\n",
       "        [1., 0., 0.],\n",
       "        [1., 0., 0.]],\n",
       "\n",
       "       [[1., 0., 0.],\n",
       "        [1., 0., 0.],\n",
       "        [1., 0., 0.],\n",
       "        [0., 1., 0.],\n",
       "        [1., 0., 0.],\n",
       "        [1., 0., 0.],\n",
       "        [1., 0., 0.],\n",
       "        [1., 0., 0.]],\n",
       "\n",
       "       [[0., 1., 0.],\n",
       "        [0., 1., 0.],\n",
       "        [1., 0., 0.],\n",
       "        [0., 1., 0.],\n",
       "        [0., 1., 0.],\n",
       "        [0., 1., 0.],\n",
       "        [0., 1., 0.],\n",
       "        [0., 1., 0.]]])"
      ]
     },
     "execution_count": 186,
     "metadata": {},
     "output_type": "execute_result"
    }
   ],
   "source": [
    "def f(a):\n",
    "    if a>0:\n",
    "        return 1\n",
    "    return 0\n",
    "\n",
    "def to_bool(xx):\n",
    "    x = xx.ravel()\n",
    "    return np.fromiter((f(xi) for xi in x), x.dtype).reshape(8,8)\n",
    "\n",
    "def return_moveFromPred(D):\n",
    "    x = np.argmax(D)\n",
    "    xx = np.zeros(64)\n",
    "    xx[x] = 1\n",
    "    return xx.reshape(8,8)\n",
    "\n",
    "\n",
    "\n",
    "\n",
    "to_bool(xx)\n",
    "\n",
    "\n",
    "player = randint(1,2)\n",
    "damier = np.zeros((8, 8))\n",
    "#print(rand_domineering(damier, player))\n",
    "\n",
    "#print(player)\n",
    "\n",
    "#print(X_train[5484,:,:,0])\n",
    "xx = 2*X_train[5484,:,:,1] + X_train[5484,:,:,0] - X_train[5487,:,:,0]\n",
    "\n",
    "print(xx)\n",
    "#fromiter(xx.ravel()).reshape(8,8)\n",
    "testhh1 = to_bool(xx)\n",
    "print(testhh1)\n",
    "print(np.flipud(testhh1).dtype)\n",
    "\n",
    "print(np.ones((8,8) ,dtype=np.int16))\n",
    "\n",
    "print(\"test\")\n",
    "#np.concatenate(to_bool(xx),np.flipud(to_bool(xx)),np.ones((8,8) ,dtype=np.int16))\n",
    "\n",
    "state = np.zeros((8, 8, 3))\n",
    "state[:,:,0] = to_bool(xx)\n",
    "state[:,:,1] = np.flipud(testhh1)\n",
    "state[:,:,2] = np.ones((8,8) ,dtype=np.int16)\n",
    "print(state.shape)\n",
    "print(state)\n",
    "X_train[5484,:,:,:] "
   ]
  },
  {
   "cell_type": "code",
   "execution_count": 190,
   "metadata": {},
   "outputs": [
    {
     "name": "stdout",
     "output_type": "stream",
     "text": [
      "[[0. 0. 0. 0. 0. 0. 0. 0.]\n",
      " [0. 0. 1. 0. 0. 0. 0. 0.]\n",
      " [0. 0. 1. 0. 0. 0. 0. 0.]\n",
      " [0. 0. 0. 0. 0. 0. 0. 0.]\n",
      " [0. 0. 0. 0. 0. 0. 0. 0.]\n",
      " [0. 0. 2. 2. 0. 0. 0. 0.]\n",
      " [0. 0. 0. 0. 0. 0. 0. 0.]\n",
      " [0. 0. 0. 0. 0. 0. 0. 0.]]\n"
     ]
    },
    {
     "ename": "ValueError",
     "evalue": "Error when checking input: expected conv2d_43_input to have 4 dimensions, but got array with shape (8, 8, 3)",
     "output_type": "error",
     "traceback": [
      "\u001b[1;31m---------------------------------------------------------------------------\u001b[0m",
      "\u001b[1;31mValueError\u001b[0m                                Traceback (most recent call last)",
      "\u001b[1;32m<ipython-input-190-3c33d32e49df>\u001b[0m in \u001b[0;36m<module>\u001b[1;34m\u001b[0m\n\u001b[0;32m     20\u001b[0m \u001b[1;33m\u001b[0m\u001b[0m\n\u001b[0;32m     21\u001b[0m \u001b[1;33m\u001b[0m\u001b[0m\n\u001b[1;32m---> 22\u001b[1;33m \u001b[0mcoup_NN\u001b[0m\u001b[1;33m(\u001b[0m\u001b[0mA\u001b[0m\u001b[1;33m,\u001b[0m\u001b[0mplayer\u001b[0m\u001b[1;33m,\u001b[0m\u001b[0mmodel3\u001b[0m\u001b[1;33m)\u001b[0m\u001b[1;33m\u001b[0m\u001b[1;33m\u001b[0m\u001b[0m\n\u001b[0m",
      "\u001b[1;32m<ipython-input-190-3c33d32e49df>\u001b[0m in \u001b[0;36mcoup_NN\u001b[1;34m(A, player, NN_name)\u001b[0m\n\u001b[0;32m     17\u001b[0m     \u001b[1;32mif\u001b[0m \u001b[0mplayer\u001b[0m \u001b[1;33m==\u001b[0m \u001b[1;36m2\u001b[0m \u001b[1;33m:\u001b[0m\u001b[1;33m\u001b[0m\u001b[1;33m\u001b[0m\u001b[0m\n\u001b[0;32m     18\u001b[0m         \u001b[0mstate\u001b[0m\u001b[1;33m[\u001b[0m\u001b[1;33m:\u001b[0m\u001b[1;33m,\u001b[0m\u001b[1;33m:\u001b[0m\u001b[1;33m,\u001b[0m\u001b[1;36m2\u001b[0m\u001b[1;33m]\u001b[0m \u001b[1;33m=\u001b[0m \u001b[0mnp\u001b[0m\u001b[1;33m.\u001b[0m\u001b[0mones\u001b[0m\u001b[1;33m(\u001b[0m\u001b[1;33m(\u001b[0m\u001b[1;36m8\u001b[0m\u001b[1;33m,\u001b[0m\u001b[1;36m8\u001b[0m\u001b[1;33m)\u001b[0m \u001b[1;33m,\u001b[0m\u001b[0mdtype\u001b[0m\u001b[1;33m=\u001b[0m\u001b[0mnp\u001b[0m\u001b[1;33m.\u001b[0m\u001b[0mint16\u001b[0m\u001b[1;33m)\u001b[0m\u001b[1;33m\u001b[0m\u001b[1;33m\u001b[0m\u001b[0m\n\u001b[1;32m---> 19\u001b[1;33m     \u001b[1;32mreturn\u001b[0m \u001b[0mNN_name\u001b[0m\u001b[1;33m.\u001b[0m\u001b[0mpredict\u001b[0m\u001b[1;33m(\u001b[0m\u001b[0mstate\u001b[0m\u001b[1;33m)\u001b[0m\u001b[1;33m\u001b[0m\u001b[1;33m\u001b[0m\u001b[0m\n\u001b[0m\u001b[0;32m     20\u001b[0m \u001b[1;33m\u001b[0m\u001b[0m\n\u001b[0;32m     21\u001b[0m \u001b[1;33m\u001b[0m\u001b[0m\n",
      "\u001b[1;32m~\\Anaconda3\\envs\\tf_gpu\\lib\\site-packages\\keras\\engine\\training.py\u001b[0m in \u001b[0;36mpredict\u001b[1;34m(self, x, batch_size, verbose, steps)\u001b[0m\n\u001b[0;32m   1147\u001b[0m                              'argument.')\n\u001b[0;32m   1148\u001b[0m         \u001b[1;31m# Validate user data.\u001b[0m\u001b[1;33m\u001b[0m\u001b[1;33m\u001b[0m\u001b[1;33m\u001b[0m\u001b[0m\n\u001b[1;32m-> 1149\u001b[1;33m         \u001b[0mx\u001b[0m\u001b[1;33m,\u001b[0m \u001b[0m_\u001b[0m\u001b[1;33m,\u001b[0m \u001b[0m_\u001b[0m \u001b[1;33m=\u001b[0m \u001b[0mself\u001b[0m\u001b[1;33m.\u001b[0m\u001b[0m_standardize_user_data\u001b[0m\u001b[1;33m(\u001b[0m\u001b[0mx\u001b[0m\u001b[1;33m)\u001b[0m\u001b[1;33m\u001b[0m\u001b[1;33m\u001b[0m\u001b[0m\n\u001b[0m\u001b[0;32m   1150\u001b[0m         \u001b[1;32mif\u001b[0m \u001b[0mself\u001b[0m\u001b[1;33m.\u001b[0m\u001b[0mstateful\u001b[0m\u001b[1;33m:\u001b[0m\u001b[1;33m\u001b[0m\u001b[1;33m\u001b[0m\u001b[0m\n\u001b[0;32m   1151\u001b[0m             \u001b[1;32mif\u001b[0m \u001b[0mx\u001b[0m\u001b[1;33m[\u001b[0m\u001b[1;36m0\u001b[0m\u001b[1;33m]\u001b[0m\u001b[1;33m.\u001b[0m\u001b[0mshape\u001b[0m\u001b[1;33m[\u001b[0m\u001b[1;36m0\u001b[0m\u001b[1;33m]\u001b[0m \u001b[1;33m>\u001b[0m \u001b[0mbatch_size\u001b[0m \u001b[1;32mand\u001b[0m \u001b[0mx\u001b[0m\u001b[1;33m[\u001b[0m\u001b[1;36m0\u001b[0m\u001b[1;33m]\u001b[0m\u001b[1;33m.\u001b[0m\u001b[0mshape\u001b[0m\u001b[1;33m[\u001b[0m\u001b[1;36m0\u001b[0m\u001b[1;33m]\u001b[0m \u001b[1;33m%\u001b[0m \u001b[0mbatch_size\u001b[0m \u001b[1;33m!=\u001b[0m \u001b[1;36m0\u001b[0m\u001b[1;33m:\u001b[0m\u001b[1;33m\u001b[0m\u001b[1;33m\u001b[0m\u001b[0m\n",
      "\u001b[1;32m~\\Anaconda3\\envs\\tf_gpu\\lib\\site-packages\\keras\\engine\\training.py\u001b[0m in \u001b[0;36m_standardize_user_data\u001b[1;34m(self, x, y, sample_weight, class_weight, check_array_lengths, batch_size)\u001b[0m\n\u001b[0;32m    749\u001b[0m             \u001b[0mfeed_input_shapes\u001b[0m\u001b[1;33m,\u001b[0m\u001b[1;33m\u001b[0m\u001b[1;33m\u001b[0m\u001b[0m\n\u001b[0;32m    750\u001b[0m             \u001b[0mcheck_batch_axis\u001b[0m\u001b[1;33m=\u001b[0m\u001b[1;32mFalse\u001b[0m\u001b[1;33m,\u001b[0m  \u001b[1;31m# Don't enforce the batch size.\u001b[0m\u001b[1;33m\u001b[0m\u001b[1;33m\u001b[0m\u001b[0m\n\u001b[1;32m--> 751\u001b[1;33m             exception_prefix='input')\n\u001b[0m\u001b[0;32m    752\u001b[0m \u001b[1;33m\u001b[0m\u001b[0m\n\u001b[0;32m    753\u001b[0m         \u001b[1;32mif\u001b[0m \u001b[0my\u001b[0m \u001b[1;32mis\u001b[0m \u001b[1;32mnot\u001b[0m \u001b[1;32mNone\u001b[0m\u001b[1;33m:\u001b[0m\u001b[1;33m\u001b[0m\u001b[1;33m\u001b[0m\u001b[0m\n",
      "\u001b[1;32m~\\Anaconda3\\envs\\tf_gpu\\lib\\site-packages\\keras\\engine\\training_utils.py\u001b[0m in \u001b[0;36mstandardize_input_data\u001b[1;34m(data, names, shapes, check_batch_axis, exception_prefix)\u001b[0m\n\u001b[0;32m    126\u001b[0m                         \u001b[1;34m': expected '\u001b[0m \u001b[1;33m+\u001b[0m \u001b[0mnames\u001b[0m\u001b[1;33m[\u001b[0m\u001b[0mi\u001b[0m\u001b[1;33m]\u001b[0m \u001b[1;33m+\u001b[0m \u001b[1;34m' to have '\u001b[0m \u001b[1;33m+\u001b[0m\u001b[1;33m\u001b[0m\u001b[1;33m\u001b[0m\u001b[0m\n\u001b[0;32m    127\u001b[0m                         \u001b[0mstr\u001b[0m\u001b[1;33m(\u001b[0m\u001b[0mlen\u001b[0m\u001b[1;33m(\u001b[0m\u001b[0mshape\u001b[0m\u001b[1;33m)\u001b[0m\u001b[1;33m)\u001b[0m \u001b[1;33m+\u001b[0m \u001b[1;34m' dimensions, but got array '\u001b[0m\u001b[1;33m\u001b[0m\u001b[1;33m\u001b[0m\u001b[0m\n\u001b[1;32m--> 128\u001b[1;33m                         'with shape ' + str(data_shape))\n\u001b[0m\u001b[0;32m    129\u001b[0m                 \u001b[1;32mif\u001b[0m \u001b[1;32mnot\u001b[0m \u001b[0mcheck_batch_axis\u001b[0m\u001b[1;33m:\u001b[0m\u001b[1;33m\u001b[0m\u001b[1;33m\u001b[0m\u001b[0m\n\u001b[0;32m    130\u001b[0m                     \u001b[0mdata_shape\u001b[0m \u001b[1;33m=\u001b[0m \u001b[0mdata_shape\u001b[0m\u001b[1;33m[\u001b[0m\u001b[1;36m1\u001b[0m\u001b[1;33m:\u001b[0m\u001b[1;33m]\u001b[0m\u001b[1;33m\u001b[0m\u001b[1;33m\u001b[0m\u001b[0m\n",
      "\u001b[1;31mValueError\u001b[0m: Error when checking input: expected conv2d_43_input to have 4 dimensions, but got array with shape (8, 8, 3)"
     ]
    }
   ],
   "source": []
  },
  {
   "cell_type": "code",
   "execution_count": 210,
   "metadata": {},
   "outputs": [
    {
     "name": "stdout",
     "output_type": "stream",
     "text": [
      "[[1. 0. 0. 0. 0. 0. 0. 0.]\n",
      " [1. 0. 1. 0. 0. 0. 0. 0.]\n",
      " [0. 0. 1. 0. 0. 0. 0. 0.]\n",
      " [0. 0. 0. 0. 0. 0. 0. 0.]\n",
      " [0. 0. 0. 0. 0. 0. 0. 0.]\n",
      " [0. 0. 2. 2. 0. 0. 0. 0.]\n",
      " [0. 0. 2. 2. 0. 0. 0. 0.]\n",
      " [0. 0. 0. 0. 0. 0. 0. 0.]]\n",
      "44\n",
      "6\n",
      "(6, 0)\n",
      "[[1. 0. 0. 0. 0. 0. 0. 0.]\n",
      " [1. 0. 1. 0. 0. 0. 0. 0.]\n",
      " [0. 0. 1. 0. 0. 0. 0. 0.]\n",
      " [0. 0. 0. 0. 0. 0. 0. 0.]\n",
      " [0. 0. 0. 0. 0. 0. 0. 0.]\n",
      " [0. 0. 2. 2. 0. 0. 0. 0.]\n",
      " [1. 0. 2. 2. 0. 0. 0. 0.]\n",
      " [1. 0. 0. 0. 0. 0. 0. 0.]]\n",
      "[[1. 0. 0. 0. 0. 0. 0. 0.]\n",
      " [0. 0. 0. 0. 0. 0. 0. 0.]\n",
      " [0. 0. 0. 0. 0. 0. 0. 0.]\n",
      " [0. 0. 0. 0. 0. 0. 0. 0.]\n",
      " [0. 0. 0. 0. 0. 0. 0. 0.]\n",
      " [0. 0. 0. 0. 0. 0. 0. 0.]\n",
      " [0. 0. 0. 0. 0. 0. 0. 0.]\n",
      " [0. 0. 0. 0. 0. 0. 0. 0.]]\n"
     ]
    }
   ],
   "source": []
  },
  {
   "cell_type": "code",
   "execution_count": 219,
   "metadata": {},
   "outputs": [],
   "source": [
    "def coup_NN(A,player,NN_name):\n",
    "    #remetre l'etat de jeu compréhensible par le NN\n",
    "    state = np.zeros((1, 8, 8, 3)) \n",
    "    state[0,:,:,0] = to_bool(A)\n",
    "    state[0,:,:,1] = np.flipud(state[0,:,:,0])\n",
    "    if player == 2 :\n",
    "        state[0,:,:,2] = np.ones((8,8) ,dtype=np.int16)\n",
    "        \n",
    "    pos = np.argmax(NN_name.predict(state))\n",
    "    return (pos % 8, pos // 8 )\n",
    "\n",
    "def rand_VS_NN(A, player, NN_name):\n",
    "    while 1:\n",
    "        if player == 1:\n",
    "            if coups_possibles_un(A) != []:\n",
    "                print(A)\n",
    "                play = coup_NN(A,player,NN_name)\n",
    "                print(play)\n",
    "                coup_un(A, play[0], play[1])\n",
    "                player = 2\n",
    "            else:\n",
    "                return player\n",
    "        if player == 2:\n",
    "            if coups_possibles_deux(A) != []:\n",
    "                play = random.choice(coups_possibles_deux(A))\n",
    "                coup_deux(A, play[0], play[1])\n",
    "                player = 1\n",
    "            else:\n",
    "                return player\n",
    "    \n",
    "\n",
    "losers_ranNN = []\n",
    "\n",
    "\n",
    "for i in range(0,100):\n",
    "    player = randint(1,2)\n",
    "    damier = np.zeros((8, 8))\n",
    "    losers_ran.append(rand_VS_NN(damier, player,model3))\n",
    "\n",
    "print(\"In Random Domineering, Player 1 loses (%) : \", losers_ran.count(1)/100)\n"
   ]
  }
 ],
 "metadata": {
  "kernelspec": {
   "display_name": "Python 3",
   "language": "python",
   "name": "python3"
  },
  "language_info": {
   "codemirror_mode": {
    "name": "ipython",
    "version": 3
   },
   "file_extension": ".py",
   "mimetype": "text/x-python",
   "name": "python",
   "nbconvert_exporter": "python",
   "pygments_lexer": "ipython3",
   "version": "3.7.3"
  },
  "toc": {
   "base_numbering": 1,
   "nav_menu": {},
   "number_sections": true,
   "sideBar": true,
   "skip_h1_title": false,
   "title_cell": "Table of Contents",
   "title_sidebar": "Contents",
   "toc_cell": false,
   "toc_position": {},
   "toc_section_display": true,
   "toc_window_display": false
  }
 },
 "nbformat": 4,
 "nbformat_minor": 2
}
